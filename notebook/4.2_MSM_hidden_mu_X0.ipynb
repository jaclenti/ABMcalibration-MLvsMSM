{
 "cells": [
  {
   "cell_type": "code",
   "execution_count": 1,
   "id": "45b374a9",
   "metadata": {},
   "outputs": [],
   "source": [
    "import numpy as np\n",
    "import matplotlib.pyplot as plt\n",
    "import seaborn as sns\n",
    "import sys\n",
    "sys.path += [\"../src\"]\n",
    "import simulator_BC as sim_bc\n",
    "import simulator_BC_evidences as sim_bc_e\n",
    "import estimation_epsilon_BC as est_bc\n",
    "import jax_estimation_BC as jest_bc\n",
    "from calibrator_blackit import Calibrator #i just commented few lines of code to remove the output print\n",
    "#from black_it.calibrator import Calibrator\n",
    "import pandas as pd\n",
    "from black_it.samplers.halton import HaltonSampler\n",
    "from black_it.samplers.random_forest import RandomForestSampler\n",
    "from black_it.samplers.best_batch import BestBatchSampler\n",
    "from black_it.loss_functions.msm import MethodOfMomentsLoss\n",
    "from msm_first_moments import MethodOfMomentsLoss_4Moments, MethodOfMomentsLoss_9Moments\n",
    "from black_it.samplers.random_uniform import RandomUniformSampler\n",
    "from typing import Sequence\n",
    "import os\n",
    "import contextlib\n",
    "from scipy.special import expit\n",
    "import torch\n",
    "import importlib\n",
    "from tqdm import tqdm\n",
    "from time import time\n",
    "import calibration_simple_BC as cal_bc\n",
    "import simulator_BC_coo as sim_coo\n",
    "from scipy.special import expit as sigmoid"
   ]
  },
  {
   "cell_type": "code",
   "execution_count": null,
   "id": "425a686c",
   "metadata": {},
   "outputs": [],
   "source": []
  },
  {
   "cell_type": "code",
   "execution_count": 43,
   "id": "2ac6facd",
   "metadata": {},
   "outputs": [],
   "source": [
    "class BC_simulator_hidden_mu_X0():\n",
    "    def __init__(self, edges, N, real_mu, real_epsilon, rho = 70, seed = 1):\n",
    "        self.N = N\n",
    "        self.edges = edges.clone().long()\n",
    "        _, edge_per_t, _ = edges.shape\n",
    "        self.real_mu = real_mu\n",
    "        self.real_epsilon = real_epsilon\n",
    "        self.rho = rho\n",
    "        self.seed = seed\n",
    "        self.mean_s = np.atleast_2d(edges[:,:,2].sum(dim = 1) / edge_per_t).T\n",
    "    \n",
    "    def simulate_mean_s(self, theta, N = 200, seed = None):\n",
    "        epsilon, mu = theta\n",
    "        X = torch.rand(self.N)\n",
    "        \n",
    "        mean_s_pred = []\n",
    "        \n",
    "        \n",
    "        if seed != None:\n",
    "            np.random.seed(self.seed)\n",
    "        \n",
    "        X0, _, _ = sim_coo.intialize_simulator(None, self.N, [])\n",
    "        X_t = X0.copy()\n",
    "        diff_X = X0[:,None] - X0[None,:]\n",
    "        \n",
    "        T, edge_per_t, _ = self.edges.size()\n",
    "        \n",
    "        for t in range(T):\n",
    "            u,v,s_obs = self.edges[t].T\n",
    "            \n",
    "            s_pred = (np.random.random(edge_per_t) < sigmoid(self.rho * (epsilon - np.abs(diff_X[u,v])))) + 0.\n",
    "            new_X_t, diff_X = sim_coo.opinion_update(diff_X, X_t, u, v, s_pred, self.N, mu)\n",
    "            \n",
    "            X_t = new_X_t.copy()\n",
    "            \n",
    "            mean_s_pred.append(s_pred.mean())\n",
    "            \n",
    "            X_t  = np.clip(X_t, 10e-5, 1 - 10e-5)\n",
    "        return np.atleast_2d(mean_s_pred).T\n",
    "\n",
    "def calibrate_epsilon_BC_hidden_mu_X0(simulator, plot_loss = True, calibration_batches = 100, ensemble_size = 3,\n",
    "                                   sampler = HaltonSampler, loss = MethodOfMomentsLoss(), batch_size = 1, compare_all_s = False,\n",
    "                                   parameters_bounds = [[0., 0.], [0.5, 1.]], precisions = [0.0001, 0.01], return_time = False):\n",
    "    \n",
    "    t0 = time()\n",
    "    model = simulator.simulate_mean_s\n",
    "    real_data = simulator.mean_s\n",
    "    \n",
    "    samplers = [sampler(batch_size)]\n",
    "\n",
    "\n",
    "    BC_cal = Calibrator(real_data = real_data,\n",
    "                        samplers = samplers,\n",
    "                        loss_function = loss,\n",
    "                        model = model,\n",
    "                        parameters_bounds = parameters_bounds,\n",
    "                        parameters_precision = precisions,\n",
    "                        ensemble_size = ensemble_size,\n",
    "                        saving_folder = None,\n",
    "                        verbose = False,\n",
    "                        n_jobs = 1#'initial_state'\n",
    "                       )\n",
    "    \n",
    "    \n",
    "    params, losses = BC_cal.calibrate(calibration_batches)\n",
    "    epsilon_sim, mu_sim = params.T\n",
    "    \n",
    "    loss_df = pd.DataFrame({\"epsilon\": epsilon_sim, \"mu\": mu_sim, \"loss\": losses}).sort_values(\"loss\")\n",
    "    \n",
    "    \n",
    "\n",
    "    estimated_epsilon, estimated_mu, _ = loss_df.iloc[0]\n",
    "    t1 = time()\n",
    "    calibration = {\"loss\": loss_df, \"estimation\": (estimated_epsilon, estimated_mu)}\n",
    "    \n",
    "    if return_time:\n",
    "        calibration[\"time\"] = t1-t0\n",
    "    \n",
    "    return calibration\n"
   ]
  },
  {
   "cell_type": "code",
   "execution_count": 44,
   "id": "ef711bd7",
   "metadata": {},
   "outputs": [],
   "source": [
    "N, T, edge_per_t = 100, 100, 1\n",
    "epsilon, mu = 0.2, 0.2\n",
    "\n",
    "calibration_batches = 100\n",
    "\n",
    "\n",
    "X, edges = sim_coo.simulator_BC_np_coo(N, T, edge_per_t, epsilon, mu, with_evidences = False, rho = 70)\n",
    "\n",
    "simulator = BC_simulator_hidden_mu_X0(edges, N, mu, epsilon, rho = 70)\n",
    "\n",
    "\n",
    "calibrated_epsilon = calibrate_epsilon_BC_hidden_mu_X0(simulator, calibration_batches = calibration_batches,\n",
    "                                                      loss = MethodOfMomentsLoss_9Moments(),\n",
    "                                                      ensemble_size = 1, return_time = True)\n"
   ]
  },
  {
   "cell_type": "code",
   "execution_count": null,
   "id": "d85ed608",
   "metadata": {},
   "outputs": [],
   "source": []
  },
  {
   "cell_type": "code",
   "execution_count": 45,
   "id": "5ac1a536",
   "metadata": {},
   "outputs": [
    {
     "data": {
      "text/plain": [
       "<AxesSubplot:xlabel='epsilon', ylabel='loss'>"
      ]
     },
     "execution_count": 45,
     "metadata": {},
     "output_type": "execute_result"
    },
    {
     "data": {
      "image/png": "[encoded data removed]",
      "text/plain": [
       "<Figure size 640x480 with 1 Axes>"
      ]
     },
     "metadata": {},
     "output_type": "display_data"
    }
   ],
   "source": [
    "sns.lineplot(data = calibrated_epsilon[\"loss\"], x = \"epsilon\", y = \"loss\")"
   ]
  },
  {
   "cell_type": "code",
   "execution_count": 57,
   "id": "13d9af44",
   "metadata": {},
   "outputs": [],
   "source": [
    "def repeat_simulations_random(tot_simulations, T_list, N_list, edge_per_t_list, epsilon_list, mu_list,\n",
    "                              ensemble_size_list, calibration_batches_list, sum_ab_list, evidences_per_t_list,\n",
    "                              verbose = True):\n",
    "    \n",
    "    simulations = []\n",
    "    for _ in tqdm(range(tot_simulations), disable = not verbose):\n",
    "        np.random.seed(_ + 40)\n",
    "        T, N, edge_per_t, epsilon, mu, ensemble_size,\\\n",
    "        calibration_batches, sum_ab, evidences_per_t = np.random.choice(T_list), np.random.choice(N_list),\\\n",
    "        np.random.choice(edge_per_t_list), np.random.choice(epsilon_list), np.random.choice(mu_list),\\\n",
    "        np.random.choice(ensemble_size_list), np.random.choice(calibration_batches_list),\\\n",
    "        np.random.choice(sum_ab_list), np.random.choice(evidences_per_t_list)\n",
    "        \n",
    "        X, edges = sim_coo.simulator_BC_np_coo(N, T, edge_per_t, epsilon, mu, with_evidences = False, rho = 70)\n",
    "        \n",
    "        simulator = BC_simulator_hidden_mu_X0(edges, N, mu, epsilon, rho = 70)\n",
    "        \n",
    "        \n",
    "        calibrated_epsilon = calibrate_epsilon_BC_hidden_mu_X0(simulator, calibration_batches = calibration_batches,\n",
    "                                                            loss = MethodOfMomentsLoss_4Moments(),\n",
    "                                                            ensemble_size = 1, return_time = True)\n",
    "\n",
    "        \n",
    "        _, (epsilon_sim, mu_sim), time_sim = calibrated_epsilon.values()\n",
    "        \n",
    "        \n",
    "        simulations.append([epsilon_sim, np.abs(epsilon - epsilon_sim),mu_sim, np.abs(mu - mu_sim),\\\n",
    "                            time_sim, epsilon, mu, T, N, edge_per_t, ensemble_size,\\\n",
    "                            calibration_batches])\n",
    "        \n",
    "                    \n",
    "    return pd.DataFrame(simulations, columns = [\"epsilon\", \"distance_epsilon\", \"mu\", \"distance_mu\",\\\n",
    "                            \"time\", \"real_epsilon\", \"real_mu\", \"T\", \"N\", \"edge_per_t\", \"ensemble_size\",\\\n",
    "                            \"calibration_batches\"])"
   ]
  },
  {
   "cell_type": "code",
   "execution_count": 60,
   "id": "61a5fec9",
   "metadata": {
    "collapsed": true
   },
   "outputs": [
    {
     "name": "stderr",
     "output_type": "stream",
     "text": [
      "  1%|▌                                                                  | 3/400 [00:35<1:17:54, 11.78s/it]/home/jacopo.lenti/miniconda3/envs/learning-od-step-by-step/lib/python3.9/site-packages/statsmodels/tsa/stattools.py:681: RuntimeWarning: invalid value encountered in divide\n",
      "  acf = avf[: nlags + 1] / avf[0]\n",
      "100%|█████████████████████████████████████████████████████████████████| 400/400 [1:39:49<00:00, 14.97s/it]\n"
     ]
    }
   ],
   "source": [
    "T_list = [100] \n",
    "N_list = [100]\n",
    "edge_per_t_list = [1,4,8,16]\n",
    "epsilon_list = np.arange(0.01, 0.49, 0.04) \n",
    "mu_list = np.arange(0.04, 0.99, 0.08)\n",
    "ensemble_size_list = [1]\n",
    "calibration_batches_list = [200]\n",
    "evidences_per_t_list = [5,10,20,40]\n",
    "sum_ab_list = [0.1, 1, 10]\n",
    "\n",
    "\n",
    "\n",
    "calibrations_df_fixed = repeat_simulations_random(400, T_list, N_list, edge_per_t_list, epsilon_list, mu_list,\n",
    "                                                  ensemble_size_list, calibration_batches_list,\n",
    "                                                  sum_ab_list, evidences_per_t_list, \n",
    "                                                  verbose = True)\n"
   ]
  },
  {
   "cell_type": "code",
   "execution_count": 78,
   "id": "8861d885",
   "metadata": {},
   "outputs": [],
   "source": []
  },
  {
   "cell_type": "code",
   "execution_count": 77,
   "id": "01a59b7e",
   "metadata": {},
   "outputs": [],
   "source": [
    "#calibrations_df_fixed.to_csv(\"../data/calibrations_hidden_mu_X0_230619.csv\")\n",
    "calibrations_df_fixed = pd.read_csv(\"../data/calibrations_hidden_mu_X0_230619.csv\", index_col = 0)"
   ]
  },
  {
   "cell_type": "code",
   "execution_count": 84,
   "id": "63d65cef",
   "metadata": {},
   "outputs": [
    {
     "data": {
      "text/html": [
       "<div>\n",
       "<style scoped>\n",
       "    .dataframe tbody tr th:only-of-type {\n",
       "        vertical-align: middle;\n",
       "    }\n",
       "\n",
       "    .dataframe tbody tr th {\n",
       "        vertical-align: top;\n",
       "    }\n",
       "\n",
       "    .dataframe thead th {\n",
       "        text-align: right;\n",
       "    }\n",
       "</style>\n",
       "<table border=\"1\" class=\"dataframe\">\n",
       "  <thead>\n",
       "    <tr style=\"text-align: right;\">\n",
       "      <th></th>\n",
       "      <th>epsilon</th>\n",
       "      <th>distance_epsilon</th>\n",
       "      <th>mu</th>\n",
       "      <th>distance_mu</th>\n",
       "      <th>time</th>\n",
       "      <th>real_epsilon</th>\n",
       "      <th>real_mu</th>\n",
       "      <th>T</th>\n",
       "      <th>N</th>\n",
       "      <th>edge_per_t</th>\n",
       "      <th>ensemble_size</th>\n",
       "      <th>calibration_batches</th>\n",
       "    </tr>\n",
       "  </thead>\n",
       "  <tbody>\n",
       "    <tr>\n",
       "      <th>68</th>\n",
       "      <td>0.4932</td>\n",
       "      <td>0.2032</td>\n",
       "      <td>0.97</td>\n",
       "      <td>0.85</td>\n",
       "      <td>25.674859</td>\n",
       "      <td>0.29</td>\n",
       "      <td>0.12</td>\n",
       "      <td>100</td>\n",
       "      <td>100</td>\n",
       "      <td>16</td>\n",
       "      <td>1</td>\n",
       "      <td>200</td>\n",
       "    </tr>\n",
       "    <tr>\n",
       "      <th>17</th>\n",
       "      <td>0.4354</td>\n",
       "      <td>0.1854</td>\n",
       "      <td>0.94</td>\n",
       "      <td>0.50</td>\n",
       "      <td>17.146499</td>\n",
       "      <td>0.25</td>\n",
       "      <td>0.44</td>\n",
       "      <td>100</td>\n",
       "      <td>100</td>\n",
       "      <td>16</td>\n",
       "      <td>1</td>\n",
       "      <td>200</td>\n",
       "    </tr>\n",
       "    <tr>\n",
       "      <th>249</th>\n",
       "      <td>0.3038</td>\n",
       "      <td>0.1338</td>\n",
       "      <td>0.95</td>\n",
       "      <td>0.75</td>\n",
       "      <td>12.889267</td>\n",
       "      <td>0.17</td>\n",
       "      <td>0.20</td>\n",
       "      <td>100</td>\n",
       "      <td>100</td>\n",
       "      <td>16</td>\n",
       "      <td>1</td>\n",
       "      <td>200</td>\n",
       "    </tr>\n",
       "    <tr>\n",
       "      <th>247</th>\n",
       "      <td>0.3182</td>\n",
       "      <td>0.1318</td>\n",
       "      <td>0.74</td>\n",
       "      <td>0.18</td>\n",
       "      <td>13.175302</td>\n",
       "      <td>0.45</td>\n",
       "      <td>0.92</td>\n",
       "      <td>100</td>\n",
       "      <td>100</td>\n",
       "      <td>16</td>\n",
       "      <td>1</td>\n",
       "      <td>200</td>\n",
       "    </tr>\n",
       "    <tr>\n",
       "      <th>372</th>\n",
       "      <td>0.3416</td>\n",
       "      <td>0.1316</td>\n",
       "      <td>0.84</td>\n",
       "      <td>0.64</td>\n",
       "      <td>14.254174</td>\n",
       "      <td>0.21</td>\n",
       "      <td>0.20</td>\n",
       "      <td>100</td>\n",
       "      <td>100</td>\n",
       "      <td>8</td>\n",
       "      <td>1</td>\n",
       "      <td>200</td>\n",
       "    </tr>\n",
       "    <tr>\n",
       "      <th>253</th>\n",
       "      <td>0.1683</td>\n",
       "      <td>0.1217</td>\n",
       "      <td>0.22</td>\n",
       "      <td>0.14</td>\n",
       "      <td>13.493742</td>\n",
       "      <td>0.29</td>\n",
       "      <td>0.36</td>\n",
       "      <td>100</td>\n",
       "      <td>100</td>\n",
       "      <td>8</td>\n",
       "      <td>1</td>\n",
       "      <td>200</td>\n",
       "    </tr>\n",
       "    <tr>\n",
       "      <th>33</th>\n",
       "      <td>0.2088</td>\n",
       "      <td>0.1188</td>\n",
       "      <td>0.49</td>\n",
       "      <td>0.35</td>\n",
       "      <td>12.432363</td>\n",
       "      <td>0.09</td>\n",
       "      <td>0.84</td>\n",
       "      <td>100</td>\n",
       "      <td>100</td>\n",
       "      <td>8</td>\n",
       "      <td>1</td>\n",
       "      <td>200</td>\n",
       "    </tr>\n",
       "    <tr>\n",
       "      <th>360</th>\n",
       "      <td>0.4880</td>\n",
       "      <td>0.1180</td>\n",
       "      <td>0.30</td>\n",
       "      <td>0.02</td>\n",
       "      <td>8.016997</td>\n",
       "      <td>0.37</td>\n",
       "      <td>0.28</td>\n",
       "      <td>100</td>\n",
       "      <td>100</td>\n",
       "      <td>1</td>\n",
       "      <td>1</td>\n",
       "      <td>200</td>\n",
       "    </tr>\n",
       "    <tr>\n",
       "      <th>357</th>\n",
       "      <td>0.0532</td>\n",
       "      <td>0.1168</td>\n",
       "      <td>0.73</td>\n",
       "      <td>0.11</td>\n",
       "      <td>12.171659</td>\n",
       "      <td>0.17</td>\n",
       "      <td>0.84</td>\n",
       "      <td>100</td>\n",
       "      <td>100</td>\n",
       "      <td>16</td>\n",
       "      <td>1</td>\n",
       "      <td>200</td>\n",
       "    </tr>\n",
       "    <tr>\n",
       "      <th>84</th>\n",
       "      <td>0.1657</td>\n",
       "      <td>0.1157</td>\n",
       "      <td>0.70</td>\n",
       "      <td>0.10</td>\n",
       "      <td>19.554155</td>\n",
       "      <td>0.05</td>\n",
       "      <td>0.60</td>\n",
       "      <td>100</td>\n",
       "      <td>100</td>\n",
       "      <td>8</td>\n",
       "      <td>1</td>\n",
       "      <td>200</td>\n",
       "    </tr>\n",
       "    <tr>\n",
       "      <th>291</th>\n",
       "      <td>0.2595</td>\n",
       "      <td>0.1105</td>\n",
       "      <td>0.25</td>\n",
       "      <td>0.11</td>\n",
       "      <td>10.456502</td>\n",
       "      <td>0.37</td>\n",
       "      <td>0.36</td>\n",
       "      <td>100</td>\n",
       "      <td>100</td>\n",
       "      <td>1</td>\n",
       "      <td>1</td>\n",
       "      <td>200</td>\n",
       "    </tr>\n",
       "    <tr>\n",
       "      <th>3</th>\n",
       "      <td>0.1159</td>\n",
       "      <td>0.1059</td>\n",
       "      <td>0.71</td>\n",
       "      <td>0.59</td>\n",
       "      <td>9.979711</td>\n",
       "      <td>0.01</td>\n",
       "      <td>0.12</td>\n",
       "      <td>100</td>\n",
       "      <td>100</td>\n",
       "      <td>1</td>\n",
       "      <td>1</td>\n",
       "      <td>200</td>\n",
       "    </tr>\n",
       "    <tr>\n",
       "      <th>210</th>\n",
       "      <td>0.3043</td>\n",
       "      <td>0.1057</td>\n",
       "      <td>0.71</td>\n",
       "      <td>0.67</td>\n",
       "      <td>23.359009</td>\n",
       "      <td>0.41</td>\n",
       "      <td>0.04</td>\n",
       "      <td>100</td>\n",
       "      <td>100</td>\n",
       "      <td>8</td>\n",
       "      <td>1</td>\n",
       "      <td>200</td>\n",
       "    </tr>\n",
       "  </tbody>\n",
       "</table>\n",
       "</div>"
      ],
      "text/plain": [
       "     epsilon  distance_epsilon    mu  distance_mu       time  real_epsilon  \\\n",
       "68    0.4932            0.2032  0.97         0.85  25.674859          0.29   \n",
       "17    0.4354            0.1854  0.94         0.50  17.146499          0.25   \n",
       "249   0.3038            0.1338  0.95         0.75  12.889267          0.17   \n",
       "247   0.3182            0.1318  0.74         0.18  13.175302          0.45   \n",
       "372   0.3416            0.1316  0.84         0.64  14.254174          0.21   \n",
       "253   0.1683            0.1217  0.22         0.14  13.493742          0.29   \n",
       "33    0.2088            0.1188  0.49         0.35  12.432363          0.09   \n",
       "360   0.4880            0.1180  0.30         0.02   8.016997          0.37   \n",
       "357   0.0532            0.1168  0.73         0.11  12.171659          0.17   \n",
       "84    0.1657            0.1157  0.70         0.10  19.554155          0.05   \n",
       "291   0.2595            0.1105  0.25         0.11  10.456502          0.37   \n",
       "3     0.1159            0.1059  0.71         0.59   9.979711          0.01   \n",
       "210   0.3043            0.1057  0.71         0.67  23.359009          0.41   \n",
       "\n",
       "     real_mu    T    N  edge_per_t  ensemble_size  calibration_batches  \n",
       "68      0.12  100  100          16              1                  200  \n",
       "17      0.44  100  100          16              1                  200  \n",
       "249     0.20  100  100          16              1                  200  \n",
       "247     0.92  100  100          16              1                  200  \n",
       "372     0.20  100  100           8              1                  200  \n",
       "253     0.36  100  100           8              1                  200  \n",
       "33      0.84  100  100           8              1                  200  \n",
       "360     0.28  100  100           1              1                  200  \n",
       "357     0.84  100  100          16              1                  200  \n",
       "84      0.60  100  100           8              1                  200  \n",
       "291     0.36  100  100           1              1                  200  \n",
       "3       0.12  100  100           1              1                  200  \n",
       "210     0.04  100  100           8              1                  200  "
      ]
     },
     "execution_count": 84,
     "metadata": {},
     "output_type": "execute_result"
    }
   ],
   "source": [
    "#calibrations_df_fixed = calibrations_df_fixed.rename(columns = {\"epsilon\": \"params\", \"distance_epsilon\": \"distances\"})\\\n",
    "#.assign(epsilon = lambda x: [u[0] for u in x[\"params\"]],\n",
    "#        mu = lambda x: [u[1] for u in x[\"params\"]],\n",
    "#        distance_epsilon = lambda x: [u[0] for u in x[\"distances\"]],\n",
    "#        distance_mu = lambda x: [u[1] for u in x[\"distances\"]]\n",
    "#       ).drop([\"params\", \"distances\"], axis = 1)\"\"\"\n",
    "\n",
    "calibrations_df_fixed.sort_values(\"distance_epsilon\", ascending = False).head(13)"
   ]
  },
  {
   "cell_type": "code",
   "execution_count": 67,
   "id": "df146428",
   "metadata": {},
   "outputs": [
    {
     "data": {
      "text/plain": [
       "time                14.924549\n",
       "distance_epsilon     0.033441\n",
       "distance_mu          0.303400\n",
       "dtype: float64"
      ]
     },
     "execution_count": 67,
     "metadata": {},
     "output_type": "execute_result"
    }
   ],
   "source": [
    "calibrations_df_fixed[[\"time\", \"distance_epsilon\", \"distance_mu\"]].mean()"
   ]
  },
  {
   "cell_type": "code",
   "execution_count": 68,
   "id": "555b6ddf",
   "metadata": {},
   "outputs": [
    {
     "data": {
      "text/plain": [
       "<AxesSubplot:ylabel='distance_mu'>"
      ]
     },
     "execution_count": 68,
     "metadata": {},
     "output_type": "execute_result"
    },
    {
     "data": {
      "image/png": "[encoded data removed]",
      "text/plain": [
       "<Figure size 640x480 with 2 Axes>"
      ]
     },
     "metadata": {},
     "output_type": "display_data"
    }
   ],
   "source": [
    "fig, axes = plt.subplots(ncols = 2)\n",
    "sns.violinplot(y = calibrations_df_fixed[\"distance_epsilon\"], ax = axes[0])\n",
    "sns.violinplot(y = calibrations_df_fixed[\"distance_mu\"], ax = axes[1])"
   ]
  },
  {
   "cell_type": "code",
   "execution_count": 72,
   "id": "bed05612",
   "metadata": {},
   "outputs": [
    {
     "data": {
      "text/plain": [
       "<AxesSubplot:xlabel='edge_per_t', ylabel='distance_epsilon'>"
      ]
     },
     "execution_count": 72,
     "metadata": {},
     "output_type": "execute_result"
    },
    {
     "data": {
      "image/png": "[encoded data removed]",
      "text/plain": [
       "<Figure size 640x480 with 1 Axes>"
      ]
     },
     "metadata": {},
     "output_type": "display_data"
    }
   ],
   "source": [
    "fig, axes = plt.subplots()\n",
    "\n",
    "sns.violinplot(data = calibrations_df_fixed, x = \"edge_per_t\", y = \"distance_epsilon\", ax = axes)"
   ]
  },
  {
   "cell_type": "code",
   "execution_count": 83,
   "id": "4894ac9b",
   "metadata": {
    "scrolled": true
   },
   "outputs": [
    {
     "data": {
      "text/plain": [
       "edge_per_t\n",
       "1     0.037326\n",
       "4     0.027244\n",
       "8     0.035096\n",
       "16    0.033734\n",
       "Name: distance_epsilon, dtype: float64"
      ]
     },
     "execution_count": 83,
     "metadata": {},
     "output_type": "execute_result"
    }
   ],
   "source": [
    "calibrations_df_fixed.groupby(\"edge_per_t\").mean()[\"distance_epsilon\"]"
   ]
  },
  {
   "cell_type": "code",
   "execution_count": null,
   "id": "3b81476f",
   "metadata": {},
   "outputs": [],
   "source": []
  }
 ],
 "metadata": {
  "kernelspec": {
   "display_name": "Python 3 (ipykernel)",
   "language": "python",
   "name": "python3"
  },
  "language_info": {
   "codemirror_mode": {
    "name": "ipython",
    "version": 3
   },
   "file_extension": ".py",
   "mimetype": "text/x-python",
   "name": "python",
   "nbconvert_exporter": "python",
   "pygments_lexer": "ipython3",
   "version": "3.9.12"
  }
 },
 "nbformat": 4,
 "nbformat_minor": 5
}

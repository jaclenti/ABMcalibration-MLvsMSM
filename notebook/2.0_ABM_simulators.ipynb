{
 "cells": [
  {
   "cell_type": "markdown",
   "id": "d8d3651f",
   "metadata": {},
   "source": [
    "# ABM simulators\n",
    "In this notebook we define the simulator of the bounded confidence model fitting the formalism of `blackit` package.\n",
    "\n",
    "This will be used for MSM calibration of $\\epsilon$ parameter.\n",
    "MSM is a simulation-based technique. \n",
    "- the parameter is sampled under a sampling scheme\n",
    "- the simulation is run with the selected parameter\n",
    "- a distance measure is compute between the observed time series and the simulated time series\n",
    "- the previous steps are repeated a given number of times\n",
    "- the estimate of the parameter is the one that minimized the distance measure between observed and simulated traces"
   ]
  },
  {
   "cell_type": "code",
   "execution_count": 1,
   "id": "992e6b40",
   "metadata": {},
   "outputs": [],
   "source": [
    "import numpy as np\n",
    "import sys\n",
    "sys.path += [\"../src\"]\n",
    "import torch\n",
    "import simulator_opinion_dynamics as sod\n",
    "from scipy.special import expit as sigmoid"
   ]
  },
  {
   "cell_type": "markdown",
   "id": "3361bc58",
   "metadata": {},
   "source": [
    "### Full Observed BCM"
   ]
  },
  {
   "cell_type": "code",
   "execution_count": 2,
   "id": "ec06c79d",
   "metadata": {},
   "outputs": [],
   "source": [
    "class FBCM_simulator():\n",
    "    def __init__(self, X0, edges, N, mu, real_epsilon, rho = 16, seed = 1):\n",
    "        self.X0 = X0\n",
    "        self.N = N\n",
    "        self.edges = edges.clone().long()\n",
    "        _, self.edge_per_t, _ = edges.shape\n",
    "        self.mu = mu\n",
    "        self.real_epsilon = real_epsilon\n",
    "        self.rho = rho\n",
    "        self.seed = seed\n",
    "        # self.ts is the time series of the proportion of signs s (the 3rd column of edges)\n",
    "        # the calibrator will compare the real ts with the simulated ts\n",
    "        self.ts = np.atleast_2d(edges[:,:,2].sum(dim = 1) / edge_per_t).T\n",
    "    \n",
    "    def simulate_ts(self, theta, N = 200, seed = None):\n",
    "        epsilon, = theta\n",
    "        mean_s_pred = []\n",
    "        \n",
    "        \n",
    "        if seed != None:\n",
    "            np.random.seed(self.seed)\n",
    "        \n",
    "        X_t = self.X0.clone()\n",
    "        \n",
    "        diff_X = self.X0[:,None] - self.X0[None,:]\n",
    "        \n",
    "        T, edge_per_t, _ = self.edges.size()\n",
    "        \n",
    "        for t in range(T):\n",
    "            u,v,s_obs = self.edges[t].T\n",
    "            \n",
    "            s_pred = (torch.rand(self.edge_per_t) < torch.sigmoid(self.rho * (epsilon - torch.abs(diff_X[u,v])))) + 0.\n",
    "            mean_s_pred.append(s_pred.mean())\n",
    "            \n",
    "            X_t, diff_X = sod.opinion_update_BC(diff_X, X_t, self.edges[t], self.N, (epsilon, self.mu, self.rho))\n",
    "            \n",
    "        return np.atleast_2d(mean_s_pred).T\n",
    "    "
   ]
  },
  {
   "cell_type": "code",
   "execution_count": 3,
   "id": "43ef87aa",
   "metadata": {},
   "outputs": [],
   "source": [
    "N, T, edge_per_t = 100, 256, 4\n",
    "evidences_per_t = 4\n",
    "epsilon, mu, rho = 0.35, 0.4, 16\n",
    "\n",
    "X, edges, evidences = sod.simulate_BC(N, T, edge_per_t, evidences_per_t, (epsilon, mu, rho), seed = 34945)"
   ]
  },
  {
   "cell_type": "code",
   "execution_count": 4,
   "id": "de8d4b10",
   "metadata": {},
   "outputs": [],
   "source": [
    "fbcm_simulator = FBCM_simulator(X[0], edges, N, mu, epsilon, rho)"
   ]
  },
  {
   "cell_type": "code",
   "execution_count": 5,
   "id": "25f8602d",
   "metadata": {
    "scrolled": true
   },
   "outputs": [],
   "source": [
    "s_simulated = fbcm_simulator.simulate_ts(theta = [0.2])"
   ]
  },
  {
   "cell_type": "markdown",
   "id": "7eb86fa3",
   "metadata": {},
   "source": [
    "### Partially Observed BCM"
   ]
  },
  {
   "cell_type": "code",
   "execution_count": 6,
   "id": "259c7e9a",
   "metadata": {},
   "outputs": [],
   "source": [
    "class PBCM_simulator():\n",
    "    def __init__(self, X0, edges, N, mu, real_epsilon, rho = 16, seed = 1, sample_all_edges = True):\n",
    "        self.X0 = X0\n",
    "        self.N = N\n",
    "        self.edges = edges.clone().long()\n",
    "        T_, self.edge_per_t, _ = edges.shape\n",
    "        self.T = T_ + 1\n",
    "        self.mu = mu\n",
    "        self.real_epsilon = real_epsilon\n",
    "        self.rho = rho\n",
    "        self.seed = seed\n",
    "        self.ts = np.atleast_2d(edges[:,:,2].sum(dim = 1) / self.edge_per_t).T\n",
    "        self.s_edges = edges[:,:,2]\n",
    "        \n",
    "        self.sample_all_edges = sample_all_edges\n",
    "    \n",
    "    def simulate_ts(self, theta, N = 200, seed = None):\n",
    "        epsilon, = theta\n",
    "        mean_s_pred = []\n",
    "        \n",
    "        \n",
    "        if seed != None:\n",
    "            np.random.seed(self.seed)\n",
    "        \n",
    "        X_t = self.X0.clone()\n",
    "        diff_X = self.X0[:,None] - self.X0[None,:]\n",
    "        \n",
    "        \n",
    "        for t in range(self.T - 1):\n",
    "            edges_t = self.edges[t]\n",
    "            random_edges_t = torch.randint(low = 0, high = self.N, size = (self.edge_per_t, 2))#, dtype = torch.float32)\n",
    "            mask = edges_t[:,2] == 0\n",
    "            edges_t[mask, :2] = random_edges_t[mask]\n",
    "            \n",
    "            u,v,s_obs = edges_t.T\n",
    "            \n",
    "            if self.sample_all_edges:\n",
    "                u,v = random_edges_t.T\n",
    "            else:\n",
    "                u,v = edges_t.T[:2,:]\n",
    "\n",
    "            s_pred = (torch.rand(self.edge_per_t) < torch.sigmoid(self.rho * (epsilon - torch.abs(diff_X[u,v])))) + 0.\n",
    "            mean_s_pred.append(s_pred.mean().item())\n",
    "            \n",
    "            X_t, diff_X = sod.opinion_update_BC(diff_X, X_t, self.edges[t], self.N, (epsilon, self.mu, self.rho))\n",
    "            \n",
    "        return np.atleast_2d(mean_s_pred).T\n",
    "\n",
    "    "
   ]
  },
  {
   "cell_type": "code",
   "execution_count": 7,
   "id": "ab6e0fb3",
   "metadata": {},
   "outputs": [],
   "source": [
    "pbcm_simulator = PBCM_simulator(X[0], edges, N, mu, epsilon, rho)\n",
    "\n",
    "s_simulated = pbcm_simulator.simulate_ts(theta = [0.2])"
   ]
  },
  {
   "cell_type": "markdown",
   "id": "dad63e04",
   "metadata": {},
   "source": [
    "### Noisy observations BCM\n",
    "In this case, the opinions are latent. \n",
    "So, at each step, we need to sample uniformly the opinions of the agents. \n",
    "\n",
    "We want to compare the outcomes of the interactions (s) and the proxies of the opinions.\n",
    "So, the observed and simulated time series we'll compare have three dimensions. (1) the signs of the interactions (s), (2) the mean of the sampled proxies of the opinions, (3) the variance of the sampled proxies of the opinions."
   ]
  },
  {
   "cell_type": "code",
   "execution_count": 8,
   "id": "53b79599",
   "metadata": {},
   "outputs": [],
   "source": [
    "class NBCM_simulator():\n",
    "    def __init__(self, N, edges, evidences, mu, real_epsilon, evidence_distribution = \"bernoulli\", \n",
    "                 sum_ab = 1, rho = 16, seed = 1):\n",
    "        T, edge_per_t, _ = edges.shape\n",
    "        self.evidence_distribution = evidence_distribution\n",
    "        self.evidences_per_t = len(evidences[0][0])\n",
    "        self.T = T\n",
    "        self.edge_per_t = edge_per_t\n",
    "        self.N = N\n",
    "        self.evidences = evidences\n",
    "        self.edges = edges.clone().long()\n",
    "        self.sum_ab = sum_ab\n",
    "        self.mu = mu\n",
    "        self.real_epsilon = real_epsilon\n",
    "        self.rho = rho\n",
    "        self.seed = seed\n",
    "        #the time series used in the comparison takes into account the signs, the mean and the variances of the evidences (proxies of the opinions)\n",
    "        self.ts = np.atleast_2d([(torch.mean(evidences[t][1]).item(),\n",
    "                                  torch.var(evidences[t][1]).item(),\n",
    "                                  edges[t,:,2].sum() / edge_per_t) for t in range(T)])\n",
    "    \n",
    "    def simulate_ts(self, theta, N = 200, seed = None):\n",
    "        epsilon, = theta\n",
    "        \n",
    "        mean_ev_pred, var_ev_pred, mean_s_pred = [], [], []\n",
    "        \n",
    "        if seed != None:\n",
    "            np.random.seed(self.seed)\n",
    "        \n",
    "        X0 = torch.rand(self.N)\n",
    "        X_t = X0.clone()\n",
    "        diff_X = X0[:,None] - X0[None,:]\n",
    "        \n",
    "        for t in range(self.T):\n",
    "            u,v,s_obs = self.edges[t].T\n",
    "            \n",
    "            s_pred = (torch.rand(self.edge_per_t) < torch.sigmoid(self.rho * (epsilon - torch.abs(diff_X[u,v])))) + 0.\n",
    "            X_t, diff_X = sod.opinion_update_BC(diff_X, X_t, self.edges[t], self.N, (epsilon, self.mu, self.rho))\n",
    "            \n",
    "            u_evidences = self.evidences[t][0]\n",
    "            \n",
    "            if self.evidence_distribution == \"beta\":\n",
    "                a,b = self.sum_ab * (X_t[u_evidences]), self.sum_ab * (1 - (X_t[u_evidences]))\n",
    "                evidences_t = Beta(torch.Tensor(a), torch.Tensor(b)).sample()\n",
    "                mean_ev_pred.append(torch.mean(evidences_t).item())\n",
    "                var_ev_pred.append(torch.var(evidences_t).item())\n",
    "            \n",
    "            if self.evidence_distribution == \"bernoulli\":\n",
    "                evidences_t = (torch.rand(self.evidences_per_t) < X_t[u_evidences]) + 0.\n",
    "                mean_ev_pred.append(torch.mean(evidences_t))\n",
    "                var_ev_pred.append(torch.var(evidences_t))\n",
    "            \n",
    "            \n",
    "            mean_s_pred.append(s_pred.mean())\n",
    "        \n",
    "        return np.atleast_2d([mean_ev_pred, var_ev_pred, mean_s_pred]).T"
   ]
  },
  {
   "cell_type": "code",
   "execution_count": 9,
   "id": "725f064f",
   "metadata": {},
   "outputs": [],
   "source": [
    "nbcm_simulator = NBCM_simulator(N, edges, evidences, mu, epsilon)\n",
    "\n",
    "ts_simulated = nbcm_simulator.simulate_ts(theta = [0.2])"
   ]
  },
  {
   "cell_type": "code",
   "execution_count": null,
   "id": "73c8606f",
   "metadata": {},
   "outputs": [],
   "source": []
  }
 ],
 "metadata": {
  "kernelspec": {
   "display_name": "Python 3 (ipykernel)",
   "language": "python",
   "name": "python3"
  },
  "language_info": {
   "codemirror_mode": {
    "name": "ipython",
    "version": 3
   },
   "file_extension": ".py",
   "mimetype": "text/x-python",
   "name": "python",
   "nbconvert_exporter": "python",
   "pygments_lexer": "ipython3",
   "version": "3.9.12"
  }
 },
 "nbformat": 4,
 "nbformat_minor": 5
}

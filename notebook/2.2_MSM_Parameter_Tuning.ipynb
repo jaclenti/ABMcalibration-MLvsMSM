{
 "cells": [
  {
   "cell_type": "markdown",
   "id": "4347a1b3",
   "metadata": {},
   "source": [
    "# MSM Parameter Tuning\n",
    "In this notebook we compare the performances of MSM, tuning the number of simulations to achieve estimate, and the number of parallel simulation run.\n",
    "\n",
    "To compare the performance, we compare $|\\epsilon - \\hat{\\epsilon}|$.\n"
   ]
  },
  {
   "cell_type": "code",
   "execution_count": 1,
   "id": "edce8d48",
   "metadata": {},
   "outputs": [],
   "source": [
    "import sys\n",
    "sys.path += [\"../src\"]\n",
    "from opinion_dynamics_models_estimation import simulate_BC\n",
    "import pandas as pd\n",
    "import opinion_dynamics_models_estimation as oe\n",
    "from MSM_calibrator import calibrate_params_ABM\n",
    "from MSM_simulators import FBCM_simulator,PBCM_simulator,NBCM_simulator\n",
    "import MSM_simulators\n",
    "import numpy as np\n",
    "import matplotlib.pyplot as plt\n",
    "import seaborn as sns\n",
    "from matplotlib.colors import LogNorm, Normalize\n",
    "import repeat_function\n",
    "from scipy.special import expit as sigmoid"
   ]
  },
  {
   "cell_type": "code",
   "execution_count": 2,
   "id": "b893a33d",
   "metadata": {},
   "outputs": [],
   "source": [
    "def complete_calibration(simulator_class, X, edges, evidences, calibration_batches, N, mu, epsilon, rho):\n",
    "    if simulator_class == FBCM_simulator:\n",
    "        simulator = simulator_class(X0 = X[0], edges = edges, N = N, mu = mu, real_epsilon = epsilon, rho = rho, seed = None)\n",
    "        simulator_name = \"full_observed\"\n",
    "    elif simulator_class == PBCM_simulator:\n",
    "        simulator = simulator_class(X0 = X[0], edges = edges, N = N, mu = mu, real_epsilon = epsilon, rho = rho, seed = None)\n",
    "        simulator_name = \"partial_observed\"\n",
    "    elif simulator_class ==  NBCM_simulator:\n",
    "        simulator = simulator_class(evidences = evidences, edges = edges, N = N, mu = mu, real_epsilon = epsilon, rho = rho, seed = None)\n",
    "        simulator_name = \"noisy_observed\"\n",
    "        \n",
    "    calibration_df, time_calibration = calibrate_params_ABM(simulator, \n",
    "                                                            calibration_batches = calibration_batches)\n",
    "    \n",
    "    return {\"epsilon_msm\": calibration_df[\"epsilon\"][0], \"calibration_batches\": calibration_batches,\n",
    "            \"real_epsilon\": epsilon, \"time_calibration\": time_calibration, \"simulator_name\": simulator_name}\n",
    "\n",
    "    \n",
    "\n",
    "    "
   ]
  },
  {
   "cell_type": "code",
   "execution_count": 4,
   "id": "dc01be29",
   "metadata": {},
   "outputs": [],
   "source": [
    "nested_simulations = []\n",
    "mu = 0.1\n",
    "rho = 16\n",
    "\n",
    "for _ in range(30):\n",
    "    np.random.seed(None)\n",
    "    epsilon = np.random.random() / 2\n",
    "    \n",
    "    nested_simulations += repeat_function.nested_rep([oe.simulate_BC, \n",
    "                                                      {\"N\": 100, \"edge_per_t\": 16, \n",
    "                                                       \"evidences_per_t\": 8, \n",
    "                                                       \"parameters\": [epsilon, mu, rho]}, \n",
    "                                                      {\"T\": [32, 64, 128],},\n",
    "                                                      1], \n",
    "                                                     [\"X\", \"edges\", \"evidences\"],\n",
    "                                                     [complete_calibration, \n",
    "                                                      {\"N\": 100,\n",
    "                                                       \"mu\":mu,\n",
    "                                                       \"epsilon\":epsilon,\n",
    "                                                       \"rho\":rho, \n",
    "                                                      },\n",
    "                                                      {\n",
    "                                                       \"calibration_batches\": [25, 50, 100, 200, 400, 800],\n",
    "                                                       \"simulator_class\": [BC_simulator, BC_simulator_positive_observations, BC_simulator_X_evidences]},1],\n",
    "                                                     verbose1 = False, verbose2 = True\n",
    "                               )\n",
    "    msm_tuning = pd.DataFrame(nested_simulations).assign(distance_epsilon = lambda x: np.abs(x[\"epsilon_msm\"] - x[\"real_epsilon\"]))\\\n",
    "    .drop([\"parameters\", \"simulator_class\"], axis = 1)\n",
    "    #msm_tuning.to_csv(f\"../data/tuning_calibration_batches_all_simulators_230801.csv\", index = None)"
   ]
  },
  {
   "cell_type": "code",
   "execution_count": 5,
   "id": "2e0506cb",
   "metadata": {},
   "outputs": [],
   "source": [
    "msm_tuning  = pd.read_csv(f\"../data/tuning_calibration_batches_all_simulators_230801.csv\")"
   ]
  },
  {
   "cell_type": "markdown",
   "id": "be90db8d",
   "metadata": {},
   "source": [
    "Since the estimation time increase linearly with the number of simulations (calibration_batches), we have to choose the number of simulations with a time-accuracy trade-off.\n",
    "\n",
    "In the plot we can observe a significant increase of performances until 200, that is our choice for the next experiments."
   ]
  },
  {
   "cell_type": "code",
   "execution_count": 10,
   "id": "8f1af722",
   "metadata": {},
   "outputs": [
    {
     "data": {
      "image/png": "[encoded data removed]",
      "text/plain": [
       "<Figure size 1000x300 with 1 Axes>"
      ]
     },
     "metadata": {},
     "output_type": "display_data"
    }
   ],
   "source": [
    "short_model_names = [\"BCM-F\", \"BCM-P\", \"BCM-N\"]\n",
    "\n",
    "plt.rcParams[\"mathtext.fontset\"] = \"cm\"\n",
    "fig, axes = plt.subplots(ncols = 1, nrows = 1, figsize = (10, 3))\n",
    "\n",
    "sns.lineplot(data = msm_tuning, x = \"calibration_batches\", \n",
    "             hue = \"simulator_name\", y =  \"distance_epsilon\", \n",
    "             palette = \"Paired\", err_style = \"bars\",\n",
    "             err_kws = {\"capsize\": 6})\n",
    "\n",
    "axes.set_ylim(0, 0.122)\n",
    "\n",
    "cols, _ = axes.get_legend_handles_labels()\n",
    "#axes.legend(cols, model_names, loc = \"lower right\")\n",
    "axes.legend(cols, short_model_names, loc = \"lower right\")\n",
    "axes.set_ylabel(r\"Error $\\vert \\hat{\\epsilon} - \\epsilon \\vert$\")\n",
    "axes.set_xlabel(\"MSM Simulations\")\n",
    "    \n",
    "axes.set_xticks([25, 50, 100, 200, 400, 800])\n",
    "\n",
    "sns.despine()\n",
    "\n",
    "#fig.savefig(\"../paper/fig/tuning_msm_230809.pdf\", format = \"pdf\", bbox_inches = \"tight\")\n",
    "#fig.savefig(\"../paper/fig/tuning_msm_230809.png\", format = \"png\", bbox_inches = \"tight\")"
   ]
  },
  {
   "cell_type": "code",
   "execution_count": null,
   "id": "f832a73f",
   "metadata": {},
   "outputs": [],
   "source": []
  },
  {
   "cell_type": "code",
   "execution_count": null,
   "id": "e4466dee",
   "metadata": {},
   "outputs": [],
   "source": []
  },
  {
   "cell_type": "code",
   "execution_count": null,
   "id": "88b5b089",
   "metadata": {},
   "outputs": [],
   "source": []
  }
 ],
 "metadata": {
  "kernelspec": {
   "display_name": "Python 3 (ipykernel)",
   "language": "python",
   "name": "python3"
  },
  "language_info": {
   "codemirror_mode": {
    "name": "ipython",
    "version": 3
   },
   "file_extension": ".py",
   "mimetype": "text/x-python",
   "name": "python",
   "nbconvert_exporter": "python",
   "pygments_lexer": "ipython3",
   "version": "3.9.12"
  }
 },
 "nbformat": 4,
 "nbformat_minor": 5
}

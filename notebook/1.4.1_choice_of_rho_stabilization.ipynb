{
 "cells": [
  {
   "cell_type": "code",
   "execution_count": 2,
   "id": "94e2e98a",
   "metadata": {},
   "outputs": [],
   "source": [
    "from scipy.special import expit as sigmoid\n",
    "import numpy as np"
   ]
  },
  {
   "cell_type": "code",
   "execution_count": 3,
   "id": "2a38b18c",
   "metadata": {},
   "outputs": [],
   "source": [
    "kappa = lambda epsilon, rho, delta_x: sigmoid(rho * (epsilon - np.abs(delta_x)))"
   ]
  },
  {
   "cell_type": "markdown",
   "id": "4bbe706c",
   "metadata": {},
   "source": [
    "#### Problem with higher $\\rho$\n",
    "The problem is that it approximate to 1 higher probabilities."
   ]
  },
  {
   "cell_type": "code",
   "execution_count": 7,
   "id": "9e71cb9d",
   "metadata": {},
   "outputs": [
    {
     "data": {
      "text/plain": [
       "1.0"
      ]
     },
     "execution_count": 7,
     "metadata": {},
     "output_type": "execute_result"
    }
   ],
   "source": [
    "kappa(1, 100, 0)"
   ]
  },
  {
   "cell_type": "code",
   "execution_count": 8,
   "id": "8ba2e85c",
   "metadata": {},
   "outputs": [
    {
     "name": "stdout",
     "output_type": "stream",
     "text": [
      "0.5\n",
      "0.9999546021312976\n",
      "0.9999999979388463\n",
      "0.9999999999999065\n",
      "1.0\n",
      "1.0\n",
      "1.0\n",
      "1.0\n",
      "1.0\n",
      "1.0\n"
     ]
    }
   ],
   "source": [
    "for rho in np.arange(0, 100, 10):\n",
    "    print(kappa(1, rho, 0))"
   ]
  },
  {
   "cell_type": "code",
   "execution_count": 27,
   "id": "9774e9b3",
   "metadata": {},
   "outputs": [
    {
     "data": {
      "text/plain": [
       "[(0, False),\n",
       " (1, False),\n",
       " (2, False),\n",
       " (3, False),\n",
       " (4, True),\n",
       " (5, True),\n",
       " (6, True),\n",
       " (7, True),\n",
       " (8, True),\n",
       " (9, True)]"
      ]
     },
     "execution_count": 27,
     "metadata": {},
     "output_type": "execute_result"
    }
   ],
   "source": [
    "list(enumerate(np.isclose([sigmoid(rho) for rho in np.arange(0, 100,10)], \n",
    "                          np.repeat(1, 10), atol = 10e-30, rtol = 0)))\n"
   ]
  },
  {
   "cell_type": "markdown",
   "id": "805877e1",
   "metadata": {},
   "source": [
    "#### Current computation of the sigmoid"
   ]
  },
  {
   "cell_type": "code",
   "execution_count": 176,
   "id": "dd83b711",
   "metadata": {},
   "outputs": [],
   "source": [
    "def regular_sigmoid(x, rho):\n",
    "    return 1 / (1 + np.exp(-rho * x))"
   ]
  },
  {
   "cell_type": "code",
   "execution_count": 179,
   "id": "ed0329dd",
   "metadata": {
    "scrolled": true
   },
   "outputs": [
    {
     "data": {
      "text/plain": [
       "[(0, False),\n",
       " (1, False),\n",
       " (2, False),\n",
       " (3, False),\n",
       " (4, False),\n",
       " (5, False),\n",
       " (6, False),\n",
       " (7, False),\n",
       " (8, False),\n",
       " (9, False),\n",
       " (10, False),\n",
       " (11, False),\n",
       " (12, False),\n",
       " (13, False),\n",
       " (14, False),\n",
       " (15, False),\n",
       " (16, False),\n",
       " (17, False),\n",
       " (18, False),\n",
       " (19, False),\n",
       " (20, False),\n",
       " (21, False),\n",
       " (22, False),\n",
       " (23, False),\n",
       " (24, False),\n",
       " (25, False),\n",
       " (26, False),\n",
       " (27, False),\n",
       " (28, False),\n",
       " (29, False),\n",
       " (30, False),\n",
       " (31, False),\n",
       " (32, False),\n",
       " (33, False),\n",
       " (34, False),\n",
       " (35, False),\n",
       " (36, False),\n",
       " (37, True),\n",
       " (38, True),\n",
       " (39, True),\n",
       " (40, True),\n",
       " (41, True),\n",
       " (42, True),\n",
       " (43, True),\n",
       " (44, True),\n",
       " (45, True),\n",
       " (46, True),\n",
       " (47, True),\n",
       " (48, True),\n",
       " (49, True),\n",
       " (50, True),\n",
       " (51, True),\n",
       " (52, True),\n",
       " (53, True),\n",
       " (54, True),\n",
       " (55, True),\n",
       " (56, True),\n",
       " (57, True),\n",
       " (58, True),\n",
       " (59, True),\n",
       " (60, True),\n",
       " (61, True),\n",
       " (62, True),\n",
       " (63, True),\n",
       " (64, True),\n",
       " (65, True),\n",
       " (66, True),\n",
       " (67, True),\n",
       " (68, True),\n",
       " (69, True),\n",
       " (70, True),\n",
       " (71, True),\n",
       " (72, True),\n",
       " (73, True),\n",
       " (74, True),\n",
       " (75, True),\n",
       " (76, True),\n",
       " (77, True),\n",
       " (78, True),\n",
       " (79, True),\n",
       " (80, True),\n",
       " (81, True),\n",
       " (82, True),\n",
       " (83, True),\n",
       " (84, True),\n",
       " (85, True),\n",
       " (86, True),\n",
       " (87, True),\n",
       " (88, True),\n",
       " (89, True),\n",
       " (90, True),\n",
       " (91, True),\n",
       " (92, True),\n",
       " (93, True),\n",
       " (94, True),\n",
       " (95, True),\n",
       " (96, True),\n",
       " (97, True),\n",
       " (98, True),\n",
       " (99, True)]"
      ]
     },
     "execution_count": 179,
     "metadata": {},
     "output_type": "execute_result"
    }
   ],
   "source": [
    "list(enumerate(np.isclose([regular_sigmoid(1, rho) for rho in np.arange(0, 100,1)],\n",
    "                          np.repeat(1, 100), atol = 10e-30, rtol = 0)))\n"
   ]
  },
  {
   "cell_type": "code",
   "execution_count": 19,
   "id": "a5403289",
   "metadata": {},
   "outputs": [
    {
     "data": {
      "text/plain": [
       "(0.8807970779778825, 0.8807970779778823)"
      ]
     },
     "execution_count": 19,
     "metadata": {},
     "output_type": "execute_result"
    }
   ],
   "source": [
    "regular_sigmoid(2, 1), sigmoid(2)"
   ]
  },
  {
   "cell_type": "markdown",
   "id": "45f8bc47",
   "metadata": {},
   "source": [
    "#### Multiply and divide by $e^{\\rho x}$"
   ]
  },
  {
   "cell_type": "markdown",
   "id": "460bc138",
   "metadata": {},
   "source": [
    "We can write $\\frac{1}{1 - e^{-\\rho x}}$ as $\\frac{e^{\\rho x}}{e^{\\rho x} + 1}$"
   ]
  },
  {
   "cell_type": "code",
   "execution_count": 20,
   "id": "5198d748",
   "metadata": {},
   "outputs": [],
   "source": [
    "def mul_div_ex_sigmoid(x, rho):\n",
    "    return np.exp(rho * x) / (1 + np.exp(rho * x))"
   ]
  },
  {
   "cell_type": "code",
   "execution_count": 25,
   "id": "9f4a36d9",
   "metadata": {},
   "outputs": [
    {
     "data": {
      "text/plain": [
       "0.8807970779778824"
      ]
     },
     "execution_count": 25,
     "metadata": {},
     "output_type": "execute_result"
    }
   ],
   "source": [
    "mul_div_ex_sigmoid(2,1)"
   ]
  },
  {
   "cell_type": "code",
   "execution_count": 180,
   "id": "4698bc06",
   "metadata": {
    "scrolled": true
   },
   "outputs": [
    {
     "data": {
      "text/plain": [
       "[(0, False),\n",
       " (1, False),\n",
       " (2, False),\n",
       " (3, False),\n",
       " (4, False),\n",
       " (5, False),\n",
       " (6, False),\n",
       " (7, False),\n",
       " (8, False),\n",
       " (9, False),\n",
       " (10, False),\n",
       " (11, False),\n",
       " (12, False),\n",
       " (13, False),\n",
       " (14, False),\n",
       " (15, False),\n",
       " (16, False),\n",
       " (17, False),\n",
       " (18, False),\n",
       " (19, False),\n",
       " (20, False),\n",
       " (21, False),\n",
       " (22, False),\n",
       " (23, False),\n",
       " (24, False),\n",
       " (25, False),\n",
       " (26, False),\n",
       " (27, False),\n",
       " (28, False),\n",
       " (29, False),\n",
       " (30, False),\n",
       " (31, False),\n",
       " (32, False),\n",
       " (33, False),\n",
       " (34, False),\n",
       " (35, False),\n",
       " (36, False),\n",
       " (37, True),\n",
       " (38, True),\n",
       " (39, True),\n",
       " (40, True),\n",
       " (41, True),\n",
       " (42, True),\n",
       " (43, True),\n",
       " (44, True),\n",
       " (45, True),\n",
       " (46, True),\n",
       " (47, True),\n",
       " (48, True),\n",
       " (49, True),\n",
       " (50, True),\n",
       " (51, True),\n",
       " (52, True),\n",
       " (53, True),\n",
       " (54, True),\n",
       " (55, True),\n",
       " (56, True),\n",
       " (57, True),\n",
       " (58, True),\n",
       " (59, True),\n",
       " (60, True),\n",
       " (61, True),\n",
       " (62, True),\n",
       " (63, True),\n",
       " (64, True),\n",
       " (65, True),\n",
       " (66, True),\n",
       " (67, True),\n",
       " (68, True),\n",
       " (69, True),\n",
       " (70, True),\n",
       " (71, True),\n",
       " (72, True),\n",
       " (73, True),\n",
       " (74, True),\n",
       " (75, True),\n",
       " (76, True),\n",
       " (77, True),\n",
       " (78, True),\n",
       " (79, True),\n",
       " (80, True),\n",
       " (81, True),\n",
       " (82, True),\n",
       " (83, True),\n",
       " (84, True),\n",
       " (85, True),\n",
       " (86, True),\n",
       " (87, True),\n",
       " (88, True),\n",
       " (89, True),\n",
       " (90, True),\n",
       " (91, True),\n",
       " (92, True),\n",
       " (93, True),\n",
       " (94, True),\n",
       " (95, True),\n",
       " (96, True),\n",
       " (97, True),\n",
       " (98, True),\n",
       " (99, True)]"
      ]
     },
     "execution_count": 180,
     "metadata": {},
     "output_type": "execute_result"
    }
   ],
   "source": [
    "list(enumerate(np.isclose([mul_div_ex_sigmoid(1, rho) for rho in np.arange(0, 100,1)],\n",
    "                          np.repeat(1, 100), atol = 10e-30, rtol = 0)))\n"
   ]
  },
  {
   "cell_type": "markdown",
   "id": "f1e3ae90",
   "metadata": {},
   "source": [
    "### exp(log($\\sigma$))\n",
    "\n",
    "We can also write \n",
    "\n",
    "$\\frac{1}{1 + e^{-\\rho x}}$ = \n",
    "\n",
    "$exp(log(\\frac{1}{1 + e^{-\\rho x}}))$ =\n",
    "\n",
    "$exp(-log(1 + e^{-\\rho x}))$ =\n",
    "\n"
   ]
  },
  {
   "cell_type": "code",
   "execution_count": 23,
   "id": "6e18b43c",
   "metadata": {},
   "outputs": [],
   "source": [
    "def exp_log_sigmoid(x, rho):\n",
    "    return np.exp(-np.log(1 + np.exp(-rho * x)))"
   ]
  },
  {
   "cell_type": "code",
   "execution_count": 24,
   "id": "08665564",
   "metadata": {},
   "outputs": [
    {
     "data": {
      "text/plain": [
       "0.8807970779778825"
      ]
     },
     "execution_count": 24,
     "metadata": {},
     "output_type": "execute_result"
    }
   ],
   "source": [
    "exp_log_sigmoid(2, 1)"
   ]
  },
  {
   "cell_type": "code",
   "execution_count": 44,
   "id": "30be251f",
   "metadata": {
    "scrolled": true
   },
   "outputs": [
    {
     "data": {
      "text/plain": [
       "[(0, False),\n",
       " (1, False),\n",
       " (2, False),\n",
       " (3, False),\n",
       " (4, False),\n",
       " (5, False),\n",
       " (6, False),\n",
       " (7, False),\n",
       " (8, False),\n",
       " (9, False),\n",
       " (10, False),\n",
       " (11, False),\n",
       " (12, False),\n",
       " (13, False),\n",
       " (14, False),\n",
       " (15, False),\n",
       " (16, False),\n",
       " (17, True),\n",
       " (18, True),\n",
       " (19, True),\n",
       " (20, True),\n",
       " (21, True),\n",
       " (22, True),\n",
       " (23, True),\n",
       " (24, True),\n",
       " (25, True),\n",
       " (26, True),\n",
       " (27, True),\n",
       " (28, True),\n",
       " (29, True),\n",
       " (30, True),\n",
       " (31, True),\n",
       " (32, True),\n",
       " (33, True),\n",
       " (34, True),\n",
       " (35, True),\n",
       " (36, True),\n",
       " (37, True),\n",
       " (38, True),\n",
       " (39, True),\n",
       " (40, True),\n",
       " (41, True),\n",
       " (42, True),\n",
       " (43, True),\n",
       " (44, True),\n",
       " (45, True),\n",
       " (46, True),\n",
       " (47, True),\n",
       " (48, True),\n",
       " (49, True),\n",
       " (50, True),\n",
       " (51, True),\n",
       " (52, True),\n",
       " (53, True),\n",
       " (54, True),\n",
       " (55, True),\n",
       " (56, True),\n",
       " (57, True),\n",
       " (58, True),\n",
       " (59, True),\n",
       " (60, True),\n",
       " (61, True),\n",
       " (62, True),\n",
       " (63, True),\n",
       " (64, True),\n",
       " (65, True),\n",
       " (66, True),\n",
       " (67, True),\n",
       " (68, True),\n",
       " (69, True),\n",
       " (70, True),\n",
       " (71, True),\n",
       " (72, True),\n",
       " (73, True),\n",
       " (74, True),\n",
       " (75, True),\n",
       " (76, True),\n",
       " (77, True),\n",
       " (78, True),\n",
       " (79, True)]"
      ]
     },
     "execution_count": 44,
     "metadata": {},
     "output_type": "execute_result"
    }
   ],
   "source": [
    "list(enumerate(np.isclose([exp_log_sigmoid(1, rho) for rho in np.arange(20, 100,1)],\n",
    "                          np.repeat(1, 80), atol = 10e-50, rtol = 0)))\n"
   ]
  },
  {
   "cell_type": "markdown",
   "id": "cb12eda6",
   "metadata": {},
   "source": [
    "#### exp(log_add_exp(0, $\\sigma$))"
   ]
  },
  {
   "cell_type": "code",
   "execution_count": 34,
   "id": "9eeb3753",
   "metadata": {},
   "outputs": [],
   "source": [
    "def log_add_exp(x,rho):\n",
    "    return np.exp(-np.logaddexp(0, -rho * x))"
   ]
  },
  {
   "cell_type": "code",
   "execution_count": 35,
   "id": "19a97dd8",
   "metadata": {},
   "outputs": [
    {
     "data": {
      "text/plain": [
       "0.8807970779778824"
      ]
     },
     "execution_count": 35,
     "metadata": {},
     "output_type": "execute_result"
    }
   ],
   "source": [
    "log_add_exp(1,2)"
   ]
  },
  {
   "cell_type": "code",
   "execution_count": 43,
   "id": "b27e31b2",
   "metadata": {
    "scrolled": true
   },
   "outputs": [
    {
     "data": {
      "text/plain": [
       "[(0, False),\n",
       " (1, False),\n",
       " (2, False),\n",
       " (3, False),\n",
       " (4, False),\n",
       " (5, False),\n",
       " (6, False),\n",
       " (7, False),\n",
       " (8, False),\n",
       " (9, False),\n",
       " (10, False),\n",
       " (11, False),\n",
       " (12, False),\n",
       " (13, False),\n",
       " (14, False),\n",
       " (15, False),\n",
       " (16, False),\n",
       " (17, True),\n",
       " (18, True),\n",
       " (19, True),\n",
       " (20, True),\n",
       " (21, True),\n",
       " (22, True),\n",
       " (23, True),\n",
       " (24, True),\n",
       " (25, True),\n",
       " (26, True),\n",
       " (27, True),\n",
       " (28, True),\n",
       " (29, True),\n",
       " (30, True),\n",
       " (31, True),\n",
       " (32, True),\n",
       " (33, True),\n",
       " (34, True),\n",
       " (35, True),\n",
       " (36, True),\n",
       " (37, True),\n",
       " (38, True),\n",
       " (39, True),\n",
       " (40, True),\n",
       " (41, True),\n",
       " (42, True),\n",
       " (43, True),\n",
       " (44, True),\n",
       " (45, True),\n",
       " (46, True),\n",
       " (47, True),\n",
       " (48, True),\n",
       " (49, True),\n",
       " (50, True),\n",
       " (51, True),\n",
       " (52, True),\n",
       " (53, True),\n",
       " (54, True),\n",
       " (55, True),\n",
       " (56, True),\n",
       " (57, True),\n",
       " (58, True),\n",
       " (59, True),\n",
       " (60, True),\n",
       " (61, True),\n",
       " (62, True),\n",
       " (63, True),\n",
       " (64, True),\n",
       " (65, True),\n",
       " (66, True),\n",
       " (67, True),\n",
       " (68, True),\n",
       " (69, True),\n",
       " (70, True),\n",
       " (71, True),\n",
       " (72, True),\n",
       " (73, True),\n",
       " (74, True),\n",
       " (75, True),\n",
       " (76, True),\n",
       " (77, True),\n",
       " (78, True),\n",
       " (79, True)]"
      ]
     },
     "execution_count": 43,
     "metadata": {},
     "output_type": "execute_result"
    }
   ],
   "source": [
    "list(enumerate(np.isclose([log_add_exp(1, rho) for rho in np.arange(20, 100,1)],\n",
    "                          np.repeat(1, 80), atol = 10e-50, rtol = 0)))\n"
   ]
  },
  {
   "cell_type": "code",
   "execution_count": null,
   "id": "376c7d2c",
   "metadata": {},
   "outputs": [],
   "source": []
  },
  {
   "cell_type": "markdown",
   "id": "81ab6c87",
   "metadata": {},
   "source": [
    "### Avoid one exponentiation in the Bernoulli?"
   ]
  },
  {
   "cell_type": "code",
   "execution_count": 101,
   "id": "cda7552c",
   "metadata": {},
   "outputs": [],
   "source": [
    "import torch\n",
    "from scipy.special import logit"
   ]
  },
  {
   "cell_type": "code",
   "execution_count": 117,
   "id": "5ca1f803",
   "metadata": {},
   "outputs": [],
   "source": [
    "bernoulli = torch.distributions.Bernoulli(logits = torch.tensor([0.3]))"
   ]
  },
  {
   "cell_type": "code",
   "execution_count": 118,
   "id": "84eebaf0",
   "metadata": {},
   "outputs": [
    {
     "data": {
      "text/plain": [
       "tensor([57312.])"
      ]
     },
     "execution_count": 118,
     "metadata": {},
     "output_type": "execute_result"
    }
   ],
   "source": [
    "sum([bernoulli.sample() for k in range(100000)])"
   ]
  },
  {
   "cell_type": "code",
   "execution_count": 120,
   "id": "b8d7ba98",
   "metadata": {},
   "outputs": [
    {
     "data": {
      "text/plain": [
       "0.29459217558514256"
      ]
     },
     "execution_count": 120,
     "metadata": {},
     "output_type": "execute_result"
    }
   ],
   "source": [
    "logit(0.57312)"
   ]
  },
  {
   "cell_type": "markdown",
   "id": "49669169",
   "metadata": {},
   "source": [
    "### Try to invert using $\\sigma(x) = 1 - \\sigma(-x)$"
   ]
  },
  {
   "cell_type": "code",
   "execution_count": 143,
   "id": "481214d9",
   "metadata": {},
   "outputs": [],
   "source": [
    "epsilon = 0.4\n",
    "diff_X = torch.tensor([0.9, 0.98, 0.01, 0.0001, 0.9999])\n",
    "s = torch.tensor([0., 0., 1., 1., 0.])\n",
    "rho = 100"
   ]
  },
  {
   "cell_type": "code",
   "execution_count": 144,
   "id": "5aec1cb8",
   "metadata": {},
   "outputs": [
    {
     "data": {
      "text/plain": [
       "tensor([1.9288e-22, 6.4702e-26, 1.0000e+00, 1.0000e+00, 8.8445e-27])"
      ]
     },
     "execution_count": 144,
     "metadata": {},
     "output_type": "execute_result"
    }
   ],
   "source": [
    "kappa = sigmoid(rho * (epsilon - diff_X))\n",
    "kappa"
   ]
  },
  {
   "cell_type": "code",
   "execution_count": 145,
   "id": "de29d3fb",
   "metadata": {},
   "outputs": [],
   "source": [
    "from torch.nn import BCELoss, BCEWithLogitsLoss"
   ]
  },
  {
   "cell_type": "code",
   "execution_count": 146,
   "id": "9c2f57af",
   "metadata": {},
   "outputs": [
    {
     "data": {
      "text/plain": [
       "tensor(3.8590e-21)"
      ]
     },
     "execution_count": 146,
     "metadata": {},
     "output_type": "execute_result"
    }
   ],
   "source": [
    "loss = BCELoss()\n",
    "loss(s, kappa)"
   ]
  },
  {
   "cell_type": "code",
   "execution_count": 151,
   "id": "3bd0526d",
   "metadata": {},
   "outputs": [],
   "source": [
    "close_dist = diff_X < 0.5"
   ]
  },
  {
   "cell_type": "code",
   "execution_count": 160,
   "id": "391ab018",
   "metadata": {},
   "outputs": [],
   "source": [
    "kappa_stab = (~close_dist) * sigmoid(rho * (epsilon - diff_X)) + (close_dist) * (sigmoid(-rho * (epsilon - diff_X)))"
   ]
  },
  {
   "cell_type": "code",
   "execution_count": 161,
   "id": "9e3fff97",
   "metadata": {},
   "outputs": [],
   "source": [
    "s_stab = (~close_dist) * s + close_dist * (1 - s)"
   ]
  },
  {
   "cell_type": "code",
   "execution_count": 164,
   "id": "185a48f7",
   "metadata": {},
   "outputs": [
    {
     "data": {
      "text/plain": [
       "tensor(0.)"
      ]
     },
     "execution_count": 164,
     "metadata": {},
     "output_type": "execute_result"
    }
   ],
   "source": [
    "loss(kappa_stab, s_stab)"
   ]
  },
  {
   "cell_type": "code",
   "execution_count": 166,
   "id": "a81a1a0d",
   "metadata": {},
   "outputs": [
    {
     "data": {
      "text/plain": [
       "0.9999999999999993"
      ]
     },
     "execution_count": 166,
     "metadata": {},
     "output_type": "execute_result"
    }
   ],
   "source": [
    "sigmoid(70 * 0.5)"
   ]
  },
  {
   "cell_type": "code",
   "execution_count": null,
   "id": "d8647a8f",
   "metadata": {},
   "outputs": [],
   "source": []
  },
  {
   "cell_type": "code",
   "execution_count": null,
   "id": "a696cee3",
   "metadata": {},
   "outputs": [],
   "source": []
  },
  {
   "cell_type": "code",
   "execution_count": null,
   "id": "f8baef74",
   "metadata": {},
   "outputs": [],
   "source": []
  },
  {
   "cell_type": "code",
   "execution_count": null,
   "id": "6ed6496a",
   "metadata": {},
   "outputs": [],
   "source": [
    "\n"
   ]
  },
  {
   "cell_type": "code",
   "execution_count": null,
   "id": "e58c2565",
   "metadata": {},
   "outputs": [],
   "source": []
  },
  {
   "cell_type": "code",
   "execution_count": null,
   "id": "3cd6d9e1",
   "metadata": {},
   "outputs": [],
   "source": [
    "\n"
   ]
  }
 ],
 "metadata": {
  "kernelspec": {
   "display_name": "Python 3 (ipykernel)",
   "language": "python",
   "name": "python3"
  },
  "language_info": {
   "codemirror_mode": {
    "name": "ipython",
    "version": 3
   },
   "file_extension": ".py",
   "mimetype": "text/x-python",
   "name": "python",
   "nbconvert_exporter": "python",
   "pygments_lexer": "ipython3",
   "version": "3.9.12"
  }
 },
 "nbformat": 4,
 "nbformat_minor": 5
}

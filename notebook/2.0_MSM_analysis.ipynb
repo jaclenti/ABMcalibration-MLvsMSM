{
 "cells": [
  {
   "cell_type": "code",
   "execution_count": 24,
   "id": "8d5b8694",
   "metadata": {},
   "outputs": [],
   "source": [
    "import sys\n",
    "sys.path += [\"../src\"]\n",
    "import simulator_BC as sim_bc\n",
    "import estimation_epsilon_BC as est_bc\n",
    "from calibrator_blackit import Calibrator #i just commented few lines of code to remove the output print\n",
    "import numpy as np\n",
    "import torch\n",
    "from scipy.special import expit\n",
    "import matplotlib.pyplot as plt"
   ]
  },
  {
   "cell_type": "code",
   "execution_count": 5,
   "id": "956c336c",
   "metadata": {},
   "outputs": [],
   "source": [
    "#define a simulator class for simulating the BC model knowing the real edges and opinions\n",
    "#the calibration will compare the arrays of signs: self.s and simulate_s([epsilon])\n",
    "#i input theta = [epsilon], instead of epsilon, because the Calibrator of black-it is designed for calibrating a list of parameters\n",
    "class BC_simulator_given_previous_time():\n",
    "    def __init__(self, X, edges, mu, real_epsilon, rho = 100, seed = 1):\n",
    "        self.X = X\n",
    "        self.edges = edges\n",
    "        self.mu = mu\n",
    "        self.real_epsilon = real_epsilon\n",
    "        self.rho = rho\n",
    "        self.seed = seed\n",
    "        self.s = np.concatenate(np.array(edges[:,:,2]))[:, None] #Calibrator requires a time series of dim N, n_of_parameters\n",
    "    \n",
    "    def simulate_s(self, theta, T = 200, seed = None):\n",
    "        epsilon, = theta\n",
    "        \n",
    "        s_pred = np.array([])\n",
    "        \n",
    "        if seed != None:\n",
    "            np.random.seed(self.seed)\n",
    "        \n",
    "        T, edge_per_t, _ = self.edges.size()\n",
    "        \n",
    "        for t in range(T):\n",
    "            for new_edge in range(edge_per_t):\n",
    "                \n",
    "                u,v,s = self.edges[t, new_edge]\n",
    "                dist = np.abs(self.X[t, u] - self.X[t, v])\n",
    "                \n",
    "                if np.random.random() < expit(self.rho * (epsilon - dist)):\n",
    "                    s_pred = np.append(s_pred, 1)\n",
    "                else:\n",
    "                    s_pred = np.append(s_pred, 0)\n",
    "        \n",
    "        \n",
    "        return s_pred[:, None] #Calibrator requires a time series of dim N, n_of_parameters"
   ]
  },
  {
   "cell_type": "code",
   "execution_count": 6,
   "id": "7dc2a8b6",
   "metadata": {},
   "outputs": [],
   "source": [
    "N, T, edge_per_t = 100, 400, 3\n",
    "\n",
    "epsilon, mu = 0.3, 0.6\n",
    "epsilon_sim = 0.4\n",
    "\n",
    "epsilon_bounds = [[0.], [1.]]\n",
    "precisions = [0.0001]"
   ]
  },
  {
   "cell_type": "code",
   "execution_count": 7,
   "id": "1d711aea",
   "metadata": {},
   "outputs": [],
   "source": [
    "X, edges = sim_bc.simulator_stoch(N, T, edge_per_t, epsilon, mu, seed = 1004, steepness = 100)\n",
    "s_edges = np.concatenate(np.array(edges[:,:,2]))[:,None]"
   ]
  },
  {
   "cell_type": "code",
   "execution_count": 8,
   "id": "ffe4fecf",
   "metadata": {},
   "outputs": [
    {
     "data": {
      "text/plain": [
       "array([[0],\n",
       "       [1],\n",
       "       [1],\n",
       "       ...,\n",
       "       [1],\n",
       "       [1],\n",
       "       [1]])"
      ]
     },
     "execution_count": 8,
     "metadata": {},
     "output_type": "execute_result"
    }
   ],
   "source": [
    "s_edges"
   ]
  },
  {
   "cell_type": "code",
   "execution_count": 10,
   "id": "1e0ab144",
   "metadata": {},
   "outputs": [],
   "source": [
    "from black_it.loss_functions.msm import MethodOfMomentsLoss\n",
    "from numpy.typing import NDArray\n",
    "from scipy.stats import kurtosis, skew\n",
    "import statsmodels.api as sm"
   ]
  },
  {
   "cell_type": "code",
   "execution_count": 11,
   "id": "71e2ac39",
   "metadata": {},
   "outputs": [],
   "source": [
    "def get_mom_ts_1d(time_series: NDArray[np.float64]) -> NDArray[np.float64]:\n",
    "    \"\"\"Compute specific moments from a time series.\n",
    "\n",
    "    Args:\n",
    "        time_series: the time series\n",
    "\n",
    "    Returns:\n",
    "        the moments from a time series\n",
    "    \"\"\"\n",
    "    # array of all moments (to be filled)\n",
    "    avg_vec_mom = np.zeros(18)\n",
    "\n",
    "    # first 4 moments and auto-correlations of the time series\n",
    "    avg_vec_mom[0] = np.mean(time_series)\n",
    "    avg_vec_mom[1] = np.std(time_series)\n",
    "    s, k = skew(time_series), kurtosis(time_series)  # pylint: disable=invalid-name\n",
    "    avg_vec_mom[2] = np.sign(s) * np.power(abs(s), 1.0 / 3.0)\n",
    "    avg_vec_mom[3] = np.sign(k) * np.power(abs(k), 1.0 / 4.0)\n",
    "\n",
    "    ts_acf = sm.tsa.acf(time_series, nlags=5, fft=False)\n",
    "    avg_vec_mom[4] = ts_acf[1]\n",
    "    avg_vec_mom[5] = ts_acf[2]\n",
    "    avg_vec_mom[6] = ts_acf[3]\n",
    "    avg_vec_mom[7] = ts_acf[4]\n",
    "    avg_vec_mom[8] = ts_acf[5]\n",
    "\n",
    "    # first 4 moments and auto-correlations of the absolute differences of the time series\n",
    "    abs_diff = np.absolute(np.diff(time_series))\n",
    "\n",
    "    avg_vec_mom[9] = np.mean(abs_diff)\n",
    "    avg_vec_mom[10] = np.std(abs_diff)\n",
    "    s, k = skew(abs_diff), kurtosis(abs_diff)  # pylint: disable=invalid-name\n",
    "    avg_vec_mom[11] = np.sign(s) * np.power(abs(s), 1.0 / 3.0)\n",
    "    avg_vec_mom[12] = np.sign(k) * np.power(abs(k), 1.0 / 4.0)\n",
    "\n",
    "    ts_diff_acf = sm.tsa.acf(abs_diff, nlags=5, fft=False)\n",
    "    avg_vec_mom[13] = ts_diff_acf[1]\n",
    "    avg_vec_mom[14] = ts_diff_acf[2]\n",
    "    avg_vec_mom[15] = ts_diff_acf[3]\n",
    "    avg_vec_mom[16] = ts_diff_acf[4]\n",
    "    avg_vec_mom[17] = ts_diff_acf[5]\n",
    "\n",
    "    np.nan_to_num(avg_vec_mom, False)\n",
    "\n",
    "    return avg_vec_mom\n"
   ]
  },
  {
   "cell_type": "code",
   "execution_count": 12,
   "id": "bf7f2b84",
   "metadata": {},
   "outputs": [],
   "source": [
    "time_series = s_edges[:,0]"
   ]
  },
  {
   "cell_type": "markdown",
   "id": "3db24e2a",
   "metadata": {},
   "source": [
    "### first 4 moments "
   ]
  },
  {
   "cell_type": "code",
   "execution_count": 13,
   "id": "7e622646",
   "metadata": {},
   "outputs": [
    {
     "data": {
      "text/plain": [
       "0.7677527151211362"
      ]
     },
     "execution_count": 13,
     "metadata": {},
     "output_type": "execute_result"
    }
   ],
   "source": [
    "np.mean(time_series)"
   ]
  },
  {
   "cell_type": "code",
   "execution_count": 14,
   "id": "1da4369a",
   "metadata": {},
   "outputs": [
    {
     "data": {
      "text/plain": [
       "0.4222658919984654"
      ]
     },
     "execution_count": 14,
     "metadata": {},
     "output_type": "execute_result"
    }
   ],
   "source": [
    "np.std(time_series)"
   ]
  },
  {
   "cell_type": "code",
   "execution_count": 15,
   "id": "dac05d8b",
   "metadata": {},
   "outputs": [],
   "source": [
    "s,k = skew(time_series), kurtosis(time_series)  # pylint: disable=invalid-name"
   ]
  },
  {
   "cell_type": "code",
   "execution_count": 16,
   "id": "7d9711a8",
   "metadata": {},
   "outputs": [
    {
     "data": {
      "text/plain": [
       "-1.0824120671221904"
      ]
     },
     "execution_count": 16,
     "metadata": {},
     "output_type": "execute_result"
    }
   ],
   "source": [
    "np.sign(s) * np.power(abs(s), 1.0 / 3.0)"
   ]
  },
  {
   "cell_type": "code",
   "execution_count": 17,
   "id": "c367e20b",
   "metadata": {},
   "outputs": [
    {
     "data": {
      "text/plain": [
       "-0.7911339136973325"
      ]
     },
     "execution_count": 17,
     "metadata": {},
     "output_type": "execute_result"
    }
   ],
   "source": [
    "np.sign(k) * np.power(abs(k), 1.0 / 4.0)"
   ]
  },
  {
   "cell_type": "markdown",
   "id": "297b2593",
   "metadata": {},
   "source": [
    "### auto-correlations of the time series"
   ]
  },
  {
   "cell_type": "code",
   "execution_count": 32,
   "id": "6402745a",
   "metadata": {},
   "outputs": [],
   "source": [
    "ts_acf = sm.tsa.acf(time_series, nlags = 5, fft = False)"
   ]
  },
  {
   "cell_type": "code",
   "execution_count": 33,
   "id": "0b67fd2a",
   "metadata": {},
   "outputs": [
    {
     "data": {
      "text/plain": [
       "array([0.17622938, 0.16660614, 0.18977973, 0.15204492, 0.20441822])"
      ]
     },
     "execution_count": 33,
     "metadata": {},
     "output_type": "execute_result"
    }
   ],
   "source": [
    "ts_acf[1:6]"
   ]
  },
  {
   "cell_type": "markdown",
   "id": "76ad5816",
   "metadata": {},
   "source": [
    "### first 4 moments of the absolute differences of the time series "
   ]
  },
  {
   "cell_type": "code",
   "execution_count": 34,
   "id": "ca0f6271",
   "metadata": {},
   "outputs": [],
   "source": [
    "abs_diff = np.absolute(np.diff(time_series))"
   ]
  },
  {
   "cell_type": "code",
   "execution_count": 35,
   "id": "bc6f726c",
   "metadata": {},
   "outputs": [
    {
     "data": {
      "text/plain": [
       "(0.29347826086956524,\n",
       " 0.45535565360116115,\n",
       " 0.9680140899533785,\n",
       " -1.041629567248848)"
      ]
     },
     "execution_count": 35,
     "metadata": {},
     "output_type": "execute_result"
    }
   ],
   "source": [
    "s, k = skew(abs_diff), kurtosis(abs_diff)  # pylint: disable=invalid-name\n",
    "np.mean(abs_diff), np.std(abs_diff), np.sign(s) * np.power(abs(s), 1.0 / 3.0), np.sign(k) * np.power(abs(k), 1.0 / 4.0)"
   ]
  },
  {
   "cell_type": "markdown",
   "id": "fe285fd7",
   "metadata": {},
   "source": [
    "### auto-correlations of the absolute differences of the time series"
   ]
  },
  {
   "cell_type": "code",
   "execution_count": 36,
   "id": "57187cfe",
   "metadata": {},
   "outputs": [
    {
     "data": {
      "text/plain": [
       "array([0.28306273, 0.24239107, 0.22591402, 0.19852309, 0.24253256])"
      ]
     },
     "execution_count": 36,
     "metadata": {},
     "output_type": "execute_result"
    }
   ],
   "source": [
    "ts_diff_acf = sm.tsa.acf(abs_diff, nlags=5, fft=False)\n",
    "ts_diff_acf[1:6]"
   ]
  },
  {
   "cell_type": "code",
   "execution_count": 37,
   "id": "3781470f",
   "metadata": {},
   "outputs": [
    {
     "data": {
      "text/plain": [
       "array([ 0.76775272,  0.42226589, -1.08241207, -0.79113391,  0.17622938,\n",
       "        0.16660614,  0.18977973,  0.15204492,  0.20441822,  0.29347826,\n",
       "        0.45535565,  0.96801409, -1.04162957,  0.28306273,  0.24239107,\n",
       "        0.22591402,  0.19852309,  0.24253256])"
      ]
     },
     "execution_count": 37,
     "metadata": {},
     "output_type": "execute_result"
    }
   ],
   "source": [
    "get_mom_ts_1d(time_series)"
   ]
  },
  {
   "cell_type": "markdown",
   "id": "305a2d18",
   "metadata": {},
   "source": [
    "## Loss MSM "
   ]
  },
  {
   "cell_type": "code",
   "execution_count": 38,
   "id": "ffcebd62",
   "metadata": {},
   "outputs": [
    {
     "data": {
      "text/plain": [
       "0.3"
      ]
     },
     "execution_count": 38,
     "metadata": {},
     "output_type": "execute_result"
    }
   ],
   "source": [
    "epsilon"
   ]
  },
  {
   "cell_type": "code",
   "execution_count": 43,
   "id": "2ab26a67",
   "metadata": {},
   "outputs": [],
   "source": [
    "simulator_BC = BC_simulator_given_previous_time(X, edges, mu, epsilon)\n",
    "s_preds = [simulator_BC.simulate_s([x]) for x in np.arange(0, 1, 0.05)]"
   ]
  },
  {
   "cell_type": "code",
   "execution_count": 1,
   "id": "5bb94c8f",
   "metadata": {},
   "outputs": [],
   "source": [
    "real_mom_1d = get_mom_ts_1d(s_edges[:,0])\n",
    "sim_mom_1ds = [get_mom_ts_1d(s_pred[:,0]) for s_pred in s_preds]"
   ]
  },
  {
   "cell_type": "code",
   "execution_count": 45,
   "id": "49cdcba9",
   "metadata": {},
   "outputs": [],
   "source": [
    "gs = [real_mom_1d - sim_mom_1d for sim_mom_1d in sim_mom_1ds]"
   ]
  },
  {
   "cell_type": "code",
   "execution_count": 47,
   "id": "be0ac848",
   "metadata": {},
   "outputs": [
    {
     "data": {
      "text/plain": [
       "[(0.0, 22.305713510660194),\n",
       " (0.05, 4.854157371426787),\n",
       " (0.1, 3.3953409763627875),\n",
       " (0.15000000000000002, 0.5499549414692648),\n",
       " (0.2, 0.2444325628626215),\n",
       " (0.25, 0.09441310630708981),\n",
       " (0.30000000000000004, 0.002587663623467827),\n",
       " (0.35000000000000003, 2.9207078542590095),\n",
       " (0.4, 4.731813945264391),\n",
       " (0.45, 9.759280019964057),\n",
       " (0.5, 13.60139672563014),\n",
       " (0.55, 18.07127973545429),\n",
       " (0.6000000000000001, 21.752293952631536),\n",
       " (0.65, 24.567921551928624),\n",
       " (0.7000000000000001, 34.14316098095408),\n",
       " (0.75, 49.37409394101152),\n",
       " (0.8, 55.90911111937709),\n",
       " (0.8500000000000001, 89.5121129705198),\n",
       " (0.9, 4.7931614898544765),\n",
       " (0.9500000000000001, 4.7931614898544765)]"
      ]
     },
     "execution_count": 47,
     "metadata": {},
     "output_type": "execute_result"
    }
   ],
   "source": [
    "[(x, g.dot(g)) for x, g in zip(np.arange(0, 1, 0.05), gs)]"
   ]
  },
  {
   "cell_type": "code",
   "execution_count": null,
   "id": "cc7ce807",
   "metadata": {},
   "outputs": [],
   "source": []
  },
  {
   "cell_type": "code",
   "execution_count": null,
   "id": "b3131f53",
   "metadata": {},
   "outputs": [],
   "source": []
  },
  {
   "cell_type": "code",
   "execution_count": null,
   "id": "0e7fa4c9",
   "metadata": {},
   "outputs": [],
   "source": []
  },
  {
   "cell_type": "code",
   "execution_count": null,
   "id": "d76b4cf9",
   "metadata": {},
   "outputs": [],
   "source": []
  },
  {
   "cell_type": "code",
   "execution_count": null,
   "id": "77951d3f",
   "metadata": {},
   "outputs": [],
   "source": []
  },
  {
   "cell_type": "code",
   "execution_count": null,
   "id": "8e7af27d",
   "metadata": {},
   "outputs": [],
   "source": []
  }
 ],
 "metadata": {
  "kernelspec": {
   "display_name": "Python 3 (ipykernel)",
   "language": "python",
   "name": "python3"
  },
  "language_info": {
   "codemirror_mode": {
    "name": "ipython",
    "version": 3
   },
   "file_extension": ".py",
   "mimetype": "text/x-python",
   "name": "python",
   "nbconvert_exporter": "python",
   "pygments_lexer": "ipython3",
   "version": "3.9.12"
  }
 },
 "nbformat": 4,
 "nbformat_minor": 5
}

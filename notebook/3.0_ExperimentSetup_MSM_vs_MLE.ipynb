{
 "cells": [
  {
   "cell_type": "markdown",
   "id": "aa57757b",
   "metadata": {},
   "source": [
    "# Comparison MLE vs MSM\n",
    "In this notebook we set up the experiments for comparing the two methods.\n",
    "\n",
    "In particular, for each simulation, we create a trajectory of an opinion dynamics model with some values of $\\epsilon$ and $\\mu$, and we estimate $\\epsilon$ with MSM and with MLE.\n",
    "\n",
    "In this way, we create the same conditions for comparing the two methods.\n",
    "\n",
    "Note that FBCM, PBCM and NBCM were previously called simple_BC, BC_observed_positive and BC_with evidences.\n",
    "In general, PGABM refers to MLE method."
   ]
  },
  {
   "cell_type": "code",
   "execution_count": 3,
   "id": "425ff929",
   "metadata": {},
   "outputs": [],
   "source": [
    "import sys\n",
    "sys.path += [\"../src\"]\n",
    "\n",
    "from opinion_dynamics_models_estimation import simulate_BC\n",
    "import pandas as pd\n",
    "import opinion_dynamics_models_estimation as oe\n",
    "\n",
    "\n",
    "from MSM_calibrator import calibrate_params_ABM\n",
    "from MSM_simulators import FBCM_simulator,PBCM_simulator,NBCM_simulator\n",
    "import json\n",
    "\n",
    "import numpy as np\n",
    "import matplotlib.pyplot as plt\n",
    "import seaborn as sns\n",
    "from matplotlib.colors import LogNorm, Normalize\n",
    "import repeat_function\n",
    "from scipy.special import expit as sigmoid\n",
    "from time import time"
   ]
  },
  {
   "cell_type": "markdown",
   "id": "4439d00b",
   "metadata": {},
   "source": [
    "Optimizer hyperparameters found in previous analysis."
   ]
  },
  {
   "cell_type": "code",
   "execution_count": 4,
   "id": "ffcb2d7e",
   "metadata": {},
   "outputs": [],
   "source": [
    "hyperparams_simple_BC = json.load(open(\"../data/hyperparams_simple_bc.json\", 'r'))\n",
    "hyperparams_obs_pos_BC = json.load(open(\"../data/hyperparams_obs_pos_bc.json\", 'r'))\n",
    "hyperparams_evidence_BC = json.load(open(\"../data/hyperparams_evidence_bc.json\", 'r'))\n",
    "hyperparams_backfire_BC = json.load(open(\"../data/hyperparams_backfire_bc.json\", 'r'))"
   ]
  },
  {
   "cell_type": "markdown",
   "id": "0cf55f8d",
   "metadata": {},
   "source": [
    "Set up the experiments for repeating the estimates with the same conditions for MLE and MSM, returning the values of interest for the comparison (experiments input, estimation time and estimation performances).\n",
    "This will be used for  creating a dataframe summarizing all the experiments."
   ]
  },
  {
   "cell_type": "code",
   "execution_count": 5,
   "id": "ceb227a0",
   "metadata": {},
   "outputs": [],
   "source": [
    "def complete_comparison_simple_BC(N, T, edge_per_t, evidences_per_t = 1, rho = 16,\n",
    "                                  calibration_batches = 400, ensemble_size = 1, seed = None):\n",
    "    np.random.seed(seed)\n",
    "    #epsilon, mu = np.random.random(2) / 2\n",
    "    mu = 0.1\n",
    "    epsilon = np.random.random() / 2\n",
    "    \n",
    "    X, edges, _ = simulate_BC(N, T, edge_per_t, evidences_per_t, (epsilon, mu, rho))\n",
    "    simulator = BC_simulator(X[0], edges, N, mu, epsilon, rho)\n",
    "    calibration_df, time_calibration = calibrate_params_ABM(simulator, calibration_batches = calibration_batches, ensemble_size = ensemble_size)\n",
    "    \n",
    "    mle_estimation = oe.estimation_BC_model_from_data(X, edges, _, (epsilon, mu, rho), **hyperparams_simple_BC)\n",
    "    \n",
    "    return {\"real_epsilon\": epsilon, \n",
    "            \"mu\": mu, \n",
    "            \"rho\": rho, \n",
    "            \"epsilon_msm\": calibration_df[\"epsilon\"][0], \n",
    "            \"time_msm\": time_calibration,\n",
    "            \"calibration_batches\": calibration_batches, \n",
    "            \"abs_error_msm\": np.abs(calibration_df[\"epsilon\"][0] - epsilon),\n",
    "            \"rel_error_msm\": np.abs(calibration_df[\"epsilon\"][0] - epsilon) / epsilon,\n",
    "            \"ensemble_size\": ensemble_size,\n",
    "            \"epsilon_pgabm\": mle_estimation[\"epsilon_estimated\"],\n",
    "            \"time_pgabm\": mle_estimation[\"time\"],\n",
    "            \"abs_error_pgabm\": mle_estimation[\"distance_epsilon\"],\n",
    "            \"rel_error_pgabm\": mle_estimation[\"distance_epsilon\"] / epsilon,\n",
    "            \"num_epochs\": mle_estimation[\"num_epochs\"]\n",
    "           }\n",
    "\n",
    "\n",
    "def complete_comparison_BC_observed_positive(N, T, edge_per_t, evidences_per_t = 1, rho = 16, calibration_batches = 400, ensemble_size = 1, seed = None):\n",
    "    np.random.seed(seed)\n",
    "    #epsilon, mu = np.random.random(2) / 2\n",
    "    mu = 0.1\n",
    "    epsilon = np.random.random() / 2\n",
    "    X, edges,_ = simulate_BC(N, T, edge_per_t, evidences_per_t, (epsilon, mu, rho))\n",
    "    simulator = BC_simulator_positive_observations(X[0], edges, N, mu, epsilon, rho)\n",
    "    calibration_df, time_calibration = calibrate_params_ABM(simulator, calibration_batches = calibration_batches, ensemble_size = ensemble_size)\n",
    "    \n",
    "    mle_estimation = oe.estimation_BC_model_from_data(X, edges, _, (epsilon, mu, rho), **hyperparams_obs_pos_BC)\n",
    "    \n",
    "    return {\"real_epsilon\": epsilon, \n",
    "            \"mu\": mu, \n",
    "            \"rho\": rho, \n",
    "            \"epsilon_msm\": calibration_df[\"epsilon\"][0], \n",
    "            \"time_msm\": time_calibration,\n",
    "            \"calibration_batches\": calibration_batches, \n",
    "            \"abs_error_msm\": np.abs(calibration_df[\"epsilon\"][0] - epsilon),\n",
    "            \"rel_error_msm\": np.abs(calibration_df[\"epsilon\"][0] - epsilon) / epsilon,\n",
    "            \"ensemble_size\": ensemble_size,\n",
    "            \"epsilon_pgabm\": mle_estimation[\"epsilon_estimated\"],\n",
    "            \"time_pgabm\": mle_estimation[\"time\"],\n",
    "            \"abs_error_pgabm\": mle_estimation[\"distance_epsilon\"],\n",
    "            \"rel_error_pgabm\": mle_estimation[\"distance_epsilon\"] / epsilon,\n",
    "            \"num_epochs\": mle_estimation[\"num_epochs\"]\n",
    "           }\n",
    "\n",
    "\n",
    "def complete_comparison_BC_with_evidences(N, T, edge_per_t, evidences_per_t, rho = 16, calibration_batches = 400, ensemble_size = 1, seed = None):\n",
    "    np.random.seed(seed)\n",
    "    #epsilon, mu = np.random.random(2) / 2\n",
    "    mu = 0.1\n",
    "    epsilon = np.random.random() / 2\n",
    "    \n",
    "    X, edges, evidences = simulate_BC(N, T, edge_per_t, evidences_per_t, (epsilon, mu, rho))\n",
    "    simulator = BC_simulator_X_evidences(N, edges, evidences, mu, epsilon, rho = rho)\n",
    "    calibration_df, time_calibration = calibrate_params_ABM(simulator, calibration_batches = calibration_batches, ensemble_size = ensemble_size)\n",
    "    \n",
    "    mle_estimation = oe.estimation_BC_model_from_data(X, edges, evidences, (epsilon, mu, rho), **hyperparams_evidence_BC)\n",
    "    \n",
    "    return {\"real_epsilon\": epsilon, \n",
    "            \"mu\": mu, \n",
    "            \"rho\": rho, \n",
    "            \"epsilon_msm\": calibration_df[\"epsilon\"][0], \n",
    "            \"time_msm\": time_calibration,\n",
    "            \"calibration_batches\": calibration_batches, \n",
    "            \"abs_error_msm\": np.abs(calibration_df[\"epsilon\"][0] - epsilon),\n",
    "            \"rel_error_msm\": np.abs(calibration_df[\"epsilon\"][0] - epsilon) / epsilon,\n",
    "            \"ensemble_size\": ensemble_size,\n",
    "            \"epsilon_pgabm\": mle_estimation[\"epsilon_estimated\"],\n",
    "            \"time_pgabm\": mle_estimation[\"time\"],\n",
    "            \"abs_error_pgabm\": mle_estimation[\"distance_epsilon\"],\n",
    "            \"rel_error_pgabm\": mle_estimation[\"distance_epsilon\"] / epsilon,\n",
    "            \"X0_r2\": mle_estimation[\"X0_r2\"],\n",
    "            \"X0_mae\": mle_estimation[\"X0_mae\"],\n",
    "            \"X0_mse\": mle_estimation[\"X0_mse\"],\n",
    "            \"num_epochs\": mle_estimation[\"num_epochs\"]\n",
    "           }\n"
   ]
  },
  {
   "cell_type": "code",
   "execution_count": 6,
   "id": "38b0a4ad",
   "metadata": {},
   "outputs": [],
   "source": [
    "compare_simple_cols = ['ensemble_size', 'calibration_batches', 'edge_per_t', 'T',\n",
    "       'real_epsilon', 'mu', 'rho', 'epsilon_msm', 'time_msm', 'abs_error_msm',\n",
    "       'rel_error_msm', 'epsilon_pgabm', 'time_pgabm', 'abs_error_pgabm',\n",
    "       'rel_error_pgabm']\n",
    "\n",
    "compare_evidences_cols = ['ensemble_size', 'calibration_batches', 'edge_per_t', 'evidences_per_t',\n",
    "       'T', 'real_epsilon', 'mu', 'rho', 'epsilon_msm', 'time_msm',\n",
    "       'abs_error_msm', 'rel_error_msm', 'epsilon_pgabm', 'time_pgabm',\n",
    "       'abs_error_pgabm', 'rel_error_pgabm', 'X0_r2']\n",
    "\n",
    "compare_backfire_cols = ['ensemble_size', 'calibration_batches', 'edge_per_t', 'evidences_per_t',\n",
    "                         'T', 'real_epsilon_plus', 'real_epsilon_minus', 'mu_plus', 'mu_minus',\n",
    "                         'rho', 'epsilon_plus_msm', 'epsilon_minus_msm', 'time_msm',\n",
    "                         'abs_error_msm_plus', 'abs_error_msm_minus', 'rel_error_msm_plus',\n",
    "                         'rel_error_msm_minus', 'epsilon_plus_pgabm', 'epsilon_minus_pgabm',\n",
    "                         'time_pgabm', 'abs_error_pgabm_plus', 'abs_error_pgabm_minus',\n",
    "                         'rel_error_pgabm_plus', 'rel_error_pgabm_minus', 'X0_r2']"
   ]
  },
  {
   "cell_type": "markdown",
   "id": "e9626ce0",
   "metadata": {},
   "source": [
    "#### FBCM"
   ]
  },
  {
   "cell_type": "code",
   "execution_count": null,
   "id": "94bd5696",
   "metadata": {},
   "outputs": [],
   "source": [
    "t0 = time()\n",
    "\n",
    "#compare_simple_df = pd.DataFrame([], columns = compare_simple_cols)\n",
    "compare_simple_df = pd.read_csv(\"../data/compare_simple_bc_230803.csv\")\n",
    "\n",
    "for _ in range(70):\n",
    "    t1 = time()\n",
    "    \n",
    "    print(_, round(t1 - t0, 1))\n",
    "    compare_simple = repeat_function.rep_simulations(complete_comparison_simple_BC, \n",
    "                                {\"rho\": 16, \"N\": 100}, \n",
    "                                {\"ensemble_size\": [1],\n",
    "                                 \"calibration_batches\": [200],\n",
    "                                 \"edge_per_t\": [1,4,16,64],\n",
    "                                 \"T\": [16, 32, 64, 128, 256, 512]\n",
    "                                }, repetitions = 1)\n",
    "    compare_simple_df_ = pd.DataFrame([{**rep[0], **rep[1]} for rep in compare_simple])\n",
    "    compare_simple_df = pd.concat([compare_simple_df, compare_simple_df_])\n",
    "    compare_simple_df.to_csv(f\"../data/compare_simple_bc_230805.csv\", index = None)\n",
    "    "
   ]
  },
  {
   "cell_type": "markdown",
   "id": "8ef7d4a7",
   "metadata": {},
   "source": [
    "#### PBCM"
   ]
  },
  {
   "cell_type": "code",
   "execution_count": null,
   "id": "912264be",
   "metadata": {},
   "outputs": [],
   "source": [
    "t0 = time()\n",
    "\n",
    "#compare_pos_df = pd.DataFrame([], columns = compare_simple_cols)\n",
    "compare_pos_df = pd.read_csv(f\"../data/compare_pos_bc_230803.csv\")\n",
    "\n",
    "for _ in range(50):\n",
    "    t1 = time()\n",
    "\n",
    "    print(_, round(t1 - t0, 1))\n",
    "    compare_pos = repeat_function.rep_simulations(complete_comparison_BC_observed_positive, \n",
    "                                {\"rho\": 16, \"N\": 100}, \n",
    "                                {\"ensemble_size\": [1],\n",
    "                                 \"calibration_batches\": [200],\n",
    "                                 \"edge_per_t\": [1,4,16,64],\n",
    "                                 \"T\": [16, 32, 64, 128, 256, 512]\n",
    "                                }, repetitions = 1)\n",
    "    compare_pos_df_ = pd.DataFrame([{**rep[0], **rep[1]} for rep in compare_pos])\n",
    "    compare_pos_df = pd.concat([compare_pos_df, compare_pos_df_])\n",
    "    compare_pos_df.to_csv(f\"../data/compare_pos_bc_230805.csv\", index = None)\n",
    "    "
   ]
  },
  {
   "cell_type": "markdown",
   "id": "cdc1efba",
   "metadata": {},
   "source": [
    "#### NBCM"
   ]
  },
  {
   "cell_type": "code",
   "execution_count": null,
   "id": "ce8c8af0",
   "metadata": {},
   "outputs": [],
   "source": [
    "t0 = time()\n",
    "compare_evidences_df = pd.read_csv(f\"../data/compare_evidences_bc_230803.csv\")\n",
    "\n",
    "for _ in range(50):\n",
    "    t1 = time()\n",
    "\n",
    "    print(_, round(t1 - t0, 1))\n",
    "    compare_evidences = repeat_function.rep_simulations(complete_comparison_BC_with_evidences, \n",
    "                                    {\"rho\": 16, \"N\": 100}, \n",
    "                                    {\"ensemble_size\": [1],\n",
    "                                     \"calibration_batches\": [200],\n",
    "                                     \"edge_per_t\": [1,4,16,64],\n",
    "                                     \"evidences_per_t\": [4,8,16],\n",
    "                                     \"T\": [16, 32, 64, 128, 256, 512]\n",
    "                                    }, repetitions = 1)\n",
    "    compare_evidences_df_ = pd.DataFrame([{**rep[0], **rep[1]} for rep in compare_evidences])\n",
    "    compare_evidences_df = pd.concat([compare_evidences_df, compare_evidences_df_])\n",
    "    compare_evidences_df.to_csv(f\"../data/compare_evidences_bc_230805.csv\", index = None)\n",
    "    "
   ]
  },
  {
   "cell_type": "code",
   "execution_count": 179,
   "id": "9ed39b20",
   "metadata": {},
   "outputs": [],
   "source": [
    "compare_simple_df = pd.read_csv(\"../data/compare_simple_bc_230726.csv\")\n",
    "compare_pos_df = pd.read_csv(\"../data/compare_pos_bc_230726.csv\")\n",
    "compare_evidences_df = pd.read_csv(\"../data/compare_evidences_bc_230730.csv\")\n",
    "compare_backfire_df = pd.read_csv(\"../data/compare_backfire_bc_230730.csv\")\n"
   ]
  },
  {
   "cell_type": "code",
   "execution_count": null,
   "id": "c10a0576",
   "metadata": {},
   "outputs": [],
   "source": []
  },
  {
   "cell_type": "code",
   "execution_count": null,
   "id": "0860fa06",
   "metadata": {},
   "outputs": [],
   "source": []
  }
 ],
 "metadata": {
  "kernelspec": {
   "display_name": "Python 3 (ipykernel)",
   "language": "python",
   "name": "python3"
  },
  "language_info": {
   "codemirror_mode": {
    "name": "ipython",
    "version": 3
   },
   "file_extension": ".py",
   "mimetype": "text/x-python",
   "name": "python",
   "nbconvert_exporter": "python",
   "pygments_lexer": "ipython3",
   "version": "3.9.12"
  }
 },
 "nbformat": 4,
 "nbformat_minor": 5
}

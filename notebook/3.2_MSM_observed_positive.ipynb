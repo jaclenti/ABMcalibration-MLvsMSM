{
 "cells": [
  {
   "cell_type": "markdown",
   "id": "2782139d",
   "metadata": {},
   "source": [
    "# Calibration - BC Model Observed Positive\n",
    "In this notebook we calibrate the parameter of a bounded confidence model with observed only positive interactions, with Method of Simulated Moments.\n",
    "At each step $k$ positive interactions are observed, and $m = edge\\_per\\_t - k$ negative interactions are not observed.\n",
    "\n",
    "In order to replicate the model, at each time:\n",
    "- simulate the observed interactions\n",
    "- simulate m interactions with random pairs of nodes, extracted uniformly\n",
    "- compare the number of positive simulated interactions with the number of positive observed interactions"
   ]
  },
  {
   "cell_type": "code",
   "execution_count": 1,
   "id": "47ea8ae4",
   "metadata": {},
   "outputs": [],
   "source": [
    "import numpy as np\n",
    "import matplotlib.pyplot as plt\n",
    "import sys\n",
    "sys.path += [\"../src\"]\n",
    "import simulator_BC as sim_bc\n",
    "import estimation_epsilon_BC as est_bc\n",
    "import jax_estimation_BC as jest_bc\n",
    "from calibrator_blackit import Calibrator #i just commented few lines of code to remove the output print\n",
    "#from black_it.calibrator import Calibrator\n",
    "import pandas as pd\n",
    "from black_it.samplers.halton import HaltonSampler\n",
    "from black_it.samplers.random_forest import RandomForestSampler\n",
    "from black_it.samplers.best_batch import BestBatchSampler\n",
    "from black_it.loss_functions.msm import MethodOfMomentsLoss\n",
    "from black_it.samplers.random_uniform import RandomUniformSampler\n",
    "from typing import Sequence\n",
    "import os\n",
    "import contextlib\n",
    "from scipy.special import expit\n",
    "import torch\n",
    "import importlib\n",
    "from time import time"
   ]
  },
  {
   "cell_type": "code",
   "execution_count": 2,
   "id": "18f6131b",
   "metadata": {},
   "outputs": [
    {
     "name": "stderr",
     "output_type": "stream",
     "text": [
      "No GPU/TPU found, falling back to CPU. (Set TF_CPP_MIN_LOG_LEVEL=0 and rerun for more info.)\n"
     ]
    }
   ],
   "source": [
    "N, T, edge_per_t = 100, 200, 5\n",
    "epsilon = 0.2\n",
    "epsilon0 = 0.25\n",
    "mu = 0.5\n",
    "rho = 70\n",
    "\n",
    "X, edges = jest_bc.simulator_stoch_np(N,T,edge_per_t,epsilon,mu,rho)"
   ]
  },
  {
   "cell_type": "code",
   "execution_count": 3,
   "id": "e20686e7",
   "metadata": {},
   "outputs": [],
   "source": [
    "#this function return the simulated list of edges, from X, edges, and epsilon\n",
    "#it simulated edges[t]|X[t],u,v\n",
    "#so it knows the picked nodes and their opinions\n",
    "def simulate(X, edges, epsilon, rho = 100, seed = 1):\n",
    "    edges_pred = []\n",
    "    \n",
    "    np.random.seed(seed)\n",
    "    \n",
    "    N = len(X[0])\n",
    "    \n",
    "    T = max(edges[:,3])\n",
    "    edge_per_t = max(np.unique(edges[:,3], return_counts = True)[1])\n",
    "    \n",
    "    for t in range(T):\n",
    "        \n",
    "        edges_t = edges[edges[:,3] == t]\n",
    "        positive_t = len(edges_t)\n",
    "        for edge in edges_t:\n",
    "            u,v,s,_ = edge\n",
    "            dist = np.abs(X[t, u] - X[t, v])            \n",
    "            s = int(np.random.random() < expit(rho * (epsilon - dist)))\n",
    "            edges_pred.append([u,v,s,t])\n",
    "        for edge in range(edge_per_t - positive_t):\n",
    "            u,v = np.random.choice(N, 2, replace = False)\n",
    "            dist = np.abs(X[t, u] - X[t, v])\n",
    "            s = int(np.random.random() < expit(rho * (epsilon - dist)))\n",
    "            edges_pred.append([u,v,s,t])                \n",
    "\n",
    "    return np.array(edges_pred)"
   ]
  },
  {
   "cell_type": "code",
   "execution_count": 6,
   "id": "45cc0a89",
   "metadata": {},
   "outputs": [],
   "source": [
    "pred_edges = simulate(X, edges, 0.1)\n",
    "\n",
    "mean_s = np.array(pd.DataFrame(pred_edges, columns = [\"u\", \"v\", \"s\", \"t\"]).groupby(\"t\").mean()[\"s\"])"
   ]
  },
  {
   "cell_type": "code",
   "execution_count": 4,
   "id": "7e3ceef0",
   "metadata": {},
   "outputs": [],
   "source": [
    "#define a simulator class for simulating the BC model knowing the real edges and opinions\n",
    "#the calibration will compare the arrays of signs: self.s and simulate_s([epsilon])\n",
    "#i input theta = [epsilon], instead of epsilon, because the Calibrator of black-it is designed for calibrating a list of parameters\n",
    "class BC_observe_positive_simulator_given_previous_time():\n",
    "    def __init__(self, X, edges, mu, real_epsilon, rho = 100, seed = 1):\n",
    "        self.T, self.N = X.shape\n",
    "        self.edge_per_t = max(np.unique(edges[:,3], return_counts = True)[1])\n",
    "        self.X = X\n",
    "        self.edges = edges\n",
    "        self.mu = mu\n",
    "        self.real_epsilon = real_epsilon\n",
    "        self.rho = rho\n",
    "        self.seed = seed\n",
    "        mean_s = np.array(pd.DataFrame(self.edges, columns = [\"u\", \"v\", \"s\", \"t\"]).groupby(\"t\").mean()[\"s\"])\n",
    "        self.mean_s = mean_s[:,None]\n",
    "        #self.mean_s = np.array(edges[:,:,2]).mean(axis = 1)[:,None]\n",
    "    \n",
    "    \n",
    "    #this function return the simulated list of edges, from X, edges, and epsilon\n",
    "    #it simulated edges[t]|X[t],u,v\n",
    "    #so it knows the picked nodes and their opinions\n",
    "    def simulate_edges(self, epsilon):\n",
    "        edges_pred = []\n",
    "\n",
    "        for t in range(self.T - 1):\n",
    "\n",
    "            edges_t = self.edges[self.edges[:,3] == t]\n",
    "            positive_t = len(edges_t)\n",
    "            for edge in edges_t:\n",
    "                u,v,s,_ = edge\n",
    "                dist = np.abs(self.X[t, u] - self.X[t, v])            \n",
    "                s = int(np.random.random() < expit(self.rho * (epsilon - dist)))\n",
    "                edges_pred.append([u,v,s,t])\n",
    "            for edge in range(self.edge_per_t - positive_t):\n",
    "                u,v = np.random.choice(self.N, 2, replace = False)\n",
    "                dist = np.abs(self.X[t, u] - self.X[t, v])\n",
    "                s = int(np.random.random() < expit(self.rho * (epsilon - dist)))\n",
    "                edges_pred.append([u,v,s,t])                \n",
    "\n",
    "        return np.array(edges_pred)\n",
    "\n",
    "    \n",
    "    def simulate_mean_s(self, theta, _ = None, seed = None):\n",
    "        epsilon, = theta\n",
    "        \n",
    "        if seed != None:\n",
    "            np.random.seed(self.seed)\n",
    "        \n",
    "        pred_edges = self.simulate_edges(epsilon)\n",
    "        mean_s_pred = np.array(pd.DataFrame(pred_edges, columns = [\"u\", \"v\", \"s\", \"t\"]).groupby(\"t\").mean()[\"s\"])\n",
    "        \n",
    "        return mean_s_pred[:, None] #Calibrator requires a time series of dim N, n_of_parameters\"\"\""
   ]
  },
  {
   "cell_type": "code",
   "execution_count": 5,
   "id": "81335be3",
   "metadata": {},
   "outputs": [],
   "source": [
    "N, T, edge_per_t = 100, 400, 3\n",
    "\n",
    "epsilon, mu = 0.22, 0.6\n",
    "\n",
    "epsilon_bounds = [[0.], [1.]]\n",
    "precisions = [0.0001]"
   ]
  },
  {
   "cell_type": "code",
   "execution_count": 6,
   "id": "b7201679",
   "metadata": {},
   "outputs": [],
   "source": [
    "X, edges = jest_bc.simulator_stoch_np(N, T, edge_per_t, epsilon, mu, seed = 1004, rho = 70)\n",
    "s_edges = mean_s_pred = np.array(pd.DataFrame(edges, columns = [\"u\", \"v\", \"s\", \"t\"]).groupby(\"t\").mean()[\"s\"])\n",
    "\n",
    "simulator_BC = BC_observe_positive_simulator_given_previous_time(X, edges, mu, epsilon)"
   ]
  },
  {
   "cell_type": "code",
   "execution_count": 7,
   "id": "3b641818",
   "metadata": {},
   "outputs": [],
   "source": [
    "s_pred = simulator_BC.simulate_mean_s([0.4])"
   ]
  },
  {
   "cell_type": "code",
   "execution_count": 14,
   "id": "4aee361c",
   "metadata": {},
   "outputs": [
    {
     "data": {
      "text/plain": [
       "'BC_cal = define_calibrator_BC(simulator_BC, samplers = [sampler(batch_size)], loss = loss,\\n                              epsilon_bounds = epsilon_bounds, precisions = precisions, compare_all_s = compare_all_s)\\n\\nepsilon_BCcal, loss_BCcal = BC_cal.calibrate(calibration_batches)\\nloss_epsilon_df = pd.DataFrame([{\"epsilon\": epsilon_BCcal[k,0], \"loss\": loss_BCcal[k]} for k in range(len(loss_BCcal))]).sort_values(\"epsilon\").set_index(\"epsilon\")\\n\\n\\nif plot_loss:\\n    fig, ax = plt.subplots(nrows = 1, ncols = 1)\\n    ax.plot(loss_epsilon_df)\\n    ax.vlines(x = simulator_BC.real_epsilon, ymin = -0.5, ymax = loss_epsilon_df.max(), colors = \"red\")\\n\\n    estimated_epsilon = loss_epsilon_df.sort_values(\"loss\").index[0]\\n    t1 = time()\\n    calibration = {\"loss\": loss_epsilon_df, \"epsilon\": estimated_epsilon}\\n    \\n    if return_time:\\n        calibration[\"time\"] = t1-t0\\n    '"
      ]
     },
     "execution_count": 14,
     "metadata": {},
     "output_type": "execute_result"
    }
   ],
   "source": [
    "\"\"\"BC_cal = define_calibrator_BC(simulator_BC, samplers = [sampler(batch_size)], loss = loss,\n",
    "                              epsilon_bounds = epsilon_bounds, precisions = precisions, compare_all_s = compare_all_s)\n",
    "\n",
    "epsilon_BCcal, loss_BCcal = BC_cal.calibrate(calibration_batches)\n",
    "loss_epsilon_df = pd.DataFrame([{\"epsilon\": epsilon_BCcal[k,0], \"loss\": loss_BCcal[k]} for k in range(len(loss_BCcal))]).sort_values(\"epsilon\").set_index(\"epsilon\")\n",
    "\n",
    "\n",
    "if plot_loss:\n",
    "    fig, ax = plt.subplots(nrows = 1, ncols = 1)\n",
    "    ax.plot(loss_epsilon_df)\n",
    "    ax.vlines(x = simulator_BC.real_epsilon, ymin = -0.5, ymax = loss_epsilon_df.max(), colors = \"red\")\n",
    "\n",
    "    estimated_epsilon = loss_epsilon_df.sort_values(\"loss\").index[0]\n",
    "    t1 = time()\n",
    "    calibration = {\"loss\": loss_epsilon_df, \"epsilon\": estimated_epsilon}\n",
    "    \n",
    "    if return_time:\n",
    "        calibration[\"time\"] = t1-t0\n",
    "    \"\"\""
   ]
  },
  {
   "cell_type": "code",
   "execution_count": null,
   "id": "2e892ad7",
   "metadata": {},
   "outputs": [],
   "source": []
  },
  {
   "cell_type": "code",
   "execution_count": 15,
   "id": "c8410961",
   "metadata": {},
   "outputs": [],
   "source": [
    "epsilon_bounds = [[0.], [0.5]]\n",
    "precisions = [0.0001]\n",
    "samplers = [HaltonSampler(6)]\n",
    "loss = MethodOfMomentsLoss()\n",
    "model_simulator_bc = simulator_BC.simulate_mean_s\n",
    "real_data_s = simulator_BC.mean_s\n",
    "\n",
    "BC_cal = Calibrator(real_data = real_data_s,\n",
    "                    samplers = samplers,\n",
    "                    loss_function = loss,\n",
    "                    model = model_simulator_bc,\n",
    "                    parameters_bounds = epsilon_bounds,\n",
    "                    parameters_precision = precisions,\n",
    "                    ensemble_size = 3,\n",
    "                    saving_folder = None,\n",
    "                    verbose = False,\n",
    "                    n_jobs = 1#'initial_state'\n",
    "                   )"
   ]
  },
  {
   "cell_type": "code",
   "execution_count": 16,
   "id": "20d8923d",
   "metadata": {},
   "outputs": [],
   "source": [
    "calibration_batches = 200\n",
    "epsilon_BCcal, loss_BCcal = BC_cal.calibrate(calibration_batches)"
   ]
  },
  {
   "cell_type": "code",
   "execution_count": 17,
   "id": "a93bcc4b",
   "metadata": {},
   "outputs": [
    {
     "data": {
      "text/plain": [
       "<matplotlib.collections.LineCollection at 0x7f212c263220>"
      ]
     },
     "execution_count": 17,
     "metadata": {},
     "output_type": "execute_result"
    },
    {
     "data": {
      "image/png": "[encoded data removed]",
      "text/plain": [
       "<Figure size 640x480 with 1 Axes>"
      ]
     },
     "metadata": {},
     "output_type": "display_data"
    }
   ],
   "source": [
    "fig, ax = plt.subplots(nrows = 1, ncols = 1)\n",
    "ax.plot(pd.DataFrame([epsilon_BCcal[:,0], loss_BCcal]).T.rename(columns = {0: \"epsilon\", 1: \"loss\"}).sort_values(\"epsilon\").set_index(\"epsilon\"))\n",
    "ax.vlines(x = epsilon, ymin = -0.5, ymax = 4, colors = \"red\")"
   ]
  },
  {
   "cell_type": "markdown",
   "id": "6247a3e5",
   "metadata": {},
   "source": [
    "#### calibration_observed_positive_BC.py\n",
    "Repeat the same routine, with the same functions in the src file."
   ]
  },
  {
   "cell_type": "code",
   "execution_count": 21,
   "id": "41d762ef",
   "metadata": {
    "collapsed": true
   },
   "outputs": [
    {
     "data": {
      "text/plain": [
       "<module 'calibration_observed_positive_BC' from '/home/jacopo.lenti/Projects/learning-od-step-by-step/src/calibration_observed_positive_BC.py'>"
      ]
     },
     "execution_count": 21,
     "metadata": {},
     "output_type": "execute_result"
    }
   ],
   "source": [
    "from importlib import reload\n",
    "\n",
    "import calibration_observed_positive_BC as cal_bc2\n",
    "\n",
    "reload(cal_bc2)"
   ]
  },
  {
   "cell_type": "code",
   "execution_count": 22,
   "id": "6e7fe378",
   "metadata": {},
   "outputs": [],
   "source": [
    "simulator_BC = cal_bc2.BC_observe_positive_simulator_given_previous_time(X, edges, mu, epsilon)"
   ]
  },
  {
   "cell_type": "code",
   "execution_count": 23,
   "id": "263b002e",
   "metadata": {},
   "outputs": [
    {
     "data": {
      "image/png": "[encoded data removed]",
      "text/plain": [
       "<Figure size 640x480 with 1 Axes>"
      ]
     },
     "metadata": {},
     "output_type": "display_data"
    }
   ],
   "source": [
    "res_calibration = cal_bc2.calibrate_epsilon_BC(simulator_BC)"
   ]
  },
  {
   "cell_type": "code",
   "execution_count": 24,
   "id": "5361adb1",
   "metadata": {},
   "outputs": [
    {
     "data": {
      "text/plain": [
       "(0.20770000000000002, 0.22)"
      ]
     },
     "execution_count": 24,
     "metadata": {},
     "output_type": "execute_result"
    }
   ],
   "source": [
    "res_calibration[\"epsilon\"], epsilon"
   ]
  },
  {
   "cell_type": "code",
   "execution_count": null,
   "id": "d333820a",
   "metadata": {},
   "outputs": [],
   "source": []
  }
 ],
 "metadata": {
  "kernelspec": {
   "display_name": "Python 3 (ipykernel)",
   "language": "python",
   "name": "python3"
  },
  "language_info": {
   "codemirror_mode": {
    "name": "ipython",
    "version": 3
   },
   "file_extension": ".py",
   "mimetype": "text/x-python",
   "name": "python",
   "nbconvert_exporter": "python",
   "pygments_lexer": "ipython3",
   "version": "3.9.12"
  }
 },
 "nbformat": 4,
 "nbformat_minor": 5
}

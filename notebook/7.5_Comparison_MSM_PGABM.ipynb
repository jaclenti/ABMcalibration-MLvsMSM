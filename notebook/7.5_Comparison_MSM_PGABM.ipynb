{
 "cells": [
  {
   "cell_type": "code",
   "execution_count": 9,
   "id": "e630884b",
   "metadata": {},
   "outputs": [],
   "source": [
    "import sys\n",
    "sys.path += [\"../src\"]\n",
    "\n",
    "from opinion_dynamics_models_estimation import simulate_BC\n",
    "import pandas as pd\n",
    "import opinion_dynamics_models_estimation as oe\n",
    "\n",
    "\n",
    "from MSM_calibrator import calibrate_params_ABM\n",
    "from MSM_simulators import BC_simulator, BC_simulator_positive_observations, BC_simulator_X_evidences, BC_simulator_X_evidences_backfire\n",
    "import json"
   ]
  },
  {
   "cell_type": "code",
   "execution_count": 10,
   "id": "c9bcd83e",
   "metadata": {},
   "outputs": [],
   "source": [
    "import numpy as np\n",
    "import matplotlib.pyplot as plt\n",
    "import seaborn as sns\n",
    "from matplotlib.colors import LogNorm, Normalize\n",
    "import repeat_function\n",
    "from importlib import reload\n",
    "from scipy.special import expit as sigmoid\n",
    "from time import time"
   ]
  },
  {
   "cell_type": "code",
   "execution_count": 11,
   "id": "6bfc550a",
   "metadata": {},
   "outputs": [
    {
     "data": {
      "text/plain": [
       "<module 'opinion_dynamics_models_estimation' from '/home/jacopo.lenti/Projects/learning-od-step-by-step/src/opinion_dynamics_models_estimation.py'>"
      ]
     },
     "execution_count": 11,
     "metadata": {},
     "output_type": "execute_result"
    }
   ],
   "source": [
    "reload(oe)"
   ]
  },
  {
   "cell_type": "code",
   "execution_count": 12,
   "id": "ffcb2d7e",
   "metadata": {},
   "outputs": [],
   "source": [
    "hyperparams_simple_BC = json.load(open(\"../data/hyperparams_simple_bc.json\", 'r'))\n",
    "hyperparams_obs_pos_BC = json.load(open(\"../data/hyperparams_obs_pos_bc.json\", 'r'))\n",
    "hyperparams_evidence_BC = json.load(open(\"../data/hyperparams_evidence_bc.json\", 'r'))\n",
    "hyperparams_backfire_BC = json.load(open(\"../data/hyperparams_backfire_bc.json\", 'r'))"
   ]
  },
  {
   "cell_type": "code",
   "execution_count": 5,
   "id": "ceb227a0",
   "metadata": {},
   "outputs": [],
   "source": [
    "def complete_comparison_simple_BC(N, T, edge_per_t, evidences_per_t = 1, rho = 16,\n",
    "                                  calibration_batches = 400, ensemble_size = 1, seed = None):\n",
    "    np.random.seed(seed)\n",
    "    #epsilon, mu = np.random.random(2) / 2\n",
    "    mu = 0.1\n",
    "    epsilon = np.random.random() / 2\n",
    "    \n",
    "    X, edges, _ = simulate_BC(N, T, edge_per_t, evidences_per_t, (epsilon, mu, rho))\n",
    "    simulator = BC_simulator(X[0], edges, N, mu, epsilon, rho)\n",
    "    calibration_df, time_calibration = calibrate_params_ABM(simulator, calibration_batches = calibration_batches, ensemble_size = ensemble_size)\n",
    "    \n",
    "    pgabm_estimation = oe.estimation_BC_model_from_data(X, edges, _, (epsilon, mu, rho), **hyperparams_simple_BC)\n",
    "    \n",
    "    return {\"real_epsilon\": epsilon, \n",
    "            \"mu\": mu, \n",
    "            \"rho\": rho, \n",
    "            \"epsilon_msm\": calibration_df[\"epsilon\"][0], \n",
    "            \"time_msm\": time_calibration,\n",
    "            \"calibration_batches\": calibration_batches, \n",
    "            \"abs_error_msm\": np.abs(calibration_df[\"epsilon\"][0] - epsilon),\n",
    "            \"rel_error_msm\": np.abs(calibration_df[\"epsilon\"][0] - epsilon) / epsilon,\n",
    "            \"ensemble_size\": ensemble_size,\n",
    "            \"epsilon_pgabm\": pgabm_estimation[\"epsilon_estimated\"],\n",
    "            \"time_pgabm\": pgabm_estimation[\"time\"],\n",
    "            \"abs_error_pgabm\": pgabm_estimation[\"distance_epsilon\"],\n",
    "            \"rel_error_pgabm\": pgabm_estimation[\"distance_epsilon\"] / epsilon,\n",
    "            \"num_epochs\": pgabm_estimation[\"num_epochs\"]\n",
    "           }\n",
    "\n",
    "\n",
    "def complete_comparison_BC_observed_positive(N, T, edge_per_t, evidences_per_t = 1, rho = 16, calibration_batches = 400, ensemble_size = 1, seed = None):\n",
    "    np.random.seed(seed)\n",
    "    #epsilon, mu = np.random.random(2) / 2\n",
    "    mu = 0.1\n",
    "    epsilon = np.random.random() / 2\n",
    "    X, edges,_ = simulate_BC(N, T, edge_per_t, evidences_per_t, (epsilon, mu, rho))\n",
    "    simulator = BC_simulator_positive_observations(X[0], edges, N, mu, epsilon, rho)\n",
    "    calibration_df, time_calibration = calibrate_params_ABM(simulator, calibration_batches = calibration_batches, ensemble_size = ensemble_size)\n",
    "    \n",
    "    pgabm_estimation = oe.estimation_BC_model_from_data(X, edges, _, (epsilon, mu, rho), **hyperparams_obs_pos_BC)\n",
    "    \n",
    "    return {\"real_epsilon\": epsilon, \n",
    "            \"mu\": mu, \n",
    "            \"rho\": rho, \n",
    "            \"epsilon_msm\": calibration_df[\"epsilon\"][0], \n",
    "            \"time_msm\": time_calibration,\n",
    "            \"calibration_batches\": calibration_batches, \n",
    "            \"abs_error_msm\": np.abs(calibration_df[\"epsilon\"][0] - epsilon),\n",
    "            \"rel_error_msm\": np.abs(calibration_df[\"epsilon\"][0] - epsilon) / epsilon,\n",
    "            \"ensemble_size\": ensemble_size,\n",
    "            \"epsilon_pgabm\": pgabm_estimation[\"epsilon_estimated\"],\n",
    "            \"time_pgabm\": pgabm_estimation[\"time\"],\n",
    "            \"abs_error_pgabm\": pgabm_estimation[\"distance_epsilon\"],\n",
    "            \"rel_error_pgabm\": pgabm_estimation[\"distance_epsilon\"] / epsilon,\n",
    "            \"num_epochs\": pgabm_estimation[\"num_epochs\"]\n",
    "           }\n",
    "\n",
    "\n",
    "def complete_comparison_BC_with_evidences(N, T, edge_per_t, evidences_per_t, rho = 16, calibration_batches = 400, ensemble_size = 1, seed = None):\n",
    "    np.random.seed(seed)\n",
    "    #epsilon, mu = np.random.random(2) / 2\n",
    "    mu = 0.1\n",
    "    epsilon = np.random.random() / 2\n",
    "    \n",
    "    X, edges, evidences = simulate_BC(N, T, edge_per_t, evidences_per_t, (epsilon, mu, rho))\n",
    "    simulator = BC_simulator_X_evidences(N, edges, evidences, mu, epsilon, rho = rho)\n",
    "    calibration_df, time_calibration = calibrate_params_ABM(simulator, calibration_batches = calibration_batches, ensemble_size = ensemble_size)\n",
    "    \n",
    "    pgabm_estimation = oe.estimation_BC_model_from_data(X, edges, evidences, (epsilon, mu, rho), **hyperparams_evidence_BC)\n",
    "    \n",
    "    return {\"real_epsilon\": epsilon, \n",
    "            \"mu\": mu, \n",
    "            \"rho\": rho, \n",
    "            \"epsilon_msm\": calibration_df[\"epsilon\"][0], \n",
    "            \"time_msm\": time_calibration,\n",
    "            \"calibration_batches\": calibration_batches, \n",
    "            \"abs_error_msm\": np.abs(calibration_df[\"epsilon\"][0] - epsilon),\n",
    "            \"rel_error_msm\": np.abs(calibration_df[\"epsilon\"][0] - epsilon) / epsilon,\n",
    "            \"ensemble_size\": ensemble_size,\n",
    "            \"epsilon_pgabm\": pgabm_estimation[\"epsilon_estimated\"],\n",
    "            \"time_pgabm\": pgabm_estimation[\"time\"],\n",
    "            \"abs_error_pgabm\": pgabm_estimation[\"distance_epsilon\"],\n",
    "            \"rel_error_pgabm\": pgabm_estimation[\"distance_epsilon\"] / epsilon,\n",
    "            \"X0_r2\": pgabm_estimation[\"X0_r2\"],\n",
    "            \"X0_mae\": pgabm_estimation[\"X0_mae\"],\n",
    "            \"X0_mse\": pgabm_estimation[\"X0_mse\"],\n",
    "            \"num_epochs\": pgabm_estimation[\"num_epochs\"]\n",
    "           }\n",
    "\n",
    "def complete_comparison_BC_backfire(N, T, edge_per_t, evidences_per_t, rho = 16, calibration_batches = 400, ensemble_size = 1, seed = None):\n",
    "    np.random.seed(seed)\n",
    "    epsilon_plus = np.random.random() / 2\n",
    "    epsilon_minus = 0.5 + (np.random.random() / 2)\n",
    "    #mu_plus = mu_minus = np.random.random() / 2\n",
    "    mu_plus = mu_minus = 0.1\n",
    "    \n",
    "    X, edges, evidences = simulate_BC(N, T, edge_per_t, evidences_per_t, \n",
    "                                      (epsilon_plus, epsilon_minus, mu_plus, mu_minus, rho), model = \"backfire\")\n",
    "    simulator = BC_simulator_X_evidences_backfire(N, edges, evidences, mu_plus, mu_minus, \n",
    "                                                  epsilon_plus, epsilon_minus, rho = rho)\n",
    "    calibration_df, time_calibration = calibrate_params_ABM(simulator, \n",
    "                                                            parameters_names = [\"epsilon_plus\", \"epsilon_minus\"],\n",
    "                                                            precisions = [0.0001, 0.0001],\n",
    "                                                            parameters_bounds = [[0.,.5], [.5,1.]],\n",
    "                                                            calibration_batches = calibration_batches, \n",
    "                                                            ensemble_size = ensemble_size)\n",
    "    \n",
    "    pgabm_estimation = oe.estimation_BC_model_from_data(X, edges, evidences, \n",
    "                                                        (epsilon_plus, epsilon_minus, mu_plus, mu_minus, rho), \n",
    "                                                        **hyperparams_backfire_BC)\n",
    "    \n",
    "    return {\"real_epsilon_plus\": epsilon_plus, \n",
    "            \"real_epsilon_minus\": epsilon_minus,\n",
    "            \"mu_plus\": mu_plus, \n",
    "            \"mu_minus\": mu_minus, \n",
    "            \"rho\": rho, \n",
    "            \"epsilon_plus_msm\": calibration_df[\"epsilon_plus\"][0], \n",
    "            \"epsilon_minus_msm\": calibration_df[\"epsilon_minus\"][0], \n",
    "            \"time_msm\": time_calibration,\n",
    "            \"calibration_batches\": calibration_batches,\n",
    "            \"abs_error_msm_plus\": np.abs(calibration_df[\"epsilon_plus\"][0] - epsilon_plus),\n",
    "            \"abs_error_msm_minus\": np.abs(calibration_df[\"epsilon_minus\"][0] - epsilon_minus),\n",
    "            \"rel_error_msm_plus\": np.abs(calibration_df[\"epsilon_plus\"][0] - epsilon_plus) / epsilon_plus,\n",
    "            \"rel_error_msm_minus\": np.abs(calibration_df[\"epsilon_minus\"][0] - epsilon_minus) / epsilon_minus,\n",
    "            \"ensemble_size\": ensemble_size,\n",
    "            \"epsilon_plus_pgabm\": pgabm_estimation[\"epsilon_plus_estimated\"],\n",
    "            \"epsilon_minus_pgabm\": pgabm_estimation[\"epsilon_minus_estimated\"],\n",
    "            \"time_pgabm\": pgabm_estimation[\"time\"],\n",
    "            \"abs_error_pgabm_plus\": pgabm_estimation[\"distance_epsilon_plus\"],\n",
    "            \"abs_error_pgabm_minus\": pgabm_estimation[\"distance_epsilon_minus\"],\n",
    "            \"rel_error_pgabm_plus\": pgabm_estimation[\"distance_epsilon_plus\"] / epsilon_plus,\n",
    "            \"rel_error_pgabm_minus\": pgabm_estimation[\"distance_epsilon_minus\"] / epsilon_minus,\n",
    "            \"X0_r2\": pgabm_estimation[\"X0_r2\"],\n",
    "            \"X0_mae\": pgabm_estimation[\"X0_mae\"],\n",
    "            \"X0_mse\": pgabm_estimation[\"X0_mse\"],\n",
    "            \"num_epochs\": pgabm_estimation[\"num_epochs\"]\n",
    "           }"
   ]
  },
  {
   "cell_type": "code",
   "execution_count": 6,
   "id": "ad41db4b",
   "metadata": {},
   "outputs": [],
   "source": [
    "compare_simple_cols = ['ensemble_size', 'calibration_batches', 'edge_per_t', 'T',\n",
    "       'real_epsilon', 'mu', 'rho', 'epsilon_msm', 'time_msm', 'abs_error_msm',\n",
    "       'rel_error_msm', 'epsilon_pgabm', 'time_pgabm', 'abs_error_pgabm',\n",
    "       'rel_error_pgabm']\n",
    "\n",
    "compare_evidences_cols = ['ensemble_size', 'calibration_batches', 'edge_per_t', 'evidences_per_t',\n",
    "       'T', 'real_epsilon', 'mu', 'rho', 'epsilon_msm', 'time_msm',\n",
    "       'abs_error_msm', 'rel_error_msm', 'epsilon_pgabm', 'time_pgabm',\n",
    "       'abs_error_pgabm', 'rel_error_pgabm', 'X0_r2']\n",
    "\n",
    "compare_backfire_cols = ['ensemble_size', 'calibration_batches', 'edge_per_t', 'evidences_per_t',\n",
    "                         'T', 'real_epsilon_plus', 'real_epsilon_minus', 'mu_plus', 'mu_minus',\n",
    "                         'rho', 'epsilon_plus_msm', 'epsilon_minus_msm', 'time_msm',\n",
    "                         'abs_error_msm_plus', 'abs_error_msm_minus', 'rel_error_msm_plus',\n",
    "                         'rel_error_msm_minus', 'epsilon_plus_pgabm', 'epsilon_minus_pgabm',\n",
    "                         'time_pgabm', 'abs_error_pgabm_plus', 'abs_error_pgabm_minus',\n",
    "                         'rel_error_pgabm_plus', 'rel_error_pgabm_minus', 'X0_r2']"
   ]
  },
  {
   "cell_type": "code",
   "execution_count": 17,
   "id": "94bd5696",
   "metadata": {
    "collapsed": true
   },
   "outputs": [
    {
     "name": "stdout",
     "output_type": "stream",
     "text": [
      "0 0.0\n",
      "1 226.3\n",
      "2 453.1\n",
      "3 679.8\n",
      "4 906.8\n",
      "5 1134.0\n",
      "6 1360.9\n",
      "7 1588.0\n",
      "8 1815.0\n",
      "9 2041.8\n",
      "10 2268.4\n",
      "11 2495.2\n",
      "12 2722.6\n",
      "13 2950.5\n",
      "14 3177.8\n",
      "15 3404.9\n",
      "16 3631.3\n",
      "17 3874.5\n",
      "18 4152.1\n",
      "19 4384.1\n",
      "20 4638.5\n",
      "21 4894.7\n",
      "22 5120.9\n",
      "23 5347.3\n"
     ]
    },
    {
     "name": "stderr",
     "output_type": "stream",
     "text": [
      "/home/jacopo.lenti/miniconda3/lib/python3.9/site-packages/statsmodels/tsa/stattools.py:681: RuntimeWarning: invalid value encountered in divide\n",
      "  acf = avf[: nlags + 1] / avf[0]\n"
     ]
    },
    {
     "name": "stdout",
     "output_type": "stream",
     "text": [
      "24 5581.5\n"
     ]
    },
    {
     "name": "stderr",
     "output_type": "stream",
     "text": [
      "/home/jacopo.lenti/miniconda3/lib/python3.9/site-packages/black_it/utils/time_series.py:57: RuntimeWarning: Precision loss occurred in moment calculation due to catastrophic cancellation. This occurs when the data are nearly identical. Results may be unreliable.\n",
      "  s, k = skew(time_series), kurtosis(time_series)  # pylint: disable=invalid-name\n",
      "/home/jacopo.lenti/miniconda3/lib/python3.9/site-packages/statsmodels/tsa/stattools.py:681: RuntimeWarning: invalid value encountered in divide\n",
      "  acf = avf[: nlags + 1] / avf[0]\n"
     ]
    },
    {
     "name": "stdout",
     "output_type": "stream",
     "text": [
      "25 5853.7\n",
      "26 6080.8\n",
      "27 6308.0\n",
      "28 6534.6\n",
      "29 6761.5\n",
      "30 6988.4\n",
      "31 7215.5\n",
      "32 7442.9\n",
      "33 7670.0\n",
      "34 7919.0\n",
      "35 8195.2\n",
      "36 8473.0\n",
      "37 8750.9\n",
      "38 9028.0\n",
      "39 9305.8\n",
      "40 9583.6\n",
      "41 9863.5\n",
      "42 10140.5\n",
      "43 10417.1\n",
      "44 10693.8\n",
      "45 10971.8\n",
      "46 11249.3\n",
      "47 11526.4\n",
      "48 11803.5\n",
      "49 12080.9\n",
      "50 12359.3\n",
      "51 12636.7\n",
      "52 12915.1\n",
      "53 13194.7\n",
      "54 13472.9\n",
      "55 13749.4\n"
     ]
    },
    {
     "name": "stderr",
     "output_type": "stream",
     "text": [
      "/home/jacopo.lenti/miniconda3/lib/python3.9/site-packages/black_it/utils/time_series.py:57: RuntimeWarning: Precision loss occurred in moment calculation due to catastrophic cancellation. This occurs when the data are nearly identical. Results may be unreliable.\n",
      "  s, k = skew(time_series), kurtosis(time_series)  # pylint: disable=invalid-name\n",
      "/home/jacopo.lenti/miniconda3/lib/python3.9/site-packages/statsmodels/tsa/stattools.py:681: RuntimeWarning: invalid value encountered in divide\n",
      "  acf = avf[: nlags + 1] / avf[0]\n"
     ]
    },
    {
     "name": "stdout",
     "output_type": "stream",
     "text": [
      "56 14027.3\n",
      "57 14304.7\n",
      "58 14581.3\n",
      "59 14859.4\n",
      "60 15136.8\n",
      "61 15413.0\n",
      "62 15690.7\n",
      "63 15969.8\n",
      "64 16246.6\n",
      "65 16525.5\n"
     ]
    },
    {
     "name": "stderr",
     "output_type": "stream",
     "text": [
      "/home/jacopo.lenti/miniconda3/lib/python3.9/site-packages/statsmodels/tsa/stattools.py:681: RuntimeWarning: invalid value encountered in divide\n",
      "  acf = avf[: nlags + 1] / avf[0]\n"
     ]
    },
    {
     "name": "stdout",
     "output_type": "stream",
     "text": [
      "66 16805.0\n",
      "67 17082.8\n",
      "68 17360.7\n",
      "69 17637.2\n"
     ]
    }
   ],
   "source": [
    "t0 = time()\n",
    "\n",
    "#compare_simple_df = pd.DataFrame([], columns = compare_simple_cols)\n",
    "compare_simple_df = pd.read_csv(\"../data/compare_simple_bc_230803.csv\")\n",
    "\n",
    "for _ in range(70):\n",
    "    t1 = time()\n",
    "    \n",
    "    print(_, round(t1 - t0, 1))\n",
    "    compare_simple = repeat_function.rep_simulations(complete_comparison_simple_BC, \n",
    "                                {\"rho\": 16, \"N\": 100}, \n",
    "                                {\"ensemble_size\": [1],\n",
    "                                 \"calibration_batches\": [200],\n",
    "                                 \"edge_per_t\": [1,4,16,64],\n",
    "                                 \"T\": [16, 32, 64, 128, 256, 512]\n",
    "                                }, repetitions = 1)\n",
    "    compare_simple_df_ = pd.DataFrame([{**rep[0], **rep[1]} for rep in compare_simple])\n",
    "    compare_simple_df = pd.concat([compare_simple_df, compare_simple_df_])\n",
    "    compare_simple_df.to_csv(f\"../data/compare_simple_bc_230805.csv\", index = None)\n",
    "    "
   ]
  },
  {
   "cell_type": "code",
   "execution_count": null,
   "id": "f909216d",
   "metadata": {
    "collapsed": true
   },
   "outputs": [
    {
     "name": "stdout",
     "output_type": "stream",
     "text": [
      "0 0.0\n"
     ]
    },
    {
     "name": "stderr",
     "output_type": "stream",
     "text": [
      "/home/jacopo.lenti/miniconda3/lib/python3.9/site-packages/statsmodels/tsa/stattools.py:681: RuntimeWarning: invalid value encountered in divide\n",
      "  acf = avf[: nlags + 1] / avf[0]\n"
     ]
    },
    {
     "name": "stdout",
     "output_type": "stream",
     "text": [
      "0 1461.6\n"
     ]
    },
    {
     "name": "stderr",
     "output_type": "stream",
     "text": [
      "/home/jacopo.lenti/miniconda3/lib/python3.9/site-packages/statsmodels/tsa/stattools.py:681: RuntimeWarning: invalid value encountered in divide\n",
      "  acf = avf[: nlags + 1] / avf[0]\n"
     ]
    },
    {
     "name": "stdout",
     "output_type": "stream",
     "text": [
      "1 1855.9\n"
     ]
    },
    {
     "name": "stderr",
     "output_type": "stream",
     "text": [
      "/home/jacopo.lenti/miniconda3/lib/python3.9/site-packages/statsmodels/tsa/stattools.py:681: RuntimeWarning: invalid value encountered in divide\n",
      "  acf = avf[: nlags + 1] / avf[0]\n"
     ]
    },
    {
     "name": "stdout",
     "output_type": "stream",
     "text": [
      "1 3277.1\n"
     ]
    },
    {
     "name": "stderr",
     "output_type": "stream",
     "text": [
      "/home/jacopo.lenti/miniconda3/lib/python3.9/site-packages/statsmodels/tsa/stattools.py:681: RuntimeWarning: invalid value encountered in divide\n",
      "  acf = avf[: nlags + 1] / avf[0]\n"
     ]
    },
    {
     "name": "stdout",
     "output_type": "stream",
     "text": [
      "2 3679.1\n",
      "2 5119.0\n"
     ]
    },
    {
     "name": "stderr",
     "output_type": "stream",
     "text": [
      "/home/jacopo.lenti/miniconda3/lib/python3.9/site-packages/statsmodels/tsa/stattools.py:681: RuntimeWarning: invalid value encountered in divide\n",
      "  acf = avf[: nlags + 1] / avf[0]\n"
     ]
    },
    {
     "name": "stdout",
     "output_type": "stream",
     "text": [
      "3 5514.3\n",
      "3 7060.0\n"
     ]
    },
    {
     "name": "stderr",
     "output_type": "stream",
     "text": [
      "/home/jacopo.lenti/miniconda3/lib/python3.9/site-packages/black_it/utils/time_series.py:57: RuntimeWarning: Precision loss occurred in moment calculation due to catastrophic cancellation. This occurs when the data are nearly identical. Results may be unreliable.\n",
      "  s, k = skew(time_series), kurtosis(time_series)  # pylint: disable=invalid-name\n",
      "/home/jacopo.lenti/miniconda3/lib/python3.9/site-packages/statsmodels/tsa/stattools.py:681: RuntimeWarning: invalid value encountered in divide\n",
      "  acf = avf[: nlags + 1] / avf[0]\n"
     ]
    },
    {
     "name": "stdout",
     "output_type": "stream",
     "text": [
      "4 7535.2\n"
     ]
    },
    {
     "name": "stderr",
     "output_type": "stream",
     "text": [
      "/home/jacopo.lenti/miniconda3/lib/python3.9/site-packages/statsmodels/tsa/stattools.py:681: RuntimeWarning: invalid value encountered in divide\n",
      "  acf = avf[: nlags + 1] / avf[0]\n"
     ]
    },
    {
     "name": "stdout",
     "output_type": "stream",
     "text": [
      "4 9641.5\n"
     ]
    },
    {
     "name": "stderr",
     "output_type": "stream",
     "text": [
      "/home/jacopo.lenti/miniconda3/lib/python3.9/site-packages/statsmodels/tsa/stattools.py:681: RuntimeWarning: invalid value encountered in divide\n",
      "  acf = avf[: nlags + 1] / avf[0]\n",
      "/home/jacopo.lenti/miniconda3/lib/python3.9/site-packages/black_it/utils/time_series.py:57: RuntimeWarning: Precision loss occurred in moment calculation due to catastrophic cancellation. This occurs when the data are nearly identical. Results may be unreliable.\n",
      "  s, k = skew(time_series), kurtosis(time_series)  # pylint: disable=invalid-name\n"
     ]
    },
    {
     "name": "stdout",
     "output_type": "stream",
     "text": [
      "5 10118.7\n"
     ]
    },
    {
     "name": "stderr",
     "output_type": "stream",
     "text": [
      "/home/jacopo.lenti/miniconda3/lib/python3.9/site-packages/statsmodels/tsa/stattools.py:681: RuntimeWarning: invalid value encountered in divide\n",
      "  acf = avf[: nlags + 1] / avf[0]\n"
     ]
    },
    {
     "name": "stdout",
     "output_type": "stream",
     "text": [
      "5 13203.0\n"
     ]
    },
    {
     "name": "stderr",
     "output_type": "stream",
     "text": [
      "/home/jacopo.lenti/miniconda3/lib/python3.9/site-packages/statsmodels/tsa/stattools.py:681: RuntimeWarning: invalid value encountered in divide\n",
      "  acf = avf[: nlags + 1] / avf[0]\n"
     ]
    },
    {
     "name": "stdout",
     "output_type": "stream",
     "text": [
      "6 13676.2\n"
     ]
    },
    {
     "name": "stderr",
     "output_type": "stream",
     "text": [
      "/home/jacopo.lenti/miniconda3/lib/python3.9/site-packages/statsmodels/tsa/stattools.py:681: RuntimeWarning: invalid value encountered in divide\n",
      "  acf = avf[: nlags + 1] / avf[0]\n"
     ]
    },
    {
     "name": "stdout",
     "output_type": "stream",
     "text": [
      "6 16037.2\n"
     ]
    },
    {
     "name": "stderr",
     "output_type": "stream",
     "text": [
      "/home/jacopo.lenti/miniconda3/lib/python3.9/site-packages/statsmodels/tsa/stattools.py:681: RuntimeWarning: invalid value encountered in divide\n",
      "  acf = avf[: nlags + 1] / avf[0]\n"
     ]
    },
    {
     "name": "stdout",
     "output_type": "stream",
     "text": [
      "7 16508.4\n",
      "7 19628.3\n"
     ]
    },
    {
     "name": "stderr",
     "output_type": "stream",
     "text": [
      "/home/jacopo.lenti/miniconda3/lib/python3.9/site-packages/statsmodels/tsa/stattools.py:681: RuntimeWarning: invalid value encountered in divide\n",
      "  acf = avf[: nlags + 1] / avf[0]\n",
      "/home/jacopo.lenti/miniconda3/lib/python3.9/site-packages/black_it/utils/time_series.py:57: RuntimeWarning: Precision loss occurred in moment calculation due to catastrophic cancellation. This occurs when the data are nearly identical. Results may be unreliable.\n",
      "  s, k = skew(time_series), kurtosis(time_series)  # pylint: disable=invalid-name\n"
     ]
    },
    {
     "name": "stdout",
     "output_type": "stream",
     "text": [
      "8 20139.4\n"
     ]
    }
   ],
   "source": [
    "t0 = time()\n",
    "\n",
    "#compare_simple_df = pd.DataFrame([], columns = compare_simple_cols)\n",
    "compare_evidences_df = pd.read_csv(f\"../data/compare_evidences_bc_230803.csv\")\n",
    "compare_pos_df = pd.read_csv(f\"../data/compare_pos_bc_230803.csv\")\n",
    "\n",
    "\n",
    "for _ in range(70):\n",
    "    t1 = time()\n",
    "    \n",
    "    print(_, round(t1 - t0, 1))\n",
    "    compare_evidences = repeat_function.rep_simulations(complete_comparison_BC_with_evidences, \n",
    "                                    {\"rho\": 16, \"N\": 100}, \n",
    "                                    {\"ensemble_size\": [1],\n",
    "                                     \"calibration_batches\": [200],\n",
    "                                     \"edge_per_t\": [1,4,16,64],\n",
    "                                     \"evidences_per_t\": [4,8,16],\n",
    "                                     \"T\": [16, 32, 64, 128, 256, 512]\n",
    "                                    }, repetitions = 1)\n",
    "    compare_evidences_df_ = pd.DataFrame([{**rep[0], **rep[1]} for rep in compare_evidences])\n",
    "    compare_evidences_df = pd.concat([compare_evidences_df, compare_evidences_df_])\n",
    "    compare_evidences_df.to_csv(f\"../data/compare_evidences_bc_230805.csv\", index = None)\n",
    "    \n",
    "    t1 = time()\n",
    "    print(_, round(t1 - t0, 1))\n",
    "    compare_pos = repeat_function.rep_simulations(complete_comparison_BC_observed_positive, \n",
    "                                {\"rho\": 16, \"N\": 100}, \n",
    "                                {\"ensemble_size\": [1],\n",
    "                                 \"calibration_batches\": [200],\n",
    "                                 \"edge_per_t\": [1,4,16,64],\n",
    "                                 \"T\": [16, 32, 64, 128, 256, 512]\n",
    "                                }, repetitions = 1)\n",
    "    compare_pos_df_ = pd.DataFrame([{**rep[0], **rep[1]} for rep in compare_pos])\n",
    "    compare_pos_df = pd.concat([compare_pos_df, compare_pos_df_])\n",
    "    compare_pos_df.to_csv(f\"../data/compare_pos_bc_230805.csv\", index = None)\n",
    "    "
   ]
  },
  {
   "cell_type": "code",
   "execution_count": 18,
   "id": "2caf9ffa",
   "metadata": {
    "collapsed": true
   },
   "outputs": [
    {
     "ename": "TypeError",
     "evalue": "read_csv() got an unexpected keyword argument 'index'",
     "output_type": "error",
     "traceback": [
      "\u001b[0;31m---------------------------------------------------------------------------\u001b[0m",
      "\u001b[0;31mTypeError\u001b[0m                                 Traceback (most recent call last)",
      "Cell \u001b[0;32mIn [18], line 4\u001b[0m\n\u001b[1;32m      1\u001b[0m t0 \u001b[38;5;241m=\u001b[39m time()\n\u001b[1;32m      3\u001b[0m \u001b[38;5;66;03m#compare_pos_df = pd.DataFrame([], columns = compare_simple_cols)\u001b[39;00m\n\u001b[0;32m----> 4\u001b[0m compare_pos_df \u001b[38;5;241m=\u001b[39m \u001b[43mpd\u001b[49m\u001b[38;5;241;43m.\u001b[39;49m\u001b[43mread_csv\u001b[49m\u001b[43m(\u001b[49m\u001b[38;5;124;43mf\u001b[39;49m\u001b[38;5;124;43m\"\u001b[39;49m\u001b[38;5;124;43m/home/jacopo.lenti/Projects/learning-od-step-by-step/data/compare_pos_bc_230803.csv\u001b[39;49m\u001b[38;5;124;43m\"\u001b[39;49m\u001b[43m,\u001b[49m\u001b[43m \u001b[49m\u001b[43mindex\u001b[49m\u001b[43m \u001b[49m\u001b[38;5;241;43m=\u001b[39;49m\u001b[43m \u001b[49m\u001b[38;5;28;43;01mNone\u001b[39;49;00m\u001b[43m)\u001b[49m\n\u001b[1;32m      6\u001b[0m \u001b[38;5;28;01mfor\u001b[39;00m _ \u001b[38;5;129;01min\u001b[39;00m \u001b[38;5;28mrange\u001b[39m(\u001b[38;5;241m50\u001b[39m):\n\u001b[1;32m      7\u001b[0m     t1 \u001b[38;5;241m=\u001b[39m time()\n",
      "File \u001b[0;32m~/miniconda3/lib/python3.9/site-packages/pandas/util/_decorators.py:311\u001b[0m, in \u001b[0;36mdeprecate_nonkeyword_arguments.<locals>.decorate.<locals>.wrapper\u001b[0;34m(*args, **kwargs)\u001b[0m\n\u001b[1;32m    305\u001b[0m \u001b[38;5;28;01mif\u001b[39;00m \u001b[38;5;28mlen\u001b[39m(args) \u001b[38;5;241m>\u001b[39m num_allow_args:\n\u001b[1;32m    306\u001b[0m     warnings\u001b[38;5;241m.\u001b[39mwarn(\n\u001b[1;32m    307\u001b[0m         msg\u001b[38;5;241m.\u001b[39mformat(arguments\u001b[38;5;241m=\u001b[39marguments),\n\u001b[1;32m    308\u001b[0m         \u001b[38;5;167;01mFutureWarning\u001b[39;00m,\n\u001b[1;32m    309\u001b[0m         stacklevel\u001b[38;5;241m=\u001b[39mstacklevel,\n\u001b[1;32m    310\u001b[0m     )\n\u001b[0;32m--> 311\u001b[0m \u001b[38;5;28;01mreturn\u001b[39;00m \u001b[43mfunc\u001b[49m\u001b[43m(\u001b[49m\u001b[38;5;241;43m*\u001b[39;49m\u001b[43margs\u001b[49m\u001b[43m,\u001b[49m\u001b[43m \u001b[49m\u001b[38;5;241;43m*\u001b[39;49m\u001b[38;5;241;43m*\u001b[39;49m\u001b[43mkwargs\u001b[49m\u001b[43m)\u001b[49m\n",
      "\u001b[0;31mTypeError\u001b[0m: read_csv() got an unexpected keyword argument 'index'"
     ]
    }
   ],
   "source": [
    "t0 = time()\n",
    "\n",
    "#compare_pos_df = pd.DataFrame([], columns = compare_simple_cols)\n",
    "compare_pos_df = pd.read_csv(f\"../data/compare_pos_bc_230803.csv\")\n",
    "\n",
    "for _ in range(50):\n",
    "    t1 = time()\n",
    "\n",
    "    print(_, round(t1 - t0, 1))\n",
    "    compare_pos = repeat_function.rep_simulations(complete_comparison_BC_observed_positive, \n",
    "                                {\"rho\": 16, \"N\": 100}, \n",
    "                                {\"ensemble_size\": [1],\n",
    "                                 \"calibration_batches\": [200],\n",
    "                                 \"edge_per_t\": [1,4,16,64],\n",
    "                                 \"T\": [16, 32, 64, 128, 256, 512]\n",
    "                                }, repetitions = 1)\n",
    "    compare_pos_df_ = pd.DataFrame([{**rep[0], **rep[1]} for rep in compare_pos])\n",
    "    compare_pos_df = pd.concat([compare_pos_df, compare_pos_df_])\n",
    "    compare_pos_df.to_csv(f\"../data/compare_pos_bc_230805.csv\", index = None)\n",
    "    "
   ]
  },
  {
   "cell_type": "code",
   "execution_count": null,
   "id": "ce8c8af0",
   "metadata": {},
   "outputs": [],
   "source": [
    "t0 = time()\n",
    "compare_evidences_df = pd.read_csv(f\"../data/compare_evidences_bc_230803.csv\")\n",
    "\n",
    "for _ in range(50):\n",
    "    t1 = time()\n",
    "\n",
    "    print(_, round(t1 - t0, 1))\n",
    "    compare_evidences = repeat_function.rep_simulations(complete_comparison_BC_with_evidences, \n",
    "                                    {\"rho\": 16, \"N\": 100}, \n",
    "                                    {\"ensemble_size\": [1],\n",
    "                                     \"calibration_batches\": [200],\n",
    "                                     \"edge_per_t\": [1,4,16,64],\n",
    "                                     \"evidences_per_t\": [4,8,16],\n",
    "                                     \"T\": [16, 32, 64, 128, 256, 512]\n",
    "                                    }, repetitions = 1)\n",
    "    compare_evidences_df_ = pd.DataFrame([{**rep[0], **rep[1]} for rep in compare_evidences])\n",
    "    compare_evidences_df = pd.concat([compare_evidences_df, compare_evidences_df_])\n",
    "    compare_evidences_df.to_csv(f\"../data/compare_evidences_bc_230805.csv\", index = None)\n",
    "    "
   ]
  },
  {
   "cell_type": "code",
   "execution_count": null,
   "id": "4a346446",
   "metadata": {},
   "outputs": [],
   "source": [
    "compare_backfire_df = pd.DataFrame([], columns = compare_backfire_cols)\n",
    "\n",
    "for _ in range(12):\n",
    "    print(_)\n",
    "    compare_backfire = repeat_function.rep_simulations(complete_comparison_BC_backfire, \n",
    "                                {\"rho\": 16, \"N\": 100},\n",
    "                                {\"ensemble_size\": [1],\n",
    "                                 \"calibration_batches\": [400],\n",
    "                                 \"edge_per_t\": [1,4,16,64],\n",
    "                                 \"evidences_per_t\": [4,8,16],\n",
    "                                 \"T\": [16, 32, 64, 128, 256, 512]\n",
    "                                }, repetitions = 1)\n",
    "    compare_backfire_df_ = pd.DataFrame([{**rep[0], **rep[1]} for rep in compare_backfire])\n",
    "    compare_backfire_df = pd.concat([compare_backfire_df, compare_backfire_df_])\n",
    "    compare_backfire_df.to_csv(f\"../data/compare_backfire_bc_230730.csv\", index = None)\n",
    "    "
   ]
  },
  {
   "cell_type": "code",
   "execution_count": 208,
   "id": "03657081",
   "metadata": {
    "collapsed": true
   },
   "outputs": [
    {
     "name": "stderr",
     "output_type": "stream",
     "text": [
      "/home/jacopo.lenti/miniconda3/lib/python3.9/site-packages/statsmodels/tsa/stattools.py:681: RuntimeWarning: invalid value encountered in divide\n",
      "  acf = avf[: nlags + 1] / avf[0]\n"
     ]
    },
    {
     "name": "stdout",
     "output_type": "stream",
     "text": [
      "Unexpected exception formatting exception. Falling back to standard exception\n"
     ]
    },
    {
     "name": "stderr",
     "output_type": "stream",
     "text": [
      "Traceback (most recent call last):\n",
      "  File \"/home/jacopo.lenti/miniconda3/lib/python3.9/site-packages/IPython/core/interactiveshell.py\", line 3433, in run_code\n",
      "    exec(code_obj, self.user_global_ns, self.user_ns)\n",
      "  File \"/tmp/ipykernel_3369439/4244797466.py\", line 1, in <module>\n",
      "    compare_backfire = repeat_function.rep_simulations(complete_comparison_BC_backfire,\n",
      "  File \"/home/jacopo.lenti/Projects/learning-od-step-by-step/src/repeat_function.py\", line 20, in rep_simulations\n",
      "    outputs.append([lists_vars_element, fn(**input_vector)])\n",
      "  File \"/tmp/ipykernel_3369439/899696317.py\", line 94, in complete_comparison_BC_backfire\n",
      "    pgabm_estimation = oe.estimation_BC_model_from_data(X, edges, evidences,\n",
      "  File \"/home/jacopo.lenti/Projects/learning-od-step-by-step/src/opinion_dynamics_models_estimation.py\", line 744, in estimation_BC_model_from_data\n",
      "    \"time\": history[\"time\"],\n",
      "  File \"/home/jacopo.lenti/Projects/learning-od-step-by-step/src/opinion_dynamics_models_estimation.py\", line 671, in gradient_descent_BC_evidence_X_backfire\n",
      "    loss_function = model_class.neg_log_likelihood_function_minibatch\n",
      "  File \"/home/jacopo.lenti/miniconda3/lib/python3.9/site-packages/torch/_tensor.py\", line 487, in backward\n",
      "    torch.autograd.backward(\n",
      "  File \"/home/jacopo.lenti/miniconda3/lib/python3.9/site-packages/torch/autograd/__init__.py\", line 197, in backward\n",
      "    Variable._execution_engine.run_backward(  # Calls into the C++ engine to run the backward pass\n",
      "KeyboardInterrupt\n",
      "\n",
      "During handling of the above exception, another exception occurred:\n",
      "\n",
      "Traceback (most recent call last):\n",
      "  File \"/home/jacopo.lenti/miniconda3/lib/python3.9/site-packages/IPython/core/interactiveshell.py\", line 2052, in showtraceback\n",
      "    stb = self.InteractiveTB.structured_traceback(\n",
      "  File \"/home/jacopo.lenti/miniconda3/lib/python3.9/site-packages/IPython/core/ultratb.py\", line 1112, in structured_traceback\n",
      "    return FormattedTB.structured_traceback(\n",
      "  File \"/home/jacopo.lenti/miniconda3/lib/python3.9/site-packages/IPython/core/ultratb.py\", line 1006, in structured_traceback\n",
      "    return VerboseTB.structured_traceback(\n",
      "  File \"/home/jacopo.lenti/miniconda3/lib/python3.9/site-packages/IPython/core/ultratb.py\", line 859, in structured_traceback\n",
      "    formatted_exception = self.format_exception_as_a_whole(etype, evalue, etb, number_of_lines_of_context,\n",
      "  File \"/home/jacopo.lenti/miniconda3/lib/python3.9/site-packages/IPython/core/ultratb.py\", line 812, in format_exception_as_a_whole\n",
      "    frames.append(self.format_record(r))\n",
      "  File \"/home/jacopo.lenti/miniconda3/lib/python3.9/site-packages/IPython/core/ultratb.py\", line 730, in format_record\n",
      "    result += ''.join(_format_traceback_lines(frame_info.lines, Colors, self.has_colors, lvals))\n",
      "  File \"/home/jacopo.lenti/miniconda3/lib/python3.9/site-packages/stack_data/utils.py\", line 145, in cached_property_wrapper\n",
      "    value = obj.__dict__[self.func.__name__] = self.func(obj)\n",
      "  File \"/home/jacopo.lenti/miniconda3/lib/python3.9/site-packages/stack_data/core.py\", line 698, in lines\n",
      "    pieces = self.included_pieces\n",
      "  File \"/home/jacopo.lenti/miniconda3/lib/python3.9/site-packages/stack_data/utils.py\", line 145, in cached_property_wrapper\n",
      "    value = obj.__dict__[self.func.__name__] = self.func(obj)\n",
      "  File \"/home/jacopo.lenti/miniconda3/lib/python3.9/site-packages/stack_data/core.py\", line 649, in included_pieces\n",
      "    pos = scope_pieces.index(self.executing_piece)\n",
      "  File \"/home/jacopo.lenti/miniconda3/lib/python3.9/site-packages/stack_data/utils.py\", line 145, in cached_property_wrapper\n",
      "    value = obj.__dict__[self.func.__name__] = self.func(obj)\n",
      "  File \"/home/jacopo.lenti/miniconda3/lib/python3.9/site-packages/stack_data/core.py\", line 628, in executing_piece\n",
      "    return only(\n",
      "  File \"/home/jacopo.lenti/miniconda3/lib/python3.9/site-packages/executing/executing.py\", line 164, in only\n",
      "    raise NotOneValueFound('Expected one value, found 0')\n",
      "executing.executing.NotOneValueFound: Expected one value, found 0\n"
     ]
    }
   ],
   "source": [
    "compare_backfire = repeat_function.rep_simulations(complete_comparison_BC_backfire, \n",
    "                                {\"rho\": 16, \"N\": 100},\n",
    "                                {\"ensemble_size\": [1],\n",
    "                                 \"calibration_batches\": [400],\n",
    "                                 \"edge_per_t\": [1,4,16,64],\n",
    "                                 \"evidences_per_t\": [4,8,16],\n",
    "                                 \"T\": [16, 32, 64, 128, 256, 512]\n",
    "                                }, repetitions = 8)\n",
    "compare_backfire_df = pd.DataFrame([{**rep[0], **rep[1]} for rep in compare_backfire])\n",
    "compare_backfire_df.to_csv(\"../data/compare_backfire_bc_230730.csv\", index = None)\n"
   ]
  },
  {
   "cell_type": "code",
   "execution_count": 179,
   "id": "9ed39b20",
   "metadata": {},
   "outputs": [],
   "source": [
    "compare_simple_df = pd.read_csv(\"../data/compare_simple_bc_230726.csv\")\n",
    "compare_pos_df = pd.read_csv(\"../data/compare_pos_bc_230726.csv\")\n",
    "compare_evidences_df = pd.read_csv(\"../data/compare_evidences_bc_230730.csv\")\n",
    "compare_backfire_df = pd.read_csv(\"../data/compare_backfire_bc_230730.csv\")\n"
   ]
  },
  {
   "cell_type": "code",
   "execution_count": null,
   "id": "c10a0576",
   "metadata": {},
   "outputs": [],
   "source": []
  },
  {
   "cell_type": "code",
   "execution_count": null,
   "id": "a78ac6a5",
   "metadata": {},
   "outputs": [],
   "source": []
  },
  {
   "cell_type": "code",
   "execution_count": null,
   "id": "cb188725",
   "metadata": {},
   "outputs": [],
   "source": []
  },
  {
   "cell_type": "code",
   "execution_count": null,
   "id": "ebb535e6",
   "metadata": {},
   "outputs": [],
   "source": []
  },
  {
   "cell_type": "code",
   "execution_count": null,
   "id": "b1259776",
   "metadata": {},
   "outputs": [],
   "source": []
  },
  {
   "cell_type": "code",
   "execution_count": null,
   "id": "179518cb",
   "metadata": {},
   "outputs": [],
   "source": []
  },
  {
   "cell_type": "code",
   "execution_count": 15,
   "id": "89dcf628",
   "metadata": {},
   "outputs": [],
   "source": [
    "msm_simple = pd.read_csv(\"../data/repeat_msm_simple_bc_230717.csv\").rename(columns = {\"time_calibration\": \"time\"}).assign(relative_error_epsilon = lambda x: x[\"distance_epsilon\"] / x[\"real_epsilon\"], axis = 1)\n",
    "msm_pos = pd.read_csv(\"../data/repeat_msm_bc_observe_positive_230717.csv\").rename(columns = {\"time_calibration\": \"time\"}).assign(relative_error_epsilon = lambda x: x[\"distance_epsilon\"] / x[\"real_epsilon\"], axis = 1)\n",
    "msm_evidences = pd.read_csv(\"../data/repeat_msm_bc_evidences_230717.csv\").rename(columns = {\"time_calibration\": \"time\"}).assign(relative_error_epsilon = lambda x: x[\"distance_epsilon\"] / x[\"real_epsilon\"], axis = 1)"
   ]
  },
  {
   "cell_type": "code",
   "execution_count": 16,
   "id": "5b7d9d9d",
   "metadata": {},
   "outputs": [],
   "source": [
    "pgabms_simple = pd.read_csv(\"../data/cal_pgabms_simple_BC_230721.csv\").assign(relative_error_epsilon = lambda x: x[\"distance_epsilon\"] / x[\"real_epsilon\"], axis = 1)\n",
    "pgabms_pos = pd.read_csv(\"../data/cal_pgabms_obs_pos_BC_230721.csv\").assign(relative_error_epsilon = lambda x: x[\"distance_epsilon\"] / x[\"real_epsilon\"], axis = 1)\n",
    "pgabms_evidences = pd.read_csv(\"../data/cal_pgabms_evidences_230721.csv\").assign(relative_error_epsilon = lambda x: x[\"distance_epsilon\"] / x[\"real_epsilon\"], axis = 1)"
   ]
  },
  {
   "cell_type": "code",
   "execution_count": 17,
   "id": "bd0be54c",
   "metadata": {},
   "outputs": [
    {
     "data": {
      "text/html": [
       "<div>\n",
       "<style scoped>\n",
       "    .dataframe tbody tr th:only-of-type {\n",
       "        vertical-align: middle;\n",
       "    }\n",
       "\n",
       "    .dataframe tbody tr th {\n",
       "        vertical-align: top;\n",
       "    }\n",
       "\n",
       "    .dataframe thead th {\n",
       "        text-align: right;\n",
       "    }\n",
       "</style>\n",
       "<table border=\"1\" class=\"dataframe\">\n",
       "  <thead>\n",
       "    <tr style=\"text-align: right;\">\n",
       "      <th>edge_per_t</th>\n",
       "      <th>1</th>\n",
       "      <th>4</th>\n",
       "      <th>16</th>\n",
       "      <th>64</th>\n",
       "    </tr>\n",
       "    <tr>\n",
       "      <th>T</th>\n",
       "      <th></th>\n",
       "      <th></th>\n",
       "      <th></th>\n",
       "      <th></th>\n",
       "    </tr>\n",
       "  </thead>\n",
       "  <tbody>\n",
       "    <tr>\n",
       "      <th>16</th>\n",
       "      <td>0.096112</td>\n",
       "      <td>0.055547</td>\n",
       "      <td>0.030155</td>\n",
       "      <td>0.031916</td>\n",
       "    </tr>\n",
       "    <tr>\n",
       "      <th>32</th>\n",
       "      <td>0.072460</td>\n",
       "      <td>0.037770</td>\n",
       "      <td>0.026698</td>\n",
       "      <td>0.032646</td>\n",
       "    </tr>\n",
       "    <tr>\n",
       "      <th>64</th>\n",
       "      <td>0.043468</td>\n",
       "      <td>0.034307</td>\n",
       "      <td>0.031326</td>\n",
       "      <td>0.030848</td>\n",
       "    </tr>\n",
       "    <tr>\n",
       "      <th>128</th>\n",
       "      <td>0.033898</td>\n",
       "      <td>0.026270</td>\n",
       "      <td>0.034423</td>\n",
       "      <td>0.022621</td>\n",
       "    </tr>\n",
       "    <tr>\n",
       "      <th>256</th>\n",
       "      <td>0.024180</td>\n",
       "      <td>0.027625</td>\n",
       "      <td>0.035736</td>\n",
       "      <td>0.017979</td>\n",
       "    </tr>\n",
       "  </tbody>\n",
       "</table>\n",
       "</div>"
      ],
      "text/plain": [
       "edge_per_t        1         4         16        64\n",
       "T                                                 \n",
       "16          0.096112  0.055547  0.030155  0.031916\n",
       "32          0.072460  0.037770  0.026698  0.032646\n",
       "64          0.043468  0.034307  0.031326  0.030848\n",
       "128         0.033898  0.026270  0.034423  0.022621\n",
       "256         0.024180  0.027625  0.035736  0.017979"
      ]
     },
     "execution_count": 17,
     "metadata": {},
     "output_type": "execute_result"
    }
   ],
   "source": [
    "pgabms_evidences.groupby([\"T\", \"edge_per_t\"])[\"distance_epsilon\"].mean().unstack()"
   ]
  },
  {
   "cell_type": "markdown",
   "id": "792a3658",
   "metadata": {},
   "source": [
    "## Absolute error epsilon"
   ]
  },
  {
   "cell_type": "code",
   "execution_count": 18,
   "id": "6e4a2556",
   "metadata": {},
   "outputs": [],
   "source": [
    "dict_data = {\"pgabms\": [pgabms_simple, pgabms_pos, pgabms_evidences], \n",
    "             \"msm\": [msm_simple, msm_pos, msm_evidences]}"
   ]
  },
  {
   "cell_type": "code",
   "execution_count": 19,
   "id": "bad84ddd",
   "metadata": {
    "scrolled": true
   },
   "outputs": [
    {
     "data": {
      "text/plain": [
       "Text(0.5, 0.01, 'edge_per_t')"
      ]
     },
     "execution_count": 19,
     "metadata": {},
     "output_type": "execute_result"
    },
    {
     "data": {
      "image/png": "[encoded data removed]",
      "text/plain": [
       "<Figure size 500x900 with 12 Axes>"
      ]
     },
     "metadata": {},
     "output_type": "display_data"
    }
   ],
   "source": [
    "vmin_vmax = [(0, 0.04), (0, 0.07), (0, 0.15)]\n",
    "fig, axes = plt.subplots(nrows = 3, ncols = 2, figsize = (5, 9), sharex = True, sharey = True)\n",
    "\n",
    "\n",
    "for i, model in enumerate([\"full observed\", \"observe positive\", \"evidence on X\"]):\n",
    "    \n",
    "    for j, method in enumerate([\"pgabms\", \"msm\"]):\n",
    "        \n",
    "        ax = axes[i,j]\n",
    "        \n",
    "        cbar_ax = fig.add_axes([.96, ax.get_position().y0, .02, ax.get_position().height])\n",
    "        cbar_ax.set_xticklabels([])\n",
    "        cbar_ax.set_yticklabels([])\n",
    "\n",
    "        sns.heatmap(data = dict_data[method][i].groupby([\"T\", \"edge_per_t\"])[\"distance_epsilon\"].mean().unstack(),\n",
    "                    ax = ax, cmap = \"Spectral\", \n",
    "                    vmin = vmin_vmax[i][0], vmax = vmin_vmax[i][1], square = True,\n",
    "                    cbar = j == 1, cbar_ax = None if j == 0 else cbar_ax)#, norm = LogNorm())\n",
    "        if i == 0:\n",
    "            ax.set_title(method)\n",
    "        \n",
    "        ax.set_ylabel(model if j == 0 else \"\", rotation = 90, size='large')\n",
    "        ax.set_xlabel(\"\")\n",
    "        \n",
    "fig.supylabel(\"T\")\n",
    "fig.supxlabel(\"edge_per_t\")\n",
    "    \n",
    "    #axes[i,1].collections[0].set_clim(vmin_vmax[i])               # set vmin and vmax\n",
    "\n"
   ]
  },
  {
   "cell_type": "code",
   "execution_count": 20,
   "id": "74e50ed5",
   "metadata": {},
   "outputs": [
    {
     "data": {
      "text/plain": [
       "(0.012329439066782806, 0.0488191523288831)"
      ]
     },
     "execution_count": 20,
     "metadata": {},
     "output_type": "execute_result"
    }
   ],
   "source": [
    "pgabms_simple[\"distance_epsilon\"].mean(), msm_simple[\"distance_epsilon\"].mean()"
   ]
  },
  {
   "cell_type": "code",
   "execution_count": 21,
   "id": "dccb267e",
   "metadata": {},
   "outputs": [
    {
     "data": {
      "text/plain": [
       "(0.01626962397284188, 0.06101320899253593)"
      ]
     },
     "execution_count": 21,
     "metadata": {},
     "output_type": "execute_result"
    }
   ],
   "source": [
    "pgabms_pos[\"distance_epsilon\"].mean(), msm_pos[\"distance_epsilon\"].mean()"
   ]
  },
  {
   "cell_type": "code",
   "execution_count": 22,
   "id": "952a2835",
   "metadata": {},
   "outputs": [
    {
     "data": {
      "text/plain": [
       "(0.03729927132753441, 0.07906681406746253)"
      ]
     },
     "execution_count": 22,
     "metadata": {},
     "output_type": "execute_result"
    }
   ],
   "source": [
    "pgabms_evidences[\"distance_epsilon\"].mean(), msm_evidences[\"distance_epsilon\"].mean()"
   ]
  },
  {
   "cell_type": "markdown",
   "id": "9b666643",
   "metadata": {},
   "source": [
    "## Relative error epsilon"
   ]
  },
  {
   "cell_type": "code",
   "execution_count": 23,
   "id": "0978a50c",
   "metadata": {},
   "outputs": [],
   "source": [
    "dict_data = {\"pgabms\": [pgabms_simple, pgabms_pos, pgabms_evidences], \n",
    "             \"msm\": [msm_simple, msm_pos, msm_evidences]}"
   ]
  },
  {
   "cell_type": "code",
   "execution_count": 46,
   "id": "f7dc61e8",
   "metadata": {
    "scrolled": true
   },
   "outputs": [
    {
     "data": {
      "text/html": [
       "<div>\n",
       "<style scoped>\n",
       "    .dataframe tbody tr th:only-of-type {\n",
       "        vertical-align: middle;\n",
       "    }\n",
       "\n",
       "    .dataframe tbody tr th {\n",
       "        vertical-align: top;\n",
       "    }\n",
       "\n",
       "    .dataframe thead th {\n",
       "        text-align: right;\n",
       "    }\n",
       "</style>\n",
       "<table border=\"1\" class=\"dataframe\">\n",
       "  <thead>\n",
       "    <tr style=\"text-align: right;\">\n",
       "      <th></th>\n",
       "      <th>real_epsilon</th>\n",
       "      <th>epsilon_estimated</th>\n",
       "      <th>distance_epsilon</th>\n",
       "      <th>relative_error_epsilon</th>\n",
       "    </tr>\n",
       "  </thead>\n",
       "  <tbody>\n",
       "    <tr>\n",
       "      <th>5</th>\n",
       "      <td>0.298820</td>\n",
       "      <td>0.295260</td>\n",
       "      <td>0.003559</td>\n",
       "      <td>0.011912</td>\n",
       "    </tr>\n",
       "    <tr>\n",
       "      <th>25</th>\n",
       "      <td>0.360918</td>\n",
       "      <td>0.349594</td>\n",
       "      <td>0.011324</td>\n",
       "      <td>0.031377</td>\n",
       "    </tr>\n",
       "    <tr>\n",
       "      <th>45</th>\n",
       "      <td>0.251033</td>\n",
       "      <td>0.217962</td>\n",
       "      <td>0.033071</td>\n",
       "      <td>0.131740</td>\n",
       "    </tr>\n",
       "    <tr>\n",
       "      <th>65</th>\n",
       "      <td>0.482980</td>\n",
       "      <td>0.497562</td>\n",
       "      <td>0.014582</td>\n",
       "      <td>0.030191</td>\n",
       "    </tr>\n",
       "    <tr>\n",
       "      <th>85</th>\n",
       "      <td>0.103273</td>\n",
       "      <td>0.093990</td>\n",
       "      <td>0.009283</td>\n",
       "      <td>0.089884</td>\n",
       "    </tr>\n",
       "    <tr>\n",
       "      <th>105</th>\n",
       "      <td>0.407768</td>\n",
       "      <td>0.453818</td>\n",
       "      <td>0.046049</td>\n",
       "      <td>0.112930</td>\n",
       "    </tr>\n",
       "    <tr>\n",
       "      <th>125</th>\n",
       "      <td>0.111885</td>\n",
       "      <td>0.075585</td>\n",
       "      <td>0.036300</td>\n",
       "      <td>0.324439</td>\n",
       "    </tr>\n",
       "    <tr>\n",
       "      <th>145</th>\n",
       "      <td>0.202754</td>\n",
       "      <td>0.199671</td>\n",
       "      <td>0.003082</td>\n",
       "      <td>0.015203</td>\n",
       "    </tr>\n",
       "    <tr>\n",
       "      <th>165</th>\n",
       "      <td>0.492141</td>\n",
       "      <td>0.438469</td>\n",
       "      <td>0.053672</td>\n",
       "      <td>0.109059</td>\n",
       "    </tr>\n",
       "    <tr>\n",
       "      <th>185</th>\n",
       "      <td>0.343766</td>\n",
       "      <td>0.339957</td>\n",
       "      <td>0.003808</td>\n",
       "      <td>0.011079</td>\n",
       "    </tr>\n",
       "    <tr>\n",
       "      <th>205</th>\n",
       "      <td>0.430102</td>\n",
       "      <td>0.432341</td>\n",
       "      <td>0.002238</td>\n",
       "      <td>0.005204</td>\n",
       "    </tr>\n",
       "    <tr>\n",
       "      <th>225</th>\n",
       "      <td>0.213119</td>\n",
       "      <td>0.219341</td>\n",
       "      <td>0.006222</td>\n",
       "      <td>0.029195</td>\n",
       "    </tr>\n",
       "    <tr>\n",
       "      <th>245</th>\n",
       "      <td>0.052873</td>\n",
       "      <td>0.049064</td>\n",
       "      <td>0.003809</td>\n",
       "      <td>0.072034</td>\n",
       "    </tr>\n",
       "    <tr>\n",
       "      <th>265</th>\n",
       "      <td>0.249814</td>\n",
       "      <td>0.245252</td>\n",
       "      <td>0.004563</td>\n",
       "      <td>0.018264</td>\n",
       "    </tr>\n",
       "    <tr>\n",
       "      <th>285</th>\n",
       "      <td>0.052045</td>\n",
       "      <td>0.047449</td>\n",
       "      <td>0.004597</td>\n",
       "      <td>0.088320</td>\n",
       "    </tr>\n",
       "    <tr>\n",
       "      <th>305</th>\n",
       "      <td>0.365417</td>\n",
       "      <td>0.381008</td>\n",
       "      <td>0.015591</td>\n",
       "      <td>0.042665</td>\n",
       "    </tr>\n",
       "    <tr>\n",
       "      <th>325</th>\n",
       "      <td>0.468653</td>\n",
       "      <td>0.415683</td>\n",
       "      <td>0.052970</td>\n",
       "      <td>0.113026</td>\n",
       "    </tr>\n",
       "    <tr>\n",
       "      <th>345</th>\n",
       "      <td>0.001906</td>\n",
       "      <td>0.021194</td>\n",
       "      <td>0.019288</td>\n",
       "      <td>10.118269</td>\n",
       "    </tr>\n",
       "    <tr>\n",
       "      <th>365</th>\n",
       "      <td>0.464562</td>\n",
       "      <td>0.500795</td>\n",
       "      <td>0.036233</td>\n",
       "      <td>0.077994</td>\n",
       "    </tr>\n",
       "    <tr>\n",
       "      <th>385</th>\n",
       "      <td>0.216933</td>\n",
       "      <td>0.200923</td>\n",
       "      <td>0.016011</td>\n",
       "      <td>0.073805</td>\n",
       "    </tr>\n",
       "    <tr>\n",
       "      <th>405</th>\n",
       "      <td>0.387926</td>\n",
       "      <td>0.361337</td>\n",
       "      <td>0.026589</td>\n",
       "      <td>0.068543</td>\n",
       "    </tr>\n",
       "    <tr>\n",
       "      <th>425</th>\n",
       "      <td>0.061393</td>\n",
       "      <td>0.093989</td>\n",
       "      <td>0.032595</td>\n",
       "      <td>0.530929</td>\n",
       "    </tr>\n",
       "    <tr>\n",
       "      <th>445</th>\n",
       "      <td>0.226840</td>\n",
       "      <td>0.231203</td>\n",
       "      <td>0.004363</td>\n",
       "      <td>0.019235</td>\n",
       "    </tr>\n",
       "    <tr>\n",
       "      <th>465</th>\n",
       "      <td>0.330564</td>\n",
       "      <td>0.342218</td>\n",
       "      <td>0.011654</td>\n",
       "      <td>0.035255</td>\n",
       "    </tr>\n",
       "  </tbody>\n",
       "</table>\n",
       "</div>"
      ],
      "text/plain": [
       "     real_epsilon  epsilon_estimated  distance_epsilon  relative_error_epsilon\n",
       "5        0.298820           0.295260          0.003559                0.011912\n",
       "25       0.360918           0.349594          0.011324                0.031377\n",
       "45       0.251033           0.217962          0.033071                0.131740\n",
       "65       0.482980           0.497562          0.014582                0.030191\n",
       "85       0.103273           0.093990          0.009283                0.089884\n",
       "105      0.407768           0.453818          0.046049                0.112930\n",
       "125      0.111885           0.075585          0.036300                0.324439\n",
       "145      0.202754           0.199671          0.003082                0.015203\n",
       "165      0.492141           0.438469          0.053672                0.109059\n",
       "185      0.343766           0.339957          0.003808                0.011079\n",
       "205      0.430102           0.432341          0.002238                0.005204\n",
       "225      0.213119           0.219341          0.006222                0.029195\n",
       "245      0.052873           0.049064          0.003809                0.072034\n",
       "265      0.249814           0.245252          0.004563                0.018264\n",
       "285      0.052045           0.047449          0.004597                0.088320\n",
       "305      0.365417           0.381008          0.015591                0.042665\n",
       "325      0.468653           0.415683          0.052970                0.113026\n",
       "345      0.001906           0.021194          0.019288               10.118269\n",
       "365      0.464562           0.500795          0.036233                0.077994\n",
       "385      0.216933           0.200923          0.016011                0.073805\n",
       "405      0.387926           0.361337          0.026589                0.068543\n",
       "425      0.061393           0.093989          0.032595                0.530929\n",
       "445      0.226840           0.231203          0.004363                0.019235\n",
       "465      0.330564           0.342218          0.011654                0.035255"
      ]
     },
     "execution_count": 46,
     "metadata": {},
     "output_type": "execute_result"
    }
   ],
   "source": [
    "pd.merge(\n",
    "    pgabms_simple[[\"T\", \"edge_per_t\",\"real_epsilon\", \"epsilon_estimated\", \"distance_epsilon\", \"relative_error_epsilon\"]].groupby([\"T\", \"edge_per_t\"]).mean(),\n",
    "    msm_simple[[\"T\", \"edge_per_t\",\"real_epsilon\", \"estimated_epsilon\", \"distance_epsilon\", \"relative_error_epsilon\"]].groupby([\"T\", \"edge_per_t\"]).mean(),\n",
    "    on = [\"T\", \"edge_per_t\"]\n",
    ")[[\"distance_epsilon_x\", \"distance_epsilon_y\", \"relative_error_epsilon_x\", \"relative_error_epsilon_y\"]]\n",
    "\n",
    "pgabms_simple.query(\"(T == 16)&(edge_per_t == 4)\")[[\"real_epsilon\", \"epsilon_estimated\", \"distance_epsilon\", \"relative_error_epsilon\"]]"
   ]
  },
  {
   "cell_type": "code",
   "execution_count": 26,
   "id": "6b746e66",
   "metadata": {
    "scrolled": true
   },
   "outputs": [
    {
     "data": {
      "text/plain": [
       "Text(0.5, 0.01, 'edge_per_t')"
      ]
     },
     "execution_count": 26,
     "metadata": {},
     "output_type": "execute_result"
    },
    {
     "data": {
      "image/png": "[encoded data removed]",
      "text/plain": [
       "<Figure size 500x900 with 12 Axes>"
      ]
     },
     "metadata": {},
     "output_type": "display_data"
    }
   ],
   "source": [
    "vmin_vmax = [(0, 0.7), (0, 0.7), (0, 0.7)]\n",
    "fig, axes = plt.subplots(nrows = 3, ncols = 2, figsize = (5, 9), sharex = True, sharey = True)\n",
    "\n",
    "\n",
    "for i, model in enumerate([\"full observed\", \"observe positive\", \"evidence on X\"]):\n",
    "    \n",
    "    for j, method in enumerate([\"pgabms\", \"msm\"]):\n",
    "        \n",
    "        ax = axes[i,j]\n",
    "        \n",
    "        cbar_ax = fig.add_axes([.96, ax.get_position().y0, .02, ax.get_position().height])\n",
    "        cbar_ax.set_xticklabels([])\n",
    "        cbar_ax.set_yticklabels([])\n",
    "\n",
    "        sns.heatmap(data = dict_data[method][i].groupby([\"T\", \"edge_per_t\"])[\"relative_error_epsilon\"].mean().unstack(),\n",
    "                    ax = ax, cmap = \"Spectral\", \n",
    "                    vmin = vmin_vmax[i][0], vmax = vmin_vmax[i][1], square = True,\n",
    "                    cbar = j == 1, cbar_ax = None if j == 0 else cbar_ax)#, norm = LogNorm())\n",
    "        if i == 0:\n",
    "            ax.set_title(method)\n",
    "        \n",
    "        ax.set_ylabel(model if j == 0 else \"\", rotation = 90, size='large')\n",
    "        ax.set_xlabel(\"\")\n",
    "        \n",
    "fig.supylabel(\"T\")\n",
    "fig.supxlabel(\"edge_per_t\")\n",
    "    \n",
    "    #axes[i,1].collections[0].set_clim(vmin_vmax[i])               # set vmin and vmax\n",
    "\n"
   ]
  },
  {
   "cell_type": "code",
   "execution_count": 8,
   "id": "60ce69df",
   "metadata": {},
   "outputs": [
    {
     "data": {
      "text/plain": [
       "(0.012329439066782806, 0.0488191523288831)"
      ]
     },
     "execution_count": 8,
     "metadata": {},
     "output_type": "execute_result"
    }
   ],
   "source": [
    "pgabms_simple[\"distance_epsilon\"].mean(), msm_simple[\"distance_epsilon\"].mean()"
   ]
  },
  {
   "cell_type": "code",
   "execution_count": 9,
   "id": "85c46d7e",
   "metadata": {},
   "outputs": [
    {
     "data": {
      "text/plain": [
       "(0.01626962397284188, 0.06101320899253593)"
      ]
     },
     "execution_count": 9,
     "metadata": {},
     "output_type": "execute_result"
    }
   ],
   "source": [
    "pgabms_pos[\"distance_epsilon\"].mean(), msm_pos[\"distance_epsilon\"].mean()"
   ]
  },
  {
   "cell_type": "code",
   "execution_count": 10,
   "id": "93a6e309",
   "metadata": {},
   "outputs": [
    {
     "data": {
      "text/plain": [
       "(0.03729927132753441, 0.07906681406746253)"
      ]
     },
     "execution_count": 10,
     "metadata": {},
     "output_type": "execute_result"
    }
   ],
   "source": [
    "pgabms_evidences[\"distance_epsilon\"].mean(), msm_evidences[\"distance_epsilon\"].mean()"
   ]
  },
  {
   "cell_type": "markdown",
   "id": "34bfa780",
   "metadata": {},
   "source": [
    "## Time"
   ]
  },
  {
   "cell_type": "code",
   "execution_count": 191,
   "id": "d444a439",
   "metadata": {},
   "outputs": [],
   "source": [
    "dict_data = {\"pgabms\": [pgabms_simple, pgabms_pos, pgabms_evidences], \n",
    "             \"msm\": [msm_simple, msm_pos, msm_evidences]}\n",
    "\n"
   ]
  },
  {
   "cell_type": "code",
   "execution_count": 192,
   "id": "4f92cbaa",
   "metadata": {
    "scrolled": true
   },
   "outputs": [
    {
     "data": {
      "image/png": "[encoded data removed]",
      "text/plain": [
       "<Figure size 600x900 with 12 Axes>"
      ]
     },
     "metadata": {},
     "output_type": "display_data"
    }
   ],
   "source": [
    "vmin_vmax = [(0.01, 100), (0.01, 100), (0.01, 100)]\n",
    "\n",
    "fig, axes = plt.subplots(nrows = 3, ncols = 2, figsize = (6, 9), sharex = True, sharey = True)\n",
    "\n",
    "\n",
    "for i in range(3):\n",
    "\n",
    "    for j, method in enumerate([\"pgabms\", \"msm\"]):\n",
    "        ax = axes[i,j]\n",
    "        cbar_ax = fig.add_axes([.96, ax.get_position().y0, .02, ax.get_position().height], )\n",
    "        cbar_ax.set_xticklabels([])\n",
    "        cbar_ax.set_yticklabels([])\n",
    "        \n",
    "        sns.heatmap(data = np.log10(dict_data[method][i].groupby([\"T\", \"edge_per_t\"])[\"time\"].mean().unstack()),\n",
    "                    ax = ax, cmap = \"Spectral\", \n",
    "                    vmin = np.log10(vmin_vmax[i][0]), vmax = np.log10(vmin_vmax[i][1]), square = True,\n",
    "                    cbar = j == 1, \n",
    "                    cbar_ax = None if j == 0 else cbar_ax,\n",
    "                    cbar_kws = {'ticks': [i - 2 for i in range(4)]}\n",
    "                   )#, norm = LogNorm())\n",
    "        \n",
    "    \n",
    "    #axes[i,1].collections[0].set_clim(vmin_vmax[i])               # set vmin and vmax\n",
    "\n"
   ]
  },
  {
   "cell_type": "code",
   "execution_count": 214,
   "id": "c7874d8c",
   "metadata": {},
   "outputs": [
    {
     "data": {
      "text/plain": [
       "(0.049338892102241474, 12.232024705410003)"
      ]
     },
     "execution_count": 214,
     "metadata": {},
     "output_type": "execute_result"
    }
   ],
   "source": [
    "pgabms_simple[\"time\"].mean(), msm_simple[\"time\"].mean()"
   ]
  },
  {
   "cell_type": "code",
   "execution_count": 215,
   "id": "ec228aa7",
   "metadata": {},
   "outputs": [
    {
     "data": {
      "text/plain": [
       "(2.172440506517887, 59.141249379018944)"
      ]
     },
     "execution_count": 215,
     "metadata": {},
     "output_type": "execute_result"
    }
   ],
   "source": [
    "pgabms_pos[\"time\"].mean(), msm_pos[\"time\"].mean()"
   ]
  },
  {
   "cell_type": "code",
   "execution_count": 217,
   "id": "33dea029",
   "metadata": {},
   "outputs": [
    {
     "data": {
      "text/plain": [
       "(21.347390064348776, 17.544652213652927)"
      ]
     },
     "execution_count": 217,
     "metadata": {},
     "output_type": "execute_result"
    }
   ],
   "source": [
    "pgabms_evidences[\"time\"].mean(), msm_evidences[\"time\"].mean()"
   ]
  },
  {
   "cell_type": "markdown",
   "id": "1dc93557",
   "metadata": {},
   "source": [
    "### Backfire Effect"
   ]
  },
  {
   "cell_type": "code",
   "execution_count": 251,
   "id": "05c1702d",
   "metadata": {},
   "outputs": [],
   "source": [
    "msm_backfire = pd.read_csv(\"../data/repeat_msm_bc_backfire_230725.csv\")"
   ]
  },
  {
   "cell_type": "code",
   "execution_count": 252,
   "id": "db5c58b4",
   "metadata": {},
   "outputs": [
    {
     "data": {
      "text/plain": [
       "<AxesSubplot:xlabel='edge_per_t', ylabel='T'>"
      ]
     },
     "execution_count": 252,
     "metadata": {},
     "output_type": "execute_result"
    },
    {
     "data": {
      "image/png": "[encoded data removed]",
      "text/plain": [
       "<Figure size 600x300 with 3 Axes>"
      ]
     },
     "metadata": {},
     "output_type": "display_data"
    }
   ],
   "source": [
    "vmin_vmax = (0.01, 0.2)\n",
    "\n",
    "fig, axes = plt.subplots(ncols = 2, nrows = 1, figsize = (6,3))\n",
    "\n",
    "\n",
    "cbar_ax = fig.add_axes([.96, axes[1].get_position().y0, .02, axes[1].get_position().height], )\n",
    "cbar_ax.set_xticklabels([])\n",
    "cbar_ax.set_yticklabels([])\n",
    "        \n",
    "sns.heatmap(data = msm_backfire.groupby([\"T\", \"edge_per_t\"])[\"distance_epsilon_plus\"].mean().unstack(),\n",
    "            ax = axes[0], cmap = \"Spectral\", \n",
    "            vmin = vmin_vmax[0], vmax = vmin_vmax[1], square = True,\n",
    "            cbar = False, cbar_ax = None if j == 0 else cbar_ax)\n",
    "        \n",
    "sns.heatmap(data = msm_backfire.groupby([\"T\", \"edge_per_t\"])[\"distance_epsilon_minus\"].mean().unstack(),\n",
    "            ax = axes[1], cmap = \"Spectral\", \n",
    "            vmin = vmin_vmax[0], vmax = vmin_vmax[1], square = True,\n",
    "            cbar = True, cbar_ax = None if j == 0 else cbar_ax)\n",
    "        \n",
    "\n"
   ]
  },
  {
   "cell_type": "code",
   "execution_count": 199,
   "id": "f08da5c6",
   "metadata": {},
   "outputs": [
    {
     "data": {
      "image/png": "[encoded data removed]",
      "text/plain": [
       "<Figure size 640x480 with 4 Axes>"
      ]
     },
     "metadata": {},
     "output_type": "display_data"
    }
   ],
   "source": [
    "fig, axes = plt.subplots(nrows = 2, ncols = 2)#, sharey = True, sharex = True)\n",
    "\n",
    "for i,eps in enumerate([\"epsilon_plus\", \"epsilon_minus\"]):\n",
    "    for j, meth in enumerate([\"pgabm\", \"msm\"]):\n",
    "        ax = axes[i,j]\n",
    "        x,y = f\"real_{eps}\", f\"{eps}_{meth}\"\n",
    "        sns.scatterplot(data = compare_backfire_df.query(\"(epsilon_plus_pgabm < 0.5)&(epsilon_minus_pgabm > 0.5)\"), \n",
    "                            x = x, y = y, ax = ax)\n",
    "        ax.set_title(f\"{meth} {eps}\")"
   ]
  },
  {
   "cell_type": "code",
   "execution_count": 29,
   "id": "36728229",
   "metadata": {},
   "outputs": [
    {
     "data": {
      "text/plain": [
       "<module 'opinion_dynamics_models_estimation' from '/home/jacopo.lenti/Projects/learning-od-step-by-step/src/opinion_dynamics_models_estimation.py'>"
      ]
     },
     "execution_count": 29,
     "metadata": {},
     "output_type": "execute_result"
    }
   ],
   "source": [
    "reload(oe)\n"
   ]
  },
  {
   "cell_type": "code",
   "execution_count": null,
   "id": "cc6409ea",
   "metadata": {},
   "outputs": [],
   "source": []
  },
  {
   "cell_type": "code",
   "execution_count": 16,
   "id": "ba54d929",
   "metadata": {},
   "outputs": [],
   "source": [
    "def complete_comparison_simple_BC(N, T, edge_per_t, evidences_per_t = 1, rho = 16,\n",
    "                                  calibration_batches = 400, ensemble_size = 1, seed = None):\n",
    "    np.random.seed(seed)\n",
    "    #epsilon, mu = np.random.random(2) / 2\n",
    "    mu = 0.1\n",
    "    epsilon = np.random.random() / 2\n",
    "    \n",
    "    X, edges, _ = simulate_BC(N, T, edge_per_t, evidences_per_t, (epsilon, mu, rho))\n",
    "    simulator = BC_simulator(X[0], edges, N, mu, epsilon, rho)\n",
    "    calibration_df, time_calibration = calibrate_params_ABM(simulator, calibration_batches = calibration_batches, ensemble_size = ensemble_size)\n",
    "    \n",
    "    pgabm_estimation = oe.estimation_BC_model_from_data(X, edges, _, (epsilon, mu, rho), **hyperparams_simple_BC)\n",
    "    \n",
    "    \n",
    "    return {\"real_epsilon\": epsilon, \n",
    "            \"mu\": mu, \n",
    "            \"rho\": rho, \n",
    "            \"epsilon_msm\": calibration_df[\"epsilon\"][0], \n",
    "            \"time_msm\": time_calibration,\n",
    "            \"calibration_batches\": calibration_batches, \n",
    "            \"abs_error_msm\": np.abs(calibration_df[\"epsilon\"][0] - epsilon),\n",
    "            \"rel_error_msm\": np.abs(calibration_df[\"epsilon\"][0] - epsilon) / epsilon,\n",
    "            \"ensemble_size\": ensemble_size,\n",
    "            \"epsilon_pgabm\": pgabm_estimation[\"epsilon_estimated\"],\n",
    "            \"time_pgabm\": pgabm_estimation[\"time\"],\n",
    "            \"abs_error_pgabm\": pgabm_estimation[\"distance_epsilon\"],\n",
    "            \"rel_error_pgabm\": pgabm_estimation[\"distance_epsilon\"] / epsilon,\n",
    "            \"num_epochs_pgabm\": pgabm_estimation[\"num_epochs\"]\n",
    "           }\n",
    "\n",
    "\n",
    "def complete_comparison_BC_observed_positive(N, T, edge_per_t, evidences_per_t = 1, rho = 16, calibration_batches = 400, ensemble_size = 1, seed = None):\n",
    "    np.random.seed(seed)\n",
    "    #epsilon, mu = np.random.random(2) / 2\n",
    "    mu = 0.1\n",
    "    epsilon = np.random.random() / 2\n",
    "    X, edges,_ = simulate_BC(N, T, edge_per_t, evidences_per_t, (epsilon, mu, rho))\n",
    "    simulator = BC_simulator_positive_observations(X[0], edges, N, mu, epsilon, rho)\n",
    "    calibration_df, time_calibration = calibrate_params_ABM(simulator, calibration_batches = calibration_batches, ensemble_size = ensemble_size)\n",
    "    \n",
    "    pgabm_estimation = oe.estimation_BC_model_from_data(X, edges, _, (epsilon, mu, rho), **hyperparams_obs_pos_BC)\n",
    "    \n",
    "    \n",
    "    return {\"real_epsilon\": epsilon, \n",
    "            \"mu\": mu, \n",
    "            \"rho\": rho, \n",
    "            \"epsilon_msm\": calibration_df[\"epsilon\"][0], \n",
    "            \"time_msm\": time_calibration,\n",
    "            \"calibration_batches\": calibration_batches, \n",
    "            \"abs_error_msm\": np.abs(calibration_df[\"epsilon\"][0] - epsilon),\n",
    "            \"rel_error_msm\": np.abs(calibration_df[\"epsilon\"][0] - epsilon) / epsilon,\n",
    "            \"ensemble_size\": ensemble_size,\n",
    "            \"epsilon_pgabm\": pgabm_estimation[\"epsilon_estimated\"],\n",
    "            \"time_pgabm\": pgabm_estimation[\"time\"],\n",
    "            \"abs_error_pgabm\": pgabm_estimation[\"distance_epsilon\"],\n",
    "            \"rel_error_pgabm\": pgabm_estimation[\"distance_epsilon\"] / epsilon,\n",
    "            \"num_epochs_pgabm\": pgabm_estimation[\"num_epochs\"]\n",
    "           }\n",
    "\n",
    "\n",
    "def complete_comparison_BC_with_evidences(N, T, edge_per_t, evidences_per_t, rho = 16, calibration_batches = 400, ensemble_size = 1, seed = None):\n",
    "    np.random.seed(seed)\n",
    "    #epsilon, mu = np.random.random(2) / 2\n",
    "    mu = 0.1\n",
    "    epsilon = np.random.random() / 2\n",
    "    \n",
    "    X, edges, evidences = simulate_BC(N, T, edge_per_t, evidences_per_t, (epsilon, mu, rho))\n",
    "    simulator = BC_simulator_X_evidences(N, edges, evidences, mu, epsilon, rho = rho)\n",
    "    calibration_df, time_calibration = calibrate_params_ABM(simulator, calibration_batches = calibration_batches, ensemble_size = ensemble_size)\n",
    "    \n",
    "    pgabm_estimation = oe.estimation_BC_model_from_data(X, edges, evidences, (epsilon, mu, rho), **hyperparams_evidence_BC)\n",
    "    \n",
    "    \n",
    "    return {\"real_epsilon\": epsilon, \n",
    "            \"mu\": mu, \n",
    "            \"rho\": rho, \n",
    "            \"epsilon_msm\": calibration_df[\"epsilon\"][0], \n",
    "            \"time_msm\": time_calibration,\n",
    "            \"calibration_batches\": calibration_batches, \n",
    "            \"abs_error_msm\": np.abs(calibration_df[\"epsilon\"][0] - epsilon),\n",
    "            \"rel_error_msm\": np.abs(calibration_df[\"epsilon\"][0] - epsilon) / epsilon,\n",
    "            \"ensemble_size\": ensemble_size,\n",
    "            \"epsilon_pgabm\": pgabm_estimation[\"epsilon_estimated\"],\n",
    "            \"time_pgabm\": pgabm_estimation[\"time\"],\n",
    "            \"abs_error_pgabm\": pgabm_estimation[\"distance_epsilon\"],\n",
    "            \"rel_error_pgabm\": pgabm_estimation[\"distance_epsilon\"] / epsilon,\n",
    "            \"X0_r2\": pgabm_estimation[\"X0_r2\"],\n",
    "            \"X0_mae\": pgabm_estimation[\"X0_mae\"],\n",
    "            \"X0_mse\": pgabm_estimation[\"X0_mse\"],\n",
    "            \"num_epochs_pgabm\": pgabm_estimation[\"num_epochs\"]\n",
    "           }\n",
    "\n",
    "def complete_comparison_BC_backfire(N, T, edge_per_t, evidences_per_t, rho = 16, calibration_batches = 400, ensemble_size = 1, seed = None):\n",
    "    np.random.seed(seed)\n",
    "    epsilon_plus = np.random.random() / 2\n",
    "    epsilon_minus = 0.5 + (np.random.random() / 2)\n",
    "    #mu_plus = mu_minus = np.random.random() / 2\n",
    "    mu_plus = mu_minus = 0.1\n",
    "    \n",
    "    X, edges, evidences = simulate_BC(N, T, edge_per_t, evidences_per_t, \n",
    "                                      (epsilon_plus, epsilon_minus, mu_plus, mu_minus, rho), model = \"backfire\")\n",
    "    simulator = BC_simulator_X_evidences_backfire(N, edges, evidences, mu_plus, mu_minus, \n",
    "                                                  epsilon_plus, epsilon_minus, rho = rho)\n",
    "    calibration_df, time_calibration = calibrate_params_ABM(simulator, \n",
    "                                                            parameters_names = [\"epsilon_plus\", \"epsilon_minus\"],\n",
    "                                                            precisions = [0.0001, 0.0001],\n",
    "                                                            parameters_bounds = [[0.,.5], [.5,1.]],\n",
    "                                                            calibration_batches = calibration_batches, \n",
    "                                                            ensemble_size = ensemble_size)\n",
    "    \n",
    "    pgabm_estimation = oe.estimation_BC_model_from_data(X, edges, evidences, \n",
    "                                                        (epsilon_plus, epsilon_minus, mu_plus, mu_minus, rho), \n",
    "                                                        **hyperparams_backfire_BC)\n",
    "    \n",
    "    return {\"real_epsilon_plus\": epsilon_plus, \n",
    "            \"real_epsilon_minus\": epsilon_minus,\n",
    "            \"mu_plus\": mu_plus, \n",
    "            \"mu_minus\": mu_minus, \n",
    "            \"rho\": rho, \n",
    "            \"epsilon_plus_msm\": calibration_df[\"epsilon_plus\"][0], \n",
    "            \"epsilon_minus_msm\": calibration_df[\"epsilon_minus\"][0], \n",
    "            \"time_msm\": time_calibration,\n",
    "            \"calibration_batches\": calibration_batches,\n",
    "            \"abs_error_msm_plus\": np.abs(calibration_df[\"epsilon_plus\"][0] - epsilon_plus),\n",
    "            \"abs_error_msm_minus\": np.abs(calibration_df[\"epsilon_minus\"][0] - epsilon_minus),\n",
    "            \"rel_error_msm_plus\": np.abs(calibration_df[\"epsilon_plus\"][0] - epsilon_plus) / epsilon_plus,\n",
    "            \"rel_error_msm_minus\": np.abs(calibration_df[\"epsilon_minus\"][0] - epsilon_minus) / epsilon_minus,\n",
    "            \"ensemble_size\": ensemble_size,\n",
    "            \"epsilon_plus_pgabm\": pgabm_estimation[\"epsilon_plus_estimated\"],\n",
    "            \"epsilon_minus_pgabm\": pgabm_estimation[\"epsilon_minus_estimated\"],\n",
    "            \"time_pgabm\": pgabm_estimation[\"time\"],\n",
    "            \"abs_error_pgabm_plus\": pgabm_estimation[\"distance_epsilon_plus\"],\n",
    "            \"abs_error_pgabm_minus\": pgabm_estimation[\"distance_epsilon_minus\"],\n",
    "            \"rel_error_pgabm_plus\": pgabm_estimation[\"distance_epsilon_plus\"] / epsilon_plus,\n",
    "            \"rel_error_pgabm_minus\": pgabm_estimation[\"distance_epsilon_minus\"] / epsilon_minus,\n",
    "            \"X0_r2\": pgabm_estimation[\"X0_r2\"],\n",
    "            \"X0_mae\": pgabm_estimation[\"X0_mae\"],\n",
    "            \"X0_mse\": pgabm_estimation[\"X0_mse\"],\n",
    "            \"num_epochs_pgabm\": pgabm_estimation[\"num_epochs\"]\n",
    "           }"
   ]
  },
  {
   "cell_type": "code",
   "execution_count": null,
   "id": "bb780716",
   "metadata": {},
   "outputs": [],
   "source": []
  },
  {
   "cell_type": "code",
   "execution_count": 11,
   "id": "6df04762",
   "metadata": {},
   "outputs": [],
   "source": [
    "N, T, edge_per_t, evidences_per_t = 100, 64, 8, 16\n",
    "\n",
    "rho = 16"
   ]
  },
  {
   "cell_type": "code",
   "execution_count": 7,
   "id": "a9b1356e",
   "metadata": {},
   "outputs": [],
   "source": [
    "del hyperparams_simple_BC[\"min_delta\"]\n",
    "del hyperparams_simple_BC[\"min_epochs\"]\n",
    "del hyperparams_simple_BC[\"patience\"]\n",
    "del hyperparams_obs_pos_BC[\"min_delta\"]\n",
    "del hyperparams_obs_pos_BC[\"min_epochs\"]\n",
    "del hyperparams_obs_pos_BC[\"patience\"]\n",
    "del hyperparams_evidence_BC[\"min_delta\"]\n",
    "del hyperparams_evidence_BC[\"min_epochs\"]\n",
    "del hyperparams_evidence_BC[\"patience\"]"
   ]
  },
  {
   "cell_type": "code",
   "execution_count": 5,
   "id": "08df6650",
   "metadata": {},
   "outputs": [],
   "source": [
    "hyperparams_simple_BC[\"early_stopping_kw\"] = {\"patience\": 20, \"min_delta\": 1e-5,\n",
    "                                              \"min_epochs\": 20, \"long_run_delta\": 1e-3, \n",
    "                                              \"long_run_diff\":20, \"long_run_patience\": 10}\n",
    "hyperparams_obs_pos_BC[\"early_stopping_kw\"] = {\"patience\": 20, \"min_delta\": 1e-5,\n",
    "                                              \"min_epochs\": 20, \"long_run_delta\": 1e-3, \n",
    "                                              \"long_run_diff\":20, \"long_run_patience\": 10}\n",
    "hyperparams_evidence_BC[\"early_stopping_kw\"] = {\"patience\": 20, \"min_delta\": 1e-5,\n",
    "                                              \"min_epochs\": 20, \"long_run_delta\": 1e-3, \n",
    "                                              \"long_run_diff\":20, \"long_run_patience\": 10}"
   ]
  },
  {
   "cell_type": "code",
   "execution_count": 18,
   "id": "006e2db4",
   "metadata": {},
   "outputs": [
    {
     "data": {
      "text/plain": [
       "<module 'opinion_dynamics_models_estimation' from '/home/jacopo.lenti/Projects/learning-od-step-by-step/src/opinion_dynamics_models_estimation.py'>"
      ]
     },
     "execution_count": 18,
     "metadata": {},
     "output_type": "execute_result"
    }
   ],
   "source": [
    "reload(oe)"
   ]
  },
  {
   "cell_type": "markdown",
   "id": "13629936",
   "metadata": {},
   "source": [
    "### Simple"
   ]
  },
  {
   "cell_type": "code",
   "execution_count": 19,
   "id": "ddccbde9",
   "metadata": {},
   "outputs": [],
   "source": [
    "comparison = complete_comparison_simple_BC(N, T, edge_per_t, evidences_per_t, \n",
    "                                               calibration_batches = 100, ensemble_size = 1, seed = None)\n"
   ]
  },
  {
   "cell_type": "code",
   "execution_count": 21,
   "id": "6508aeb0",
   "metadata": {},
   "outputs": [
    {
     "data": {
      "text/plain": [
       "{'real_epsilon': 0.1897473259891424,\n",
       " 'mu': 0.1,\n",
       " 'rho': 16,\n",
       " 'epsilon_msm': 0.20020000000000002,\n",
       " 'time_msm': 2.132398843765259,\n",
       " 'calibration_batches': 100,\n",
       " 'abs_error_msm': 0.010452674010857615,\n",
       " 'rel_error_msm': 0.05508733235827382,\n",
       " 'ensemble_size': 1,\n",
       " 'epsilon_pgabm': 0.17290723524375406,\n",
       " 'time_pgabm': 0.011779308319091797,\n",
       " 'abs_error_pgabm': 0.016840090745388336,\n",
       " 'rel_error_pgabm': 0.08875008202409107,\n",
       " 'num_epochs_pgabm': 32}"
      ]
     },
     "execution_count": 21,
     "metadata": {},
     "output_type": "execute_result"
    }
   ],
   "source": [
    "comparison"
   ]
  },
  {
   "cell_type": "markdown",
   "id": "af24fe50",
   "metadata": {},
   "source": [
    "### Observe positive"
   ]
  },
  {
   "cell_type": "code",
   "execution_count": 22,
   "id": "e598c9ed",
   "metadata": {},
   "outputs": [],
   "source": [
    "comparison = complete_comparison_BC_observed_positive(N, T, edge_per_t, evidences_per_t, \n",
    "                                                      calibration_batches = 100, ensemble_size = 1, seed = None)\n"
   ]
  },
  {
   "cell_type": "code",
   "execution_count": 23,
   "id": "edb5bea8",
   "metadata": {},
   "outputs": [
    {
     "data": {
      "text/plain": [
       "{'real_epsilon': 0.20358051378416803,\n",
       " 'mu': 0.1,\n",
       " 'rho': 16,\n",
       " 'epsilon_msm': 0.016110000000000003,\n",
       " 'time_msm': 2.639906883239746,\n",
       " 'calibration_batches': 100,\n",
       " 'abs_error_msm': 0.187470513784168,\n",
       " 'rel_error_msm': 0.9208666895443661,\n",
       " 'ensemble_size': 1,\n",
       " 'epsilon_pgabm': 0.17581441164451272,\n",
       " 'time_pgabm': 0.24967193603515625,\n",
       " 'abs_error_pgabm': 0.027766102139655302,\n",
       " 'rel_error_pgabm': 0.1363888007920658,\n",
       " 'num_epochs_pgabm': 45}"
      ]
     },
     "execution_count": 23,
     "metadata": {},
     "output_type": "execute_result"
    }
   ],
   "source": [
    "comparison"
   ]
  },
  {
   "cell_type": "markdown",
   "id": "05b1ccfc",
   "metadata": {},
   "source": [
    "### Evidences "
   ]
  },
  {
   "cell_type": "code",
   "execution_count": 24,
   "id": "65bc9443",
   "metadata": {},
   "outputs": [],
   "source": [
    "comparison = complete_comparison_BC_with_evidences(N, T, edge_per_t, evidences_per_t, \n",
    "                                                   calibration_batches = 100, ensemble_size = 1, seed = None)\n"
   ]
  },
  {
   "cell_type": "code",
   "execution_count": 25,
   "id": "9af837a6",
   "metadata": {},
   "outputs": [
    {
     "data": {
      "text/plain": [
       "{'real_epsilon': 0.0242069783459124,\n",
       " 'mu': 0.1,\n",
       " 'rho': 16,\n",
       " 'epsilon_msm': 0.17804,\n",
       " 'time_msm': 3.0836358070373535,\n",
       " 'calibration_batches': 100,\n",
       " 'abs_error_msm': 0.1538330216540876,\n",
       " 'rel_error_msm': 6.354903922986485,\n",
       " 'ensemble_size': 1,\n",
       " 'epsilon_pgabm': 0.038987827329532605,\n",
       " 'time_pgabm': 2.788625717163086,\n",
       " 'abs_error_pgabm': 0.014780848983620205,\n",
       " 'rel_error_pgabm': 0.6106028093389072,\n",
       " 'X0_r2': 0.8373653888702393,\n",
       " 'X0_mae': 0.09338035434484482,\n",
       " 'X0_mse': 0.01642603799700737,\n",
       " 'num_epochs_pgabm': 124}"
      ]
     },
     "execution_count": 25,
     "metadata": {},
     "output_type": "execute_result"
    }
   ],
   "source": [
    "comparison"
   ]
  },
  {
   "cell_type": "code",
   "execution_count": 137,
   "id": "cf467a67",
   "metadata": {},
   "outputs": [
    {
     "data": {
      "text/plain": [
       "3.047316551208496"
      ]
     },
     "execution_count": 137,
     "metadata": {},
     "output_type": "execute_result"
    }
   ],
   "source": [
    "comparison[\"time_msm\"]"
   ]
  },
  {
   "cell_type": "code",
   "execution_count": 24,
   "id": "a2c2426b",
   "metadata": {},
   "outputs": [
    {
     "data": {
      "text/plain": [
       "<module 'opinion_dynamics_models_estimation' from '/home/jacopo.lenti/Projects/learning-od-step-by-step/src/opinion_dynamics_models_estimation.py'>"
      ]
     },
     "execution_count": 24,
     "metadata": {},
     "output_type": "execute_result"
    }
   ],
   "source": [
    "reload(oe)"
   ]
  },
  {
   "cell_type": "code",
   "execution_count": 112,
   "id": "914ed5c3",
   "metadata": {},
   "outputs": [],
   "source": [
    "mu = 0.1\n",
    "epsilon = np.random.random() / 2\n",
    "\n",
    "\n",
    "X, edges, evidences = simulate_BC(N, T, edge_per_t, evidences_per_t, (epsilon, mu, rho))\n",
    "\n",
    "pgabm_estimation = oe.estimation_BC_model_from_data(X, edges, evidences, (epsilon, mu, rho),\n",
    "                                                    model_name = \"BC_with_evidence\",\n",
    "                                                    summarized = False,\n",
    "                                                    optimizer_name = \"RMSprop\", lr = 0.05,\n",
    "                                                    num_epochs = 400, X0_lr_scale = 10,\n",
    "                                                    early_stopping_kw = {\"patience\": 20, \"min_delta\": 1e-5,\n",
    "                                                                         \"min_epochs\": 20, \"long_run_delta\": 1e-7, \n",
    "                                                                         \"long_run_diff\":20, \"long_run_patience\": 10}\n",
    "                                                    \n",
    "                                                   )\n",
    "    "
   ]
  },
  {
   "cell_type": "code",
   "execution_count": 119,
   "id": "b8c3f5e5",
   "metadata": {},
   "outputs": [],
   "source": [
    "l = np.array(pgabm_estimation[\"epsilon\"])\n",
    "condition = np.where((np.abs(l[20:] - l[:-20]) < 1e-3).cumsum() > 10)\n",
    "vert_ = 0\n",
    "if len(condition[0]) > 0:\n",
    "    vert_ = np.where((np.abs(l[20:] - l[:-20]) < 1e-3).cumsum() > 10)[0][0] "
   ]
  },
  {
   "cell_type": "code",
   "execution_count": 120,
   "id": "26a7a5f8",
   "metadata": {},
   "outputs": [
    {
     "data": {
      "text/plain": [
       "[<matplotlib.lines.Line2D at 0x7f7d3424b820>]"
      ]
     },
     "execution_count": 120,
     "metadata": {},
     "output_type": "execute_result"
    },
    {
     "data": {
      "image/png": "[encoded data removed]",
      "text/plain": [
       "<Figure size 1000x400 with 2 Axes>"
      ]
     },
     "metadata": {},
     "output_type": "display_data"
    }
   ],
   "source": [
    "fig, axes = plt.subplots(nrows = 1, ncols = 2, figsize = (10, 4))\n",
    "\n",
    "axes[0].plot(pgabm_estimation[\"epsilon\"])\n",
    "axes[0].hlines(y = epsilon, xmin = 0, xmax = 200, colors = \"red\")\n",
    "axes[0].vlines(x = vert_, ymin = 0., ymax = 0.5, colors = \"orange\")\n",
    "axes[1].plot(pgabm_estimation[\"loss\"])"
   ]
  },
  {
   "cell_type": "code",
   "execution_count": 87,
   "id": "68ba1893",
   "metadata": {},
   "outputs": [],
   "source": [
    "min_delta1 = 1e-03\n",
    "min_delta2 = 1e-04\n",
    "patience = 50\n",
    "min_epoch = 20\n",
    "\n",
    "estimates = np.array(pgabm_estimation[\"epsilon\"])\n",
    "l_diff = np.abs(np.diff((estimates[1:] + estimates[:-1]) / 2)) #np.abs(np.diff(pgabm_estimation[\"epsilon\"]))\n",
    "counter1, counter2 = 0,0\n",
    "consecutive_counter1,consecutive_counter2 = [],[] \n",
    "\n",
    "for epoch in range(len(l_diff)):\n",
    "    if (epoch > min_epoch)&(l_diff[epoch] < min_delta1):\n",
    "        counter1 += 1\n",
    "    else: \n",
    "        counter1 = 0\n",
    "    if (epoch > min_epoch)&(l_diff[epoch] < min_delta2):\n",
    "        counter2 += 1\n",
    "    else: \n",
    "        counter2 = 0\n",
    "    consecutive_counter1.append((epoch, counter1))\n",
    "    consecutive_counter2.append((epoch,counter2))"
   ]
  },
  {
   "cell_type": "code",
   "execution_count": 15,
   "id": "e6de3ee7",
   "metadata": {
    "scrolled": true
   },
   "outputs": [
    {
     "data": {
      "text/plain": [
       "[(0, 0),\n",
       " (1, 0),\n",
       " (2, 0),\n",
       " (3, 0),\n",
       " (4, 0),\n",
       " (5, 0),\n",
       " (6, 0),\n",
       " (7, 0),\n",
       " (8, 0),\n",
       " (9, 0),\n",
       " (10, 0),\n",
       " (11, 0),\n",
       " (12, 0),\n",
       " (13, 0),\n",
       " (14, 0),\n",
       " (15, 0),\n",
       " (16, 0),\n",
       " (17, 0),\n",
       " (18, 0),\n",
       " (19, 0),\n",
       " (20, 0),\n",
       " (21, 1),\n",
       " (22, 2),\n",
       " (23, 3),\n",
       " (24, 4),\n",
       " (25, 5),\n",
       " (26, 6),\n",
       " (27, 7),\n",
       " (28, 8),\n",
       " (29, 9),\n",
       " (30, 10),\n",
       " (31, 11),\n",
       " (32, 12),\n",
       " (33, 13),\n",
       " (34, 14),\n",
       " (35, 15),\n",
       " (36, 16),\n",
       " (37, 17),\n",
       " (38, 18),\n",
       " (39, 19),\n",
       " (40, 20),\n",
       " (41, 21),\n",
       " (42, 22),\n",
       " (43, 23),\n",
       " (44, 24),\n",
       " (45, 25),\n",
       " (46, 26),\n",
       " (47, 27),\n",
       " (48, 28),\n",
       " (49, 29),\n",
       " (50, 30),\n",
       " (51, 31),\n",
       " (52, 32),\n",
       " (53, 33),\n",
       " (54, 34),\n",
       " (55, 35),\n",
       " (56, 36),\n",
       " (57, 37),\n",
       " (58, 38),\n",
       " (59, 39),\n",
       " (60, 40),\n",
       " (61, 41),\n",
       " (62, 42),\n",
       " (63, 43),\n",
       " (64, 44),\n",
       " (65, 45),\n",
       " (66, 46),\n",
       " (67, 47),\n",
       " (68, 48),\n",
       " (69, 49)]"
      ]
     },
     "execution_count": 15,
     "metadata": {},
     "output_type": "execute_result"
    }
   ],
   "source": [
    "consecutive_counter1"
   ]
  },
  {
   "cell_type": "code",
   "execution_count": 169,
   "id": "8ce578db",
   "metadata": {},
   "outputs": [],
   "source": [
    "estimates = np.array(pgabm_estimation[\"epsilon\"])"
   ]
  },
  {
   "cell_type": "code",
   "execution_count": 173,
   "id": "be1dc976",
   "metadata": {
    "collapsed": true
   },
   "outputs": [
    {
     "data": {
      "text/plain": [
       "array([ 5.77558587e-02,  3.69116157e-02,  1.43129312e-02,  8.55904957e-03,\n",
       "        9.37294515e-03,  6.41370542e-03,  6.84639180e-04,  1.28137971e-03,\n",
       "        2.28411024e-03,  1.54563340e-04, -6.63775278e-04, -2.97407724e-03,\n",
       "       -1.47630259e-03, -1.50907683e-03, -1.50540382e-03, -4.26476426e-04,\n",
       "       -1.06018595e-03, -1.68446728e-03, -1.45957991e-03, -2.11175739e-03,\n",
       "       -1.21026811e-03, -2.79158973e-03, -2.00078500e-03, -1.03704674e-04,\n",
       "       -9.23456765e-04, -2.14922537e-03, -1.83533861e-03, -1.49251574e-03,\n",
       "       -1.27716750e-03, -2.25672148e-03, -1.85671990e-03, -4.52355880e-04,\n",
       "       -8.55924063e-04, -2.68426849e-03, -1.28896509e-03, -3.14641525e-04,\n",
       "       -8.24796192e-04, -1.19461588e-03, -9.30249563e-04, -9.81387775e-05,\n",
       "       -6.34626751e-04, -1.93192038e-03, -9.02643897e-04,  2.53913604e-04,\n",
       "       -4.16815021e-04, -1.00518656e-03, -5.74705402e-04, -2.41908486e-04,\n",
       "       -4.32035049e-04, -1.20209699e-03, -5.18341472e-04,  4.39624121e-04,\n",
       "       -5.16895291e-04, -1.39295811e-03, -5.48079318e-04,  5.48980869e-04,\n",
       "       -3.67566542e-04, -1.07207074e-03, -4.63141391e-04, -1.74171977e-05,\n",
       "       -3.69357678e-04, -8.08810318e-04, -4.27445977e-04,  2.89422109e-04,\n",
       "       -4.06700235e-04, -1.08779841e-03, -4.11342924e-04,  3.33626973e-04,\n",
       "       -2.41558514e-04, -7.34944645e-04, -2.49850739e-04,  2.36646505e-04,\n",
       "       -1.42577145e-04, -6.14158369e-04, -3.05053381e-04,  3.14998780e-04,\n",
       "       -1.81971262e-04, -6.74154509e-04, -2.92539125e-04,  1.93415962e-04,\n",
       "       -2.24084775e-04, -6.85756640e-04, -2.47494752e-04,  3.53694310e-04,\n",
       "       -1.94952342e-04, -6.67270631e-04, -2.01338727e-04,  2.43715624e-04,\n",
       "       -1.78087541e-04, -5.91024380e-04, -1.67105774e-04,  3.37073295e-04,\n",
       "       -1.48749204e-04, -5.71618865e-04, -1.41094841e-04,  2.91279781e-04,\n",
       "       -1.32030549e-04, -5.14685752e-04, -1.16756486e-04,  3.20733836e-04,\n",
       "       -1.14578396e-04, -4.88999314e-04, -9.84132033e-05,  3.00812612e-04,\n",
       "       -1.01062216e-04, -4.48397904e-04, -8.12271026e-05,  3.00456568e-04,\n",
       "       -8.89677327e-05, -4.18521037e-04, -6.68874542e-05,  2.89796297e-04,\n",
       "       -7.91547475e-05, -3.89584329e-04, -5.49541679e-05,  2.82141398e-04,\n",
       "       -7.05663435e-05, -3.65069565e-04, -4.46866833e-05,  2.72884982e-04,\n",
       "       -6.32148740e-05, -3.42956805e-04, -3.61669193e-05,  2.64077058e-04,\n",
       "       -5.70195691e-05, -3.24220731e-04, -2.91822890e-05,  2.55624035e-04,\n",
       "       -5.21880383e-05, -3.07400995e-04, -2.38936148e-05,  2.49586210e-04,\n",
       "       -4.83947559e-05, -2.91451990e-04, -1.89310089e-05,  2.42630929e-04,\n",
       "       -4.47594637e-05, -2.77707667e-04, -1.44793334e-05,  2.35544976e-04,\n",
       "       -4.17846008e-05, -2.65298877e-04, -1.05470158e-05,  2.28190828e-04,\n",
       "       -3.92734354e-05, -2.52209727e-04, -6.71982305e-06,  2.19432667e-04,\n",
       "       -3.71731535e-05, -2.39972035e-04, -3.29715569e-06,  2.11245115e-04,\n",
       "       -3.52032004e-05, -2.28864973e-04, -8.22351551e-08,  2.03740075e-04,\n",
       "       -3.33723534e-05, -2.18477499e-04,  2.78750693e-06,  1.97334784e-04,\n",
       "       -3.17038204e-05, -2.08731762e-04,  5.24312365e-06,  1.91686422e-04,\n",
       "       -3.03877517e-05, -1.99676818e-04,  7.31917914e-06,  1.86399468e-04,\n",
       "       -2.94303219e-05, -1.91489283e-04,  9.15868700e-06,  1.81305720e-04,\n",
       "       -2.87621326e-05, -1.84438280e-04,  1.10551122e-05,  1.76904634e-04,\n",
       "       -2.81507472e-05, -1.78092697e-04,  1.26784686e-05,  1.72482509e-04,\n",
       "       -2.78628722e-05, -1.72749760e-04,  1.42161645e-05,  1.68584165e-04,\n",
       "       -2.76451122e-05, -1.68232574e-04,  1.56722300e-05,  1.65216332e-04,\n",
       "       -2.74014461e-05, -1.64337835e-04,  1.70098372e-05,  1.62332754e-04,\n",
       "       -2.70620821e-05, -1.60911844e-04,  1.81754821e-05,  1.59909510e-04,\n",
       "       -2.66047119e-05, -1.57911112e-04,  1.91163435e-05])"
      ]
     },
     "execution_count": 173,
     "metadata": {},
     "output_type": "execute_result"
    }
   ],
   "source": [
    "np.diff((estimates[1:] + estimates[:-1]) / 2)"
   ]
  },
  {
   "cell_type": "code",
   "execution_count": null,
   "id": "0860fa06",
   "metadata": {},
   "outputs": [],
   "source": []
  }
 ],
 "metadata": {
  "kernelspec": {
   "display_name": "Python 3 (ipykernel)",
   "language": "python",
   "name": "python3"
  },
  "language_info": {
   "codemirror_mode": {
    "name": "ipython",
    "version": 3
   },
   "file_extension": ".py",
   "mimetype": "text/x-python",
   "name": "python",
   "nbconvert_exporter": "python",
   "pygments_lexer": "ipython3",
   "version": "3.9.12"
  }
 },
 "nbformat": 4,
 "nbformat_minor": 5
}

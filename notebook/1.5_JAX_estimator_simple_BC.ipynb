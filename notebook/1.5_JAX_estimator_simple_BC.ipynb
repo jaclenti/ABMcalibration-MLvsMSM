{
 "cells": [
  {
   "cell_type": "markdown",
   "id": "19505f3f",
   "metadata": {},
   "source": [
    "# JAX estimator simple BC model\n",
    "In this notebook we program an estimator for epsilon parameter in BC model with JAX procedure. \n",
    "\n",
    "Until now, we have seen the same estimation (maximization of the likelihood function obtained from the ABM) with Torch and scipy.\n",
    "\n",
    "For this reason, we need to define also the JAX simulator for the BC model, that returns `jnp` objects for edgelist and opinion trajectories.\n",
    "\n",
    "These functions will be stored in the src file `jax_optimization_BC.py`."
   ]
  },
  {
   "cell_type": "code",
   "execution_count": 54,
   "id": "7be0cc14",
   "metadata": {},
   "outputs": [],
   "source": [
    "import jax\n",
    "from jax import jit\n",
    "import numpy as np\n",
    "import jax.numpy as jnp\n",
    "import sys\n",
    "sys.path += ['../src/']\n",
    "import simulator_BC as sim_bc\n",
    "import estimation_epsilon_BC as est_bc\n",
    "from scipy.special import expit as sigmoid\n",
    "from scipy.special import expit as logit\n",
    "import matplotlib.pyplot as plt\n",
    "import optax\n",
    "from time import time"
   ]
  },
  {
   "cell_type": "markdown",
   "id": "58a891ad",
   "metadata": {},
   "source": [
    "## JAX Simulator\n",
    "At first, define the functions we need in JAX, that are the sigmoid, the logit and the binary cross-entropy with logit (BCE(sigmoid(x))"
   ]
  },
  {
   "cell_type": "code",
   "execution_count": 2,
   "id": "e41f59cd",
   "metadata": {},
   "outputs": [],
   "source": [
    "def jnp_sigmoid(x):\n",
    "    return 1 / (1 + jnp.exp(-x))\n",
    "\n",
    "def jnp_logit(x):\n",
    "    return jnp.log(x) - jnp.log(1 - x)\n",
    "\n",
    "def jnp_bce_with_logits(x,y):\n",
    "    xs = jnp_sigmoid(x)\n",
    "    loss = -jnp.sum(y * jnp.log(xs) + (1-y) * jnp.log(1 - xs))\n",
    "    return loss"
   ]
  },
  {
   "cell_type": "markdown",
   "id": "30bcae7e",
   "metadata": {},
   "source": [
    "Simulate a bounded confidence model, with input\n",
    "- `N` number of agents\n",
    "- `T`number of timesteps\n",
    "- `edge_per_t`the number of edges at each timestep\n",
    "- `epsilon` the bounded confidence parameter. The probability of interactions between two nodes with opinions x_u and x_v is $\\sigma(\\rho(\\epsilon - |x_u - x_v))$ (since we are studying the stochastic bounded confidence model).\n",
    "- `mu`the convergence parameter. It drives the update of the opinions in case of positive interaction. If `s = 1` x_u += mu * (x_v - x_u), where s = 1 if the interaction occurred\n",
    "- `rho`represents the stochasticity of the model.\n",
    "\n",
    "The function returns two `np`arrays, that will be converted in `jnp`arrays: `edges`and `X`, the list of edges as `u,v,s,t` and the array of the opinions, where `X[t,:]` is the vector of all the opinions at time `t`."
   ]
  },
  {
   "cell_type": "code",
   "execution_count": 3,
   "id": "fd5d97e4",
   "metadata": {},
   "outputs": [],
   "source": [
    "def simulator_stoch_np(N, T, edge_per_t, epsilon, mu, rho = 10, seed = None, x0 = []):\n",
    "    if seed != None:\n",
    "        np.random.seed(seed)\n",
    "    if len(x0) == 0:\n",
    "        x0 = np.random.uniform(size = [1,N])\n",
    "    \n",
    "    edges = []#np.zeros([T * edge_per_t, 4])\n",
    "    t = 0\n",
    "    x0 = np.random.uniform(size = [1,N])\n",
    "    \n",
    "    X = np.repeat(x0, T, axis = 0)\n",
    "    \n",
    "    for t in range(T-1):\n",
    "        X[t+1] = X[t]\n",
    "        interacting_nodes = []\n",
    "        for new_edge in range(edge_per_t):\n",
    "            while True:\n",
    "                u = np.random.randint(N) #pick a user\n",
    "                if u not in interacting_nodes:\n",
    "                    interacting_nodes.append(u)\n",
    "                break\n",
    "            while True:\n",
    "                v = np.random.randint(N)\n",
    "                if v not in interacting_nodes:\n",
    "                    interacting_nodes.append(v)\n",
    "                break\n",
    "            \n",
    "            \n",
    "            dist = jnp.abs(X[t,u] - X[t,v])\n",
    "            \n",
    "            if np.random.random() < sigmoid(rho * (epsilon - dist)):\n",
    "                X[t+1, v] += mu * (X[t,u] - X[t,v])\n",
    "                X[t+1, u] += mu * (X[t,v] - X[t,u])\n",
    "                edges.append(np.array([u,v,1,t]))\n",
    "                #edges[t + new_edge] = np.array([u,v,1,t])\n",
    "            else:\n",
    "                edges.append(np.array([u,v,0,t]))\n",
    "                #edges[t + new_edge] = np.array([u,v,0,t])\n",
    "    return X, np.array(edges)"
   ]
  },
  {
   "cell_type": "code",
   "execution_count": 95,
   "id": "bfb0a1fc",
   "metadata": {},
   "outputs": [],
   "source": [
    "mu, epsilon, epsilon0 = 0.2, 0.2, 0.1\n",
    "rho = 70\n",
    "\n",
    "N = 100\n",
    "T, edge_per_t = 50, 5\n",
    "\n",
    "X, edges = sim_bc.simulator_stoch(N, T, edge_per_t, epsilon, mu, rho)"
   ]
  },
  {
   "cell_type": "code",
   "execution_count": 96,
   "id": "408743ac",
   "metadata": {},
   "outputs": [],
   "source": [
    "X, edges = simulator_stoch_np(N, T, edge_per_t, epsilon, mu, rho)\n",
    "u,v,s,t = edges.T"
   ]
  },
  {
   "cell_type": "code",
   "execution_count": 97,
   "id": "2c953f9c",
   "metadata": {},
   "outputs": [],
   "source": [
    "X_jnp, edges_jnp = jnp.array(X), jnp.array(edges)"
   ]
  },
  {
   "cell_type": "code",
   "execution_count": 98,
   "id": "d541d158",
   "metadata": {},
   "outputs": [],
   "source": [
    "diff_X_jnp = jnp.abs(X_jnp[t,u] - X_jnp[t,v])"
   ]
  },
  {
   "cell_type": "markdown",
   "id": "52788fde",
   "metadata": {},
   "source": [
    "### Likelihood function\n",
    "This is the likelihood of observing the given list of signed edges with a given set of parameters and the vector of opinion differences between `t+1` and `t`."
   ]
  },
  {
   "cell_type": "code",
   "execution_count": 64,
   "id": "a1bbe8f9",
   "metadata": {},
   "outputs": [],
   "source": [
    "@jit\n",
    "def tot_neg_log_likelihood_jnp(edges_jnp, rho, epsilon, T, diff_X_jnp):\n",
    "    u,v,s,t = edges_jnp.T\n",
    "    kappa = jnp_sigmoid(rho * (epsilon - jnp.abs(diff_X_jnp))) #probability of observing an edge, as the sigmoid of the absolute value of the difference of opinions\n",
    "\n",
    "    return jnp_bce_with_logits(kappa, s) #return the BCE of probability of observing edges and s (sign of the edges)\n"
   ]
  },
  {
   "cell_type": "code",
   "execution_count": 41,
   "id": "3841ea70",
   "metadata": {},
   "outputs": [],
   "source": [
    "loss_closure = lambda x: tot_neg_log_likelihood_jnp(edges_jnp, rho, x, T, diff_X_jnp)"
   ]
  },
  {
   "cell_type": "code",
   "execution_count": 42,
   "id": "346b983d",
   "metadata": {},
   "outputs": [],
   "source": [
    "x = np.arange(0,1,0.01)\n",
    "y = [loss_closure(u) for u in x]"
   ]
  },
  {
   "cell_type": "markdown",
   "id": "120ddde1",
   "metadata": {},
   "source": [
    "Compare the likelihood of observing the edges and X varying epsilon."
   ]
  },
  {
   "cell_type": "code",
   "execution_count": 43,
   "id": "f03861d7",
   "metadata": {},
   "outputs": [
    {
     "data": {
      "text/plain": [
       "<matplotlib.collections.LineCollection at 0x7f96183dfe80>"
      ]
     },
     "execution_count": 43,
     "metadata": {},
     "output_type": "execute_result"
    },
    {
     "data": {
      "image/png": "[encoded data removed]",
      "text/plain": [
       "<Figure size 640x480 with 1 Axes>"
      ]
     },
     "metadata": {},
     "output_type": "display_data"
    }
   ],
   "source": [
    "plt.plot(x,y)\n",
    "plt.vlines(x = epsilon, ymin = 100, ymax = 300, colors = \"red\", lw = 1)"
   ]
  },
  {
   "cell_type": "markdown",
   "id": "81e9dc7c",
   "metadata": {},
   "source": [
    "### Optimization of the likelihood\n",
    "Let us optimize the likelihood finding the best `epsilon` with `jax`optimization.\n",
    "\n",
    "We compare the optimization with and withou `@jit`."
   ]
  },
  {
   "cell_type": "code",
   "execution_count": 66,
   "id": "09be638a",
   "metadata": {},
   "outputs": [
    {
     "name": "stdout",
     "output_type": "stream",
     "text": [
      "Time 0.399442195892334\n",
      "[0.09084243]\n"
     ]
    }
   ],
   "source": [
    "history = {\"epsilon\": [], \"loss\": []}\n",
    "num_epochs = 100\n",
    "\n",
    "t0 = time()\n",
    "optimizer = optax.adam(learning_rate = 0.0001)\n",
    "\n",
    "theta0 = jnp_sigmoid(0.05)\n",
    "\n",
    "params = {\"theta\": jnp.array([theta0])}\n",
    "opt_state = optimizer.init(params)\n",
    "\n",
    "history = {\"epsilon\": [], \"loss\": []}\n",
    "\n",
    "\n",
    "compute_loss = lambda params: tot_neg_log_likelihood_jnp(edges_jnp, rho, jnp_logit(params[\"theta\"]), T, diff_X_jnp)\n",
    "\n",
    "@jit\n",
    "def jit_compute_loss(params):\n",
    "    return tot_neg_log_likelihood_jnp(edges_jnp, rho, jnp_logit(params[\"theta\"]), T, diff_X_jnp)\n",
    "\n",
    "\n",
    "for epoch in range(num_epochs):\n",
    "    history[\"epsilon\"].append(jnp_logit(params[\"theta\"]))\n",
    "    history[\"loss\"].append(compute_loss(params))\n",
    "    grads = jax.grad(jit_compute_loss)(params)\n",
    "    updates, opt_state = optimizer.update(grads, opt_state)\n",
    "    params = optax.apply_updates(params, updates)\n",
    "t1 = time()\n",
    "\n",
    "print(\"Time\", t1 - t0)\n",
    "print(history[\"epsilon\"][-1])"
   ]
  },
  {
   "cell_type": "code",
   "execution_count": 65,
   "id": "a7508e14",
   "metadata": {},
   "outputs": [
    {
     "name": "stdout",
     "output_type": "stream",
     "text": [
      "Time 0.7634611129760742\n",
      "[0.09084243]\n"
     ]
    }
   ],
   "source": [
    "history = {\"epsilon\": [], \"loss\": []}\n",
    "num_epochs = 100\n",
    "\n",
    "t0 = time()\n",
    "optimizer = optax.adam(learning_rate = 0.0001)\n",
    "\n",
    "theta0 = jnp_sigmoid(0.05)\n",
    "\n",
    "params = {\"theta\": jnp.array([theta0])}\n",
    "opt_state = optimizer.init(params)\n",
    "\n",
    "history = {\"epsilon\": [], \"loss\": []}\n",
    "\n",
    "compute_loss = lambda params: tot_neg_log_likelihood_jnp(edges_jnp, rho, jnp_logit(params[\"theta\"]), T, diff_X_jnp)\n",
    "\n",
    "for epoch in range(num_epochs):\n",
    "    history[\"epsilon\"].append(jnp_logit(params[\"theta\"]))\n",
    "    history[\"loss\"].append(compute_loss(params))\n",
    "    grads = jax.grad(compute_loss)(params)\n",
    "    updates, opt_state = optimizer.update(grads, opt_state)\n",
    "    params = optax.apply_updates(params, updates)\n",
    "t1 = time()\n",
    "\n",
    "print(\"Time\", t1 - t0)\n",
    "print(history[\"epsilon\"][-1])"
   ]
  },
  {
   "cell_type": "code",
   "execution_count": 22,
   "id": "74b583a4",
   "metadata": {},
   "outputs": [
    {
     "data": {
      "text/plain": [
       "[<matplotlib.lines.Line2D at 0x7f96b04be580>]"
      ]
     },
     "execution_count": 22,
     "metadata": {},
     "output_type": "execute_result"
    },
    {
     "data": {
      "image/png": "[encoded data removed]",
      "text/plain": [
       "<Figure size 640x480 with 1 Axes>"
      ]
     },
     "metadata": {},
     "output_type": "display_data"
    }
   ],
   "source": [
    "plt.plot(history[\"epsilon\"])"
   ]
  },
  {
   "cell_type": "code",
   "execution_count": 92,
   "id": "e3df3ea7",
   "metadata": {},
   "outputs": [],
   "source": [
    "class EarlyStopping:\n",
    "    def __init__(self, patience = 5, min_delta = 0, min_epochs = 100):\n",
    "\n",
    "        self.patience = patience\n",
    "        self.min_delta = min_delta\n",
    "        self.counter = 0\n",
    "        self.early_stop = False\n",
    "        self.min_epochs = min_epochs\n",
    "\n",
    "    def __call__(self, previous_epsilon, current_epsilon, epoch):\n",
    "        if self.min_delta > 0:\n",
    "            if (epoch > self.min_epochs) & (np.abs(previous_epsilon - current_epsilon) < self.min_delta):\n",
    "                self.counter +=1\n",
    "                if self.counter >= self.patience:\n",
    "                    self.early_stop = True\n",
    "            else:\n",
    "                self.counter = 0\n",
    "\n",
    "\n",
    "\n",
    "def estimator_BC_jax(rho, mu, X, edges, epsilon0, patience = 20, min_delta = 10e-6, min_epochs = 100,\n",
    "                     num_epochs = 1000, lr = 0.0001):\n",
    "    history = {\"epsilon\": [], \"loss\": [], \"grad\": []}\n",
    "    \n",
    "    optimizer = optax.adam(learning_rate = lr)\n",
    "    \n",
    "    early_stopping = EarlyStopping(patience, min_delta, min_epochs)\n",
    "    \n",
    "    theta0 = jnp_sigmoid(epsilon0)\n",
    "    \n",
    "    params = {\"theta\": jnp.array([theta0])}\n",
    "    opt_state = optimizer.init(params)\n",
    "    \n",
    "    u,v,s,t = edges.T\n",
    "    diff_X = jnp.abs(X[t,u] - X[t,v])\n",
    "    \n",
    "    @jit\n",
    "    def jit_compute_loss(params):\n",
    "        return tot_neg_log_likelihood_jnp(edges_jnp, rho, jnp_logit(params[\"theta\"]), T, diff_X_jnp)\n",
    "\n",
    "    \n",
    "    for epoch in range(num_epochs):\n",
    "        grads = jax.grad(jit_compute_loss)(params)\n",
    "        history[\"epsilon\"].append(jnp_logit(params[\"theta\"]))\n",
    "        history[\"loss\"].append(jit_compute_loss(params))\n",
    "        history[\"grad\"].append(grads[\"theta\"])\n",
    "        updates, opt_state = optimizer.update(grads, opt_state)\n",
    "        params = optax.apply_updates(params, updates)\n",
    "        \n",
    "        \n",
    "        if epoch > min_epochs:\n",
    "            early_stopping(history[\"epsilon\"][-1], history[\"epsilon\"][-2], epoch)\n",
    "            if early_stopping.early_stop:\n",
    "                break\n",
    "    return history"
   ]
  },
  {
   "cell_type": "code",
   "execution_count": 95,
   "id": "78ca0f8b",
   "metadata": {},
   "outputs": [],
   "source": [
    "mu, epsilon, epsilon0 = 0.2, 0.2, 0.1\n",
    "rho = 70\n",
    "\n",
    "N = 100\n",
    "T, edge_per_t = 50, 5\n",
    "\n",
    "X, edges = sim_bc.simulator_stoch(N, T, edge_per_t, epsilon, mu, rho)"
   ]
  },
  {
   "cell_type": "code",
   "execution_count": 96,
   "id": "b8fb6352",
   "metadata": {},
   "outputs": [],
   "source": [
    "X, edges = simulator_stoch_np(N, T, edge_per_t, epsilon, mu, rho)\n",
    "u,v,s,t = edges.T"
   ]
  },
  {
   "cell_type": "code",
   "execution_count": 97,
   "id": "3ad0df94",
   "metadata": {},
   "outputs": [],
   "source": [
    "X_jnp, edges_jnp = jnp.array(X), jnp.array(edges)"
   ]
  },
  {
   "cell_type": "code",
   "execution_count": 98,
   "id": "18ac4d0d",
   "metadata": {},
   "outputs": [],
   "source": [
    "diff_X_jnp = jnp.abs(X_jnp[t,u] - X_jnp[t,v])"
   ]
  },
  {
   "cell_type": "code",
   "execution_count": 123,
   "id": "12c939c2",
   "metadata": {},
   "outputs": [],
   "source": [
    "history_jax = estimator_BC_jax(rho, mu, X_jnp, edges_jnp, epsilon0, min_delta = 10e-7, num_epochs = 1000, lr = 0.0001)"
   ]
  },
  {
   "cell_type": "code",
   "execution_count": 124,
   "id": "97675012",
   "metadata": {},
   "outputs": [
    {
     "data": {
      "image/png": "[encoded data removed]",
      "text/plain": [
       "<Figure size 1200x300 with 3 Axes>"
      ]
     },
     "metadata": {},
     "output_type": "display_data"
    }
   ],
   "source": [
    "est_bc.print_history(history_jax, epsilon)"
   ]
  },
  {
   "cell_type": "code",
   "execution_count": null,
   "id": "495d2431",
   "metadata": {},
   "outputs": [],
   "source": []
  }
 ],
 "metadata": {
  "kernelspec": {
   "display_name": "Python 3 (ipykernel)",
   "language": "python",
   "name": "python3"
  },
  "language_info": {
   "codemirror_mode": {
    "name": "ipython",
    "version": 3
   },
   "file_extension": ".py",
   "mimetype": "text/x-python",
   "name": "python",
   "nbconvert_exporter": "python",
   "pygments_lexer": "ipython3",
   "version": "3.9.12"
  }
 },
 "nbformat": 4,
 "nbformat_minor": 5
}

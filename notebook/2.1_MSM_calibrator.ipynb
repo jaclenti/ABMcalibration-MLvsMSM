{
 "cells": [
  {
   "cell_type": "markdown",
   "id": "5847c384",
   "metadata": {},
   "source": [
    "# MSM Calibrator\n",
    "\n",
    "In this notebook we implement the function `calibrate_params_ABM` that will be used for calibrating the bounded confidence model in all the scenarios.\n",
    "\n",
    "It is base on `blackit`implementation of the Calibrator."
   ]
  },
  {
   "cell_type": "code",
   "execution_count": 1,
   "id": "0853caf2",
   "metadata": {},
   "outputs": [],
   "source": [
    "import numpy as np\n",
    "import sys\n",
    "sys.path += [\"../src\"]\n",
    "from calibrator_blackit import Calibrator #i just commented few lines of code to remove the output print\n",
    "#from black_it.calibrator import Calibrator\n",
    "from black_it.samplers.halton import HaltonSampler\n",
    "from black_it.loss_functions.msm import MethodOfMomentsLoss\n",
    "import pandas as pd\n",
    "from time import time"
   ]
  },
  {
   "cell_type": "code",
   "execution_count": 2,
   "id": "44b93131",
   "metadata": {},
   "outputs": [],
   "source": [
    "def calibrate_params_ABM(simulator, parameters_names = [\"epsilon\"], calibration_batches = 100, ensemble_size = 3,\n",
    "                         sampler = HaltonSampler, loss = MethodOfMomentsLoss(), batch_size = 1,\n",
    "                         parameters_bounds = [[0.], [0.5]], precisions = [0.00001]):\n",
    "    \n",
    "    t0 = time()\n",
    "    model = simulator.simulate_ts\n",
    "    real_data = simulator.ts\n",
    "    \n",
    "    samplers = [sampler(batch_size)]\n",
    "\n",
    "\n",
    "    BC_cal = Calibrator(real_data = real_data,\n",
    "                        samplers = samplers,\n",
    "                        loss_function = loss,\n",
    "                        model = model,\n",
    "                        parameters_bounds = parameters_bounds,\n",
    "                        parameters_precision = precisions,\n",
    "                        ensemble_size = ensemble_size,\n",
    "                        saving_folder = None,\n",
    "                        verbose = False,\n",
    "                        n_jobs = 1#'initial_state'\n",
    "                       )\n",
    "    \n",
    "    \n",
    "    params, losses = BC_cal.calibrate(calibration_batches)\n",
    "    t1 = time()\n",
    "    \n",
    "    output_dict = {\"loss\": losses}\n",
    "    for i,param_i in enumerate(parameters_names):\n",
    "        output_dict[param_i] = params.T[i]\n",
    "        \n",
    "    return pd.DataFrame(output_dict), t1 - t0"
   ]
  },
  {
   "cell_type": "markdown",
   "id": "619cf6ad",
   "metadata": {},
   "source": [
    "### Example"
   ]
  },
  {
   "cell_type": "code",
   "execution_count": 3,
   "id": "e3c2620b",
   "metadata": {},
   "outputs": [],
   "source": [
    "from MSM_simulators import FBCM_simulator, PBCM_simulator, NBCM_simulator\n",
    "import simulator_opinion_dynamics as sod"
   ]
  },
  {
   "cell_type": "code",
   "execution_count": 4,
   "id": "f1c1e3cb",
   "metadata": {},
   "outputs": [],
   "source": [
    "N, T, edge_per_t = 100, 256, 4\n",
    "evidences_per_t = 4\n",
    "epsilon, mu, rho = 0.35, 0.4, 16\n",
    "\n",
    "X, edges, evidences = sod.simulate_BC(N, T, edge_per_t, evidences_per_t, (epsilon, mu, rho), seed = 34945)"
   ]
  },
  {
   "cell_type": "code",
   "execution_count": 5,
   "id": "862e77fb",
   "metadata": {},
   "outputs": [],
   "source": [
    "fbcm_simulator = FBCM_simulator(X[0], edges, N, mu, epsilon)"
   ]
  },
  {
   "cell_type": "code",
   "execution_count": 6,
   "id": "75fd9ef0",
   "metadata": {},
   "outputs": [],
   "source": [
    "fbcm_calibration = calibrate_params_ABM(fbcm_simulator, parameters_names = [\"epsilon\"], calibration_batches = 100, ensemble_size = 3,\n",
    "                                        sampler = HaltonSampler, loss = MethodOfMomentsLoss(), batch_size = 1,\n",
    "                                        parameters_bounds = [[0.], [0.5]], precisions = [0.00001])\n",
    "    "
   ]
  },
  {
   "cell_type": "code",
   "execution_count": 7,
   "id": "f6f1e239",
   "metadata": {},
   "outputs": [
    {
     "data": {
      "text/html": [
       "<div>\n",
       "<style scoped>\n",
       "    .dataframe tbody tr th:only-of-type {\n",
       "        vertical-align: middle;\n",
       "    }\n",
       "\n",
       "    .dataframe tbody tr th {\n",
       "        vertical-align: top;\n",
       "    }\n",
       "\n",
       "    .dataframe thead th {\n",
       "        text-align: right;\n",
       "    }\n",
       "</style>\n",
       "<table border=\"1\" class=\"dataframe\">\n",
       "  <thead>\n",
       "    <tr style=\"text-align: right;\">\n",
       "      <th></th>\n",
       "      <th>loss</th>\n",
       "      <th>epsilon</th>\n",
       "    </tr>\n",
       "  </thead>\n",
       "  <tbody>\n",
       "    <tr>\n",
       "      <th>0</th>\n",
       "      <td>0.047991</td>\n",
       "      <td>0.33463</td>\n",
       "    </tr>\n",
       "    <tr>\n",
       "      <th>1</th>\n",
       "      <td>0.074657</td>\n",
       "      <td>0.38931</td>\n",
       "    </tr>\n",
       "    <tr>\n",
       "      <th>2</th>\n",
       "      <td>0.166830</td>\n",
       "      <td>0.28287</td>\n",
       "    </tr>\n",
       "    <tr>\n",
       "      <th>3</th>\n",
       "      <td>0.171490</td>\n",
       "      <td>0.29849</td>\n",
       "    </tr>\n",
       "    <tr>\n",
       "      <th>4</th>\n",
       "      <td>0.194923</td>\n",
       "      <td>0.32974</td>\n",
       "    </tr>\n",
       "  </tbody>\n",
       "</table>\n",
       "</div>"
      ],
      "text/plain": [
       "       loss  epsilon\n",
       "0  0.047991  0.33463\n",
       "1  0.074657  0.38931\n",
       "2  0.166830  0.28287\n",
       "3  0.171490  0.29849\n",
       "4  0.194923  0.32974"
      ]
     },
     "execution_count": 7,
     "metadata": {},
     "output_type": "execute_result"
    }
   ],
   "source": [
    "fbcm_calibration[0].head()"
   ]
  },
  {
   "cell_type": "code",
   "execution_count": 8,
   "id": "2479b1ae",
   "metadata": {},
   "outputs": [
    {
     "name": "stdout",
     "output_type": "stream",
     "text": [
      "Correct epsilon 0.35\n",
      "Estimated epsilon 0.335\n",
      "Number of simulations 100\n",
      "Estimation time 29.0s\n"
     ]
    }
   ],
   "source": [
    "epsilon_estimate = fbcm_calibration[0][\"epsilon\"][0]\n",
    "print(f\"Correct epsilon {epsilon}\")\n",
    "print(f\"Estimated epsilon {round(epsilon_estimate, 3)}\")\n",
    "print(f\"Number of simulations {len(fbcm_calibration[0])}\")\n",
    "print(f\"Estimation time {round(fbcm_calibration[1], 1)}s\")"
   ]
  },
  {
   "cell_type": "code",
   "execution_count": null,
   "id": "acab93b9",
   "metadata": {},
   "outputs": [],
   "source": []
  },
  {
   "cell_type": "code",
   "execution_count": null,
   "id": "8444f826",
   "metadata": {},
   "outputs": [],
   "source": []
  }
 ],
 "metadata": {
  "kernelspec": {
   "display_name": "Python 3 (ipykernel)",
   "language": "python",
   "name": "python3"
  },
  "language_info": {
   "codemirror_mode": {
    "name": "ipython",
    "version": 3
   },
   "file_extension": ".py",
   "mimetype": "text/x-python",
   "name": "python",
   "nbconvert_exporter": "python",
   "pygments_lexer": "ipython3",
   "version": "3.9.12"
  }
 },
 "nbformat": 4,
 "nbformat_minor": 5
}

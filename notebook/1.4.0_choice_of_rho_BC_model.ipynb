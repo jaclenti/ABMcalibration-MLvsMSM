{
 "cells": [
  {
   "cell_type": "markdown",
   "id": "d42cd096",
   "metadata": {},
   "source": [
    "# Choice of $\\rho$\n",
    "\n",
    "In this notebook we derive $\\rho$, the parameter of the sigmoid used in the bounded confidence model.\n",
    "\n",
    "It is the measure of stochasticity in the simulation of the model, as well as the measure of uncertainty in the prediction of $\\epsilon$.\n",
    "\n",
    "The bounded confidence model works in the following way:\n",
    "- pick u, v\n",
    "- create edge uv with probability $\\sigma(\\rho (\\epsilon - |x_u - x_v|))$, where $\\sigma()$ is the sigmoid function\n",
    "\n",
    "Hence, if $\\rho$ = 0, the two nodes will always connect with probability 0.5, if $\\rho = \\infty$ the will connect with probability 1 if $|x_u - x_v| < \\epsilon$, otherwise with probability 0.\n",
    "\n",
    "In the estimation step, the likelihood function of the observed edges (u,v,s,t), where s is the sign of interaction, given X is \n",
    "\n",
    "$\\sum\\limits_{u,v} s * log(\\kappa (X^t)) + (1 - s) * log(1 - \\kappa (X^t))$,\n",
    "\n",
    "where $\\kappa (X^t) = \\sigma(\\rho (\\epsilon - |x^t_u - x^t_v|))$.\n",
    "\n",
    "However, high values of $\\rho (\\epsilon - |x^t_u - x^t_v|)$ brings to computational issues, given by the fact that $\\sigma(\\rho (\\epsilon - |x^t_u - x^t_v|)) \\approx 1$.\n",
    "\n",
    "In this notebook we'll find the $[\\rho_0, \\rho_1]$ such that:\n",
    "- if $\\rho < \\rho_1$: $\\sigma(\\rho (\\epsilon - |x^t_u - x^t_v|)) < 1$\n",
    "- if $\\rho > \\rho_0$: the level of stochasticity is acceptable, meaning that two nodes with the same opinion connect with an high probability, and two nodes with opposite opinions connect with low probability"
   ]
  },
  {
   "cell_type": "code",
   "execution_count": 5,
   "id": "543b342d",
   "metadata": {},
   "outputs": [],
   "source": [
    "import sys\n",
    "sys.path += ['../src/']\n",
    "import simulator_BC as sim_bc\n",
    "import estimation_epsilon_BC as est_bc\n",
    "import numpy as np\n",
    "import torch\n",
    "import matplotlib.pyplot as plt\n",
    "import seaborn as sns\n",
    "from scipy.special import logit\n",
    "from scipy.special import expit as sigmoid"
   ]
  },
  {
   "cell_type": "code",
   "execution_count": 12,
   "id": "2928aedc",
   "metadata": {},
   "outputs": [
    {
     "data": {
      "text/plain": [
       "0.9990889488055994"
      ]
     },
     "execution_count": 12,
     "metadata": {},
     "output_type": "execute_result"
    }
   ],
   "source": [
    "epsilon, delta_x = 0.3, 0.2\n",
    "sigmoid(70 * (epsilon - delta_x))"
   ]
  },
  {
   "cell_type": "code",
   "execution_count": 145,
   "id": "b0793350",
   "metadata": {},
   "outputs": [],
   "source": [
    "epsilon = 0.3"
   ]
  },
  {
   "cell_type": "code",
   "execution_count": 146,
   "id": "b8075896",
   "metadata": {},
   "outputs": [],
   "source": [
    "delta_x = np.arange(0,1,0.01)"
   ]
  },
  {
   "cell_type": "code",
   "execution_count": 147,
   "id": "5e3fd6b3",
   "metadata": {},
   "outputs": [],
   "source": [
    "rhos = (10,100,1000)"
   ]
  },
  {
   "cell_type": "code",
   "execution_count": 148,
   "id": "9eb6d404",
   "metadata": {},
   "outputs": [],
   "source": [
    "kappas = [sigmoid(rho * (epsilon - delta_x)) for rho in rhos]"
   ]
  },
  {
   "cell_type": "code",
   "execution_count": 154,
   "id": "bfcfbe23",
   "metadata": {},
   "outputs": [
    {
     "data": {
      "image/png": "[encoded data removed]",
      "text/plain": [
       "<Figure size 1200x400 with 3 Axes>"
      ]
     },
     "metadata": {},
     "output_type": "display_data"
    }
   ],
   "source": [
    "fig, axes = plt.subplots(figsize = (12,4), ncols = 3, nrows = 1)\n",
    "\n",
    "for n in range(3):\n",
    "    ax, kappa = axes[n], kappas[n]\n",
    "    ax.plot(delta_x, kappa)\n",
    "    ax.vlines(x = epsilon, ymax = 1.1, ymin = -0.1, colors = \"red\")\n",
    "    ax.hlines(y = [0,1], xmax = 1, xmin = 0, colors = \"grey\", linestyles = \"dotted\")"
   ]
  },
  {
   "cell_type": "code",
   "execution_count": 86,
   "id": "e992ec35",
   "metadata": {},
   "outputs": [
    {
     "name": "stdout",
     "output_type": "stream",
     "text": [
      "rho = 10\n",
      "maximum probability of interaction: 0.9525741268224334\n",
      "minimum probability of interaction: 0.0010067708200856378\n",
      "rho = 100\n",
      "maximum probability of interaction: 0.9999999999999065\n",
      "minimum probability of interaction: 1.0806392777072785e-30\n",
      "rho = 1000\n",
      "maximum probability of interaction: 1.0\n",
      "minimum probability of interaction: 2.1717382813898268e-300\n"
     ]
    }
   ],
   "source": [
    "for n in range(3):\n",
    "    print(f\"rho = {rhos[n]}\")\n",
    "    print(f\"maximum probability of interaction: {kappas[n][0]}\")\n",
    "    print(f\"minimum probability of interaction: {kappas[n][-1]}\")\n"
   ]
  },
  {
   "cell_type": "markdown",
   "id": "1efdd341",
   "metadata": {},
   "source": [
    "### When do computational issues arise?"
   ]
  },
  {
   "cell_type": "code",
   "execution_count": 87,
   "id": "0be0c1f1",
   "metadata": {},
   "outputs": [
    {
     "data": {
      "text/plain": [
       "[(0, 1),\n",
       " (1, 0.1),\n",
       " (2, 0.01),\n",
       " (3, 0.001),\n",
       " (4, 0.0001),\n",
       " (5, 1e-05),\n",
       " (6, 1e-06),\n",
       " (7, 1e-07),\n",
       " (8, 1e-08),\n",
       " (9, 1e-09),\n",
       " (10, 1e-10),\n",
       " (11, 1e-11),\n",
       " (12, 1e-12),\n",
       " (13, 1e-13),\n",
       " (14, 1e-14),\n",
       " (15, 1e-15),\n",
       " (16, 1e-16),\n",
       " (17, 1e-17),\n",
       " (18, 1e-18),\n",
       " (19, 1e-19),\n",
       " (20, 1e-20),\n",
       " (21, 1e-21),\n",
       " (22, 1e-22),\n",
       " (23, 1e-23),\n",
       " (24, 1e-24),\n",
       " (25, 1e-25),\n",
       " (26, 1e-26),\n",
       " (27, 1e-27),\n",
       " (28, 1e-28),\n",
       " (29, 1e-29)]"
      ]
     },
     "execution_count": 87,
     "metadata": {},
     "output_type": "execute_result"
    }
   ],
   "source": [
    "[(i, 10**(-i)) for i in range(30)]"
   ]
  },
  {
   "cell_type": "code",
   "execution_count": 45,
   "id": "e2d3b25d",
   "metadata": {},
   "outputs": [
    {
     "data": {
      "text/plain": [
       "[(0, 0),\n",
       " (1, 0.9),\n",
       " (2, 0.99),\n",
       " (3, 0.999),\n",
       " (4, 0.9999),\n",
       " (5, 0.99999),\n",
       " (6, 0.999999),\n",
       " (7, 0.9999999),\n",
       " (8, 0.99999999),\n",
       " (9, 0.999999999),\n",
       " (10, 0.9999999999),\n",
       " (11, 0.99999999999),\n",
       " (12, 0.999999999999),\n",
       " (13, 0.9999999999999),\n",
       " (14, 0.99999999999999),\n",
       " (15, 0.999999999999999),\n",
       " (16, 0.9999999999999999),\n",
       " (17, 1.0),\n",
       " (18, 1.0),\n",
       " (19, 1.0),\n",
       " (20, 1.0),\n",
       " (21, 1.0),\n",
       " (22, 1.0),\n",
       " (23, 1.0),\n",
       " (24, 1.0),\n",
       " (25, 1.0),\n",
       " (26, 1.0),\n",
       " (27, 1.0),\n",
       " (28, 1.0),\n",
       " (29, 1.0)]"
      ]
     },
     "execution_count": 45,
     "metadata": {},
     "output_type": "execute_result"
    }
   ],
   "source": [
    "[(i, 1 - 10**(-i)) for i in range(30)]"
   ]
  },
  {
   "cell_type": "code",
   "execution_count": 160,
   "id": "918564fe",
   "metadata": {},
   "outputs": [
    {
     "data": {
      "text/plain": [
       "[(0, False),\n",
       " (1, False),\n",
       " (2, False),\n",
       " (3, False),\n",
       " (4, False),\n",
       " (5, False),\n",
       " (6, False),\n",
       " (7, False),\n",
       " (8, False),\n",
       " (9, False),\n",
       " (10, False),\n",
       " (11, False),\n",
       " (12, False),\n",
       " (13, False),\n",
       " (14, False),\n",
       " (15, False),\n",
       " (16, False),\n",
       " (17, True),\n",
       " (18, True),\n",
       " (19, True),\n",
       " (20, True),\n",
       " (21, True),\n",
       " (22, True),\n",
       " (23, True),\n",
       " (24, True),\n",
       " (25, True),\n",
       " (26, True),\n",
       " (27, True),\n",
       " (28, True),\n",
       " (29, True)]"
      ]
     },
     "execution_count": 160,
     "metadata": {},
     "output_type": "execute_result"
    }
   ],
   "source": [
    "list(enumerate(np.isclose([1 - 10**(-i) for i in range(30)], np.repeat(1, 30), atol = 10e-30, rtol = 0)))"
   ]
  },
  {
   "cell_type": "code",
   "execution_count": 83,
   "id": "c7edbff3",
   "metadata": {},
   "outputs": [
    {
     "data": {
      "text/plain": [
       "(0.9999999999999999, 1.0)"
      ]
     },
     "execution_count": 83,
     "metadata": {},
     "output_type": "execute_result"
    }
   ],
   "source": [
    "1 - 10**(-16), 1 - 10**(-17)"
   ]
  },
  {
   "cell_type": "markdown",
   "id": "64c286d0",
   "metadata": {},
   "source": [
    "## Choice of $\\rho_1$"
   ]
  },
  {
   "cell_type": "markdown",
   "id": "3db52519",
   "metadata": {},
   "source": [
    "- The problems arise when the output of the sigmoid is too close to 1\n",
    "\n",
    "$\\sigma (\\rho * |\\epsilon - \\Delta x|) > 1 - 10^{-16}$.\n",
    "\n",
    "- So, we need to input to the sigmoid values that are not too large. From the formula of sigmoid:\n",
    "\n",
    "$\\frac{1}{1 + exp(-\\rho * z)} > 1 - 10^{-16}$,\n",
    "\n",
    "- Inverting:\n",
    "\n",
    "$ logit(1 - 10^{-16}) < -\\rho * z$\n",
    "\n",
    "- That is equal to:\n",
    "\n",
    "$- logit(10^{-16}) >  \\rho * z = \\rho * (\\epsilon - \\Delta x)$ \n",
    "\n",
    "- Since $\\Delta x$ can be equal to 0, \n",
    "\n",
    "$\\rho < -\\frac{logit(10^{-16})}{\\epsilon}$\n",
    "\n",
    "\n",
    "### $\\rho_1 = -\\frac{logit(10^{-16})}{\\epsilon}$"
   ]
  },
  {
   "cell_type": "code",
   "execution_count": 95,
   "id": "2abecb43",
   "metadata": {},
   "outputs": [
    {
     "data": {
      "text/plain": [
       "36.84136148790473"
      ]
     },
     "execution_count": 95,
     "metadata": {},
     "output_type": "execute_result"
    }
   ],
   "source": [
    "upper_bound_input = - logit(10**(-16))\n",
    "upper_bound_input"
   ]
  },
  {
   "cell_type": "code",
   "execution_count": 109,
   "id": "38dc8215",
   "metadata": {},
   "outputs": [],
   "source": [
    "def find_upper_bound_rho(epsilon, upper_bound_input = - logit(10**(-16))):\n",
    "    rho_1 = upper_bound_input / epsilon\n",
    "    return rho_1"
   ]
  },
  {
   "cell_type": "code",
   "execution_count": 142,
   "id": "136803a4",
   "metadata": {},
   "outputs": [
    {
     "data": {
      "text/plain": [
       "73.68272297580945"
      ]
     },
     "execution_count": 142,
     "metadata": {},
     "output_type": "execute_result"
    }
   ],
   "source": [
    "find_upper_bound_rho(0.5)"
   ]
  },
  {
   "cell_type": "markdown",
   "id": "62fcb628",
   "metadata": {},
   "source": [
    "## Choice of $\\rho_0$\n",
    "\n",
    "- $\\rho$ must be chosen in such a way, that the probability of interaction of two nodes with the same opinion is greater than $p_1$.\n",
    "\n",
    "That is,\n",
    "\n",
    "$\\sigma (\\rho (\\epsilon - 0)) > p_1$\n",
    "\n",
    "$\\sigma (\\rho (\\epsilon)) > p_1$\n",
    "\n",
    "$\\rho * \\epsilon > logit(p_1) $\n",
    "\n",
    "$\\rho > \\frac{logit(p_1)}{\\epsilon}$\n",
    "\n",
    "- $\\rho$ must be chosen in such a way, that the probability of interaction of two nodes with the opposing opinions is lower to $p_2$.\n",
    "\n",
    "That is,\n",
    "\n",
    "$\\sigma (\\rho (\\epsilon - 1)) < p_2$\n",
    "\n",
    "$1 - \\sigma (\\rho (1 - \\epsilon)) < p_2$\n",
    "\n",
    "$\\sigma (\\rho (1 - \\epsilon)) > 1 - p_2$\n",
    "\n",
    "\n",
    "$\\rho > \\frac{logit(1 - p_2)}{1 - \\epsilon}$\n",
    " \n",
    "- Hence,\n",
    "\n",
    "$\\rho_0 = min (\\frac{logit(p_1)}{\\epsilon}, \\frac{logit(1 - p_2)}{1 - \\epsilon})$"
   ]
  },
  {
   "cell_type": "code",
   "execution_count": 140,
   "id": "9a1f72fa",
   "metadata": {},
   "outputs": [],
   "source": [
    "#p1 = probability of interaction of two nodes with same opinions\n",
    "#p2 = probability of non interaction of two nodes with opposing opinions\n",
    "#epsilon should be close to the extremes, because these probabilities are closer to 0.5 for for epsilon near 0 and 1\n",
    "def find_lower_bound_rho(p1, p2, epsilon):\n",
    "    rho_0 = max(logit(p1) / epsilon, logit(1 - p2) / (1 - epsilon))\n",
    "    return rho_0"
   ]
  },
  {
   "cell_type": "code",
   "execution_count": 139,
   "id": "9d934d2e",
   "metadata": {},
   "outputs": [
    {
     "data": {
      "text/plain": [
       "58.888779583328784"
      ]
     },
     "execution_count": 139,
     "metadata": {},
     "output_type": "execute_result"
    }
   ],
   "source": [
    "find_lower_bound_rho(0.95, 0.05, 0.05)"
   ]
  },
  {
   "cell_type": "markdown",
   "id": "2d1988aa",
   "metadata": {},
   "source": [
    "### Torch\n",
    "Let's retry the same estimation with `torch.sigmoid`, instead of `sigmoid`, since the precision is different."
   ]
  },
  {
   "cell_type": "code",
   "execution_count": 1,
   "id": "f975ca67",
   "metadata": {},
   "outputs": [],
   "source": [
    "import torch"
   ]
  },
  {
   "cell_type": "code",
   "execution_count": 3,
   "id": "cc376d0a",
   "metadata": {},
   "outputs": [
    {
     "data": {
      "text/plain": [
       "[(0, 0.0),\n",
       " (1, 0.8999999761581421),\n",
       " (2, 0.9900000095367432),\n",
       " (3, 0.9990000128746033),\n",
       " (4, 0.9998999834060669),\n",
       " (5, 0.9999899864196777),\n",
       " (6, 0.9999989867210388),\n",
       " (7, 0.9999998807907104),\n",
       " (8, 1.0),\n",
       " (9, 1.0),\n",
       " (10, 1.0),\n",
       " (11, 1.0),\n",
       " (12, 1.0),\n",
       " (13, 1.0),\n",
       " (14, 1.0),\n",
       " (15, 1.0),\n",
       " (16, 1.0),\n",
       " (17, 1.0),\n",
       " (18, 1.0),\n",
       " (19, 1.0),\n",
       " (20, 1.0),\n",
       " (21, 1.0),\n",
       " (22, 1.0),\n",
       " (23, 1.0),\n",
       " (24, 1.0),\n",
       " (25, 1.0),\n",
       " (26, 1.0),\n",
       " (27, 1.0),\n",
       " (28, 1.0),\n",
       " (29, 1.0)]"
      ]
     },
     "execution_count": 3,
     "metadata": {},
     "output_type": "execute_result"
    }
   ],
   "source": [
    "[(i, torch.Tensor([1 - 10**(-i)]).item()) for i in range(30)]"
   ]
  },
  {
   "cell_type": "code",
   "execution_count": 6,
   "id": "af0003f7",
   "metadata": {
    "scrolled": false
   },
   "outputs": [
    {
     "data": {
      "text/plain": [
       "[(0, False),\n",
       " (1, False),\n",
       " (2, False),\n",
       " (3, False),\n",
       " (4, False),\n",
       " (5, False),\n",
       " (6, False),\n",
       " (7, False),\n",
       " (8, True),\n",
       " (9, True),\n",
       " (10, True),\n",
       " (11, True),\n",
       " (12, True),\n",
       " (13, True),\n",
       " (14, True),\n",
       " (15, True),\n",
       " (16, True),\n",
       " (17, True),\n",
       " (18, True),\n",
       " (19, True),\n",
       " (20, True),\n",
       " (21, True),\n",
       " (22, True),\n",
       " (23, True),\n",
       " (24, True),\n",
       " (25, True),\n",
       " (26, True),\n",
       " (27, True),\n",
       " (28, True),\n",
       " (29, True)]"
      ]
     },
     "execution_count": 6,
     "metadata": {},
     "output_type": "execute_result"
    }
   ],
   "source": [
    "list(enumerate(np.isclose([torch.Tensor([1 - 10**(-i)]).item() for i in range(30)], np.repeat(1, 30), atol = 10e-30, rtol = 0)))"
   ]
  },
  {
   "cell_type": "code",
   "execution_count": 7,
   "id": "a3e26b9f",
   "metadata": {},
   "outputs": [
    {
     "data": {
      "text/plain": [
       "16.118095550958316"
      ]
     },
     "execution_count": 7,
     "metadata": {},
     "output_type": "execute_result"
    }
   ],
   "source": [
    "upper_bound_input = - logit(10**(-7))\n",
    "upper_bound_input"
   ]
  },
  {
   "cell_type": "code",
   "execution_count": 8,
   "id": "5604649d",
   "metadata": {},
   "outputs": [],
   "source": [
    "def find_upper_bound_rho(epsilon, upper_bound_input = - logit(10**(-7))):\n",
    "    rho_1 = upper_bound_input / epsilon\n",
    "    return rho_1"
   ]
  },
  {
   "cell_type": "code",
   "execution_count": 9,
   "id": "2348d7bb",
   "metadata": {},
   "outputs": [
    {
     "data": {
      "text/plain": [
       "32.23619110191663"
      ]
     },
     "execution_count": 9,
     "metadata": {},
     "output_type": "execute_result"
    }
   ],
   "source": [
    "find_upper_bound_rho(0.5)"
   ]
  },
  {
   "cell_type": "code",
   "execution_count": null,
   "id": "97542647",
   "metadata": {},
   "outputs": [],
   "source": []
  },
  {
   "cell_type": "code",
   "execution_count": null,
   "id": "3839261b",
   "metadata": {},
   "outputs": [],
   "source": []
  },
  {
   "cell_type": "code",
   "execution_count": null,
   "id": "0889076c",
   "metadata": {},
   "outputs": [],
   "source": []
  },
  {
   "cell_type": "code",
   "execution_count": null,
   "id": "05b33626",
   "metadata": {},
   "outputs": [],
   "source": []
  }
 ],
 "metadata": {
  "kernelspec": {
   "display_name": "Python 3 (ipykernel)",
   "language": "python",
   "name": "python3"
  },
  "language_info": {
   "codemirror_mode": {
    "name": "ipython",
    "version": 3
   },
   "file_extension": ".py",
   "mimetype": "text/x-python",
   "name": "python",
   "nbconvert_exporter": "python",
   "pygments_lexer": "ipython3",
   "version": "3.9.12"
  }
 },
 "nbformat": 4,
 "nbformat_minor": 5
}
